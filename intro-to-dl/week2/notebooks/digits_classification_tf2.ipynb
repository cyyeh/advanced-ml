{
  "nbformat": 4,
  "nbformat_minor": 0,
  "metadata": {
    "colab": {
      "name": "digits_classification_tf2.ipynb",
      "provenance": [],
      "toc_visible": true,
      "authorship_tag": "ABX9TyM7iBSvtKxAtIwhlMZGzM1i",
      "include_colab_link": true
    },
    "kernelspec": {
      "name": "python3",
      "display_name": "Python 3"
    },
    "accelerator": "GPU"
  },
  "cells": [
    {
      "cell_type": "markdown",
      "metadata": {
        "id": "view-in-github",
        "colab_type": "text"
      },
      "source": [
        "<a href=\"https://colab.research.google.com/github/cyyeh/advanced-ml/blob/master/intro-to-dl/week2/notebooks/digits_classification_tf2.ipynb\" target=\"_parent\"><img src=\"https://colab.research.google.com/assets/colab-badge.svg\" alt=\"Open In Colab\"/></a>"
      ]
    },
    {
      "cell_type": "code",
      "metadata": {
        "id": "lMasL5D6RiP6",
        "colab_type": "code",
        "colab": {
          "base_uri": "https://localhost:8080/",
          "height": 34
        },
        "outputId": "b284cbf9-44c0-4a85-ce83-d75f75fe639e"
      },
      "source": [
        "# set tf 2.x for colab\n",
        "%tensorflow_version 2.x"
      ],
      "execution_count": 1,
      "outputs": [
        {
          "output_type": "stream",
          "text": [
            "TensorFlow 2.x selected.\n"
          ],
          "name": "stdout"
        }
      ]
    },
    {
      "cell_type": "markdown",
      "metadata": {
        "id": "zkesvqZtRwKZ",
        "colab_type": "text"
      },
      "source": [
        "# MNIST digits classification with TensorFlow"
      ]
    },
    {
      "cell_type": "markdown",
      "metadata": {
        "id": "4TFE8DtPR0Df",
        "colab_type": "text"
      },
      "source": [
        "<img src=\"https://github.com/cyyeh/advanced-ml/blob/master/intro-to-dl/week2/notebooks/v2/images/mnist_sample.png?raw=1\" style=\"width:30%\">"
      ]
    },
    {
      "cell_type": "code",
      "metadata": {
        "id": "zJDqVCwvRrsa",
        "colab_type": "code",
        "colab": {
          "base_uri": "https://localhost:8080/",
          "height": 34
        },
        "outputId": "d7d5f84f-7d3e-43c2-9065-62457d2d4225"
      },
      "source": [
        "import numpy as np\n",
        "from sklearn.metrics import accuracy_score\n",
        "from matplotlib import pyplot as plt\n",
        "%matplotlib inline\n",
        "import tensorflow as tf\n",
        "print(\"We're using TF\", tf.__version__)"
      ],
      "execution_count": 13,
      "outputs": [
        {
          "output_type": "stream",
          "text": [
            "We're using TF 2.1.0\n"
          ],
          "name": "stdout"
        }
      ]
    },
    {
      "cell_type": "markdown",
      "metadata": {
        "id": "Hm4ZeiWTSDVq",
        "colab_type": "text"
      },
      "source": [
        "# Look at the data\n",
        "\n",
        "In this task we have 50000 28x28 images of digits from 0 to 9.\n",
        "We will train a classifier on this data."
      ]
    },
    {
      "cell_type": "code",
      "metadata": {
        "id": "T8zpp7SVR98Q",
        "colab_type": "code",
        "colab": {}
      },
      "source": [
        "(X_train, y_train), (X_test, y_test) = tf.keras.datasets.mnist.load_data(\n",
        "    path='mnist.npz'\n",
        ")"
      ],
      "execution_count": 0,
      "outputs": []
    },
    {
      "cell_type": "code",
      "metadata": {
        "id": "w0wFrKmpSfld",
        "colab_type": "code",
        "colab": {
          "base_uri": "https://localhost:8080/",
          "height": 34
        },
        "outputId": "45cb341c-33f4-47dc-8134-bf2b8e8f4220"
      },
      "source": [
        "X_train.shape, y_train.shape"
      ],
      "execution_count": 18,
      "outputs": [
        {
          "output_type": "execute_result",
          "data": {
            "text/plain": [
              "((60000, 28, 28), (60000,))"
            ]
          },
          "metadata": {
            "tags": []
          },
          "execution_count": 18
        }
      ]
    },
    {
      "cell_type": "markdown",
      "metadata": {
        "id": "qz9Z8YfaTkid",
        "colab_type": "text"
      },
      "source": [
        "Normalize data and reserve the last 10000 training examples for validation"
      ]
    },
    {
      "cell_type": "code",
      "metadata": {
        "id": "BdDDgygHTXCg",
        "colab_type": "code",
        "colab": {}
      },
      "source": [
        "# normalize x\n",
        "X_train = X_train.astype(float) / 255.\n",
        "X_test = X_test.astype(float) / 255.\n",
        "\n",
        "# we reserve the last 10000 training examples for validation\n",
        "X_train, X_val = X_train[:-10000], X_train[-10000:]\n",
        "y_train, y_val = y_train[:-10000], y_train[-10000:]\n",
        "\n",
        "assert X_train.shape[0] == 50000, f\"X_train size should be 50000, but we got {X_train.shape[0]}\"\n",
        "assert X_val.shape[0] == 10000, f\"X_val size should be 10000, but we got {X_val.shape[0]}\"\n",
        "assert y_train.shape[0] == 50000, f\"y_train size should be 50000, but we got {y_train.shape[0]}\"\n",
        "assert y_val.shape[0] == 10000, f\"y_val size should be 10000, but we got {y_val.shape[0]}\""
      ],
      "execution_count": 0,
      "outputs": []
    },
    {
      "cell_type": "code",
      "metadata": {
        "id": "h5zpf1ceT0OD",
        "colab_type": "code",
        "colab": {
          "base_uri": "https://localhost:8080/",
          "height": 683
        },
        "outputId": "1296adda-dd8d-4b84-920a-6880bc9bba56"
      },
      "source": [
        "# X contains rgb values divided by 255\n",
        "print(\"X_train [shape %s] sample patch:\\n\" % (str(X_train.shape)), X_train[1, 15:20, 5:10])\n",
        "print(\"A closeup of a sample patch:\")\n",
        "plt.imshow(X_train[1, 15:20, 5:10], cmap=\"Greys\")\n",
        "plt.show()\n",
        "print(\"And the whole sample:\")\n",
        "plt.imshow(X_train[1], cmap=\"Greys\")\n",
        "plt.show()\n",
        "print(\"y_train [shape %s] 10 samples:\\n\" % (str(y_train.shape)), y_train[:10])"
      ],
      "execution_count": 20,
      "outputs": [
        {
          "output_type": "stream",
          "text": [
            "X_train [shape (50000, 28, 28)] sample patch:\n",
            " [[0.         0.29803922 0.96470588 0.98823529 0.43921569]\n",
            " [0.         0.33333333 0.98823529 0.90196078 0.09803922]\n",
            " [0.         0.33333333 0.98823529 0.8745098  0.        ]\n",
            " [0.         0.33333333 0.98823529 0.56862745 0.        ]\n",
            " [0.         0.3372549  0.99215686 0.88235294 0.        ]]\n",
            "A closeup of a sample patch:\n"
          ],
          "name": "stdout"
        },
        {
          "output_type": "display_data",
          "data": {
            "image/png": "[encoded data removed]",
            "text/plain": [
              "<Figure size 432x288 with 1 Axes>"
            ]
          },
          "metadata": {
            "tags": []
          }
        },
        {
          "output_type": "stream",
          "text": [
            "And the whole sample:\n"
          ],
          "name": "stdout"
        },
        {
          "output_type": "display_data",
          "data": {
            "image/png": "[encoded data removed]",
            "text/plain": [
              "<Figure size 432x288 with 1 Axes>"
            ]
          },
          "metadata": {
            "tags": []
          }
        },
        {
          "output_type": "stream",
          "text": [
            "y_train [shape (50000,)] 10 samples:\n",
            " [5 0 4 1 9 2 1 3 1 4]\n"
          ],
          "name": "stdout"
        }
      ]
    },
    {
      "cell_type": "markdown",
      "metadata": {
        "id": "ZPTZOQ3IU9Zq",
        "colab_type": "text"
      },
      "source": [
        "# Linear model\n",
        "\n",
        "Your task is to train a linear classifier $\\vec{x} \\rightarrow y$ with SGD using TensorFlow.\n",
        "\n",
        "You will need to calculate a logit (a linear transformation) $z_k$ for each class: \n",
        "$$z_k = \\vec{x} \\cdot \\vec{w_k} + b_k \\quad k = 0..9$$\n",
        "\n",
        "And transform logits $z_k$ to valid probabilities $p_k$ with softmax: \n",
        "$$p_k = \\frac{e^{z_k}}{\\sum_{i=0}^{9}{e^{z_i}}} \\quad k = 0..9$$\n",
        "\n",
        "We will use a cross-entropy loss to train our multi-class classifier:\n",
        "$$\\text{cross-entropy}(y, p) = -\\sum_{k=0}^{9}{\\log(p_k)[y = k]}$$ \n",
        "\n",
        "where \n",
        "$$\n",
        "[x]=\\begin{cases}\n",
        "       1, \\quad \\text{if $x$ is true} \\\\\n",
        "       0, \\quad \\text{otherwise}\n",
        "    \\end{cases}\n",
        "$$\n",
        "\n",
        "Cross-entropy minimization pushes $p_k$ close to 1 when $y = k$, which is what we want.\n",
        "\n",
        "Here's the plan:\n",
        "* Flatten the images (28x28 -> 784) with `X_train.reshape((X_train.shape[0], -1))` to simplify our linear model implementation\n",
        "* Use a matrix placeholder for flattened `X_train`\n",
        "* Convert `y_train` to one-hot encoded vectors that are needed for cross-entropy\n",
        "* Use a shared variable `W` for all weights (a column $\\vec{w_k}$ per class) and `b` for all biases.\n",
        "* Aim for ~0.93 validation accuracy"
      ]
    },
    {
      "cell_type": "code",
      "metadata": {
        "id": "zvIiPf34UwRF",
        "colab_type": "code",
        "colab": {
          "base_uri": "https://localhost:8080/",
          "height": 51
        },
        "outputId": "3f3567d8-d567-4946-a3d0-f18dfd9a36f9"
      },
      "source": [
        "X_train_flat = X_train.reshape((X_train.shape[0], -1))\n",
        "print(X_train_flat.shape)\n",
        "\n",
        "X_val_flat = X_val.reshape((X_val.shape[0], -1))\n",
        "print(X_val_flat.shape)"
      ],
      "execution_count": 52,
      "outputs": [
        {
          "output_type": "stream",
          "text": [
            "(50000, 784)\n",
            "(10000, 784)\n"
          ],
          "name": "stdout"
        }
      ]
    },
    {
      "cell_type": "code",
      "metadata": {
        "id": "j26BBJb6VN_6",
        "colab_type": "code",
        "colab": {
          "base_uri": "https://localhost:8080/",
          "height": 85
        },
        "outputId": "8ce3635b-610e-4e95-fbff-4c0bf520f475"
      },
      "source": [
        "# one-hot encoding\n",
        "y_train_oh = tf.keras.utils.to_categorical(y_train, 10)\n",
        "y_val_oh = tf.keras.utils.to_categorical(y_val, 10)\n",
        "\n",
        "print(y_train_oh.shape)\n",
        "print(y_train_oh[:3], y_train[:3])"
      ],
      "execution_count": 53,
      "outputs": [
        {
          "output_type": "stream",
          "text": [
            "(50000, 10)\n",
            "[[0. 0. 0. 0. 0. 1. 0. 0. 0. 0.]\n",
            " [1. 0. 0. 0. 0. 0. 0. 0. 0. 0.]\n",
            " [0. 0. 0. 0. 1. 0. 0. 0. 0. 0.]] [5 0 4]\n"
          ],
          "name": "stdout"
        }
      ]
    },
    {
      "cell_type": "code",
      "metadata": {
        "id": "UXPWlFhYb-Gr",
        "colab_type": "code",
        "colab": {}
      },
      "source": [
        "EPOCHS = 40\n",
        "BATCH_SIZE = 512\n",
        "BUFFER_SIZE = 1024"
      ],
      "execution_count": 0,
      "outputs": []
    },
    {
      "cell_type": "code",
      "metadata": {
        "id": "qFPHT-K_hSf8",
        "colab_type": "code",
        "colab": {}
      },
      "source": [
        "train_dataset = (\n",
        "    tf.data.Dataset\n",
        "    .from_tensor_slices((X_train_flat, y_train_oh))\n",
        "    .shuffle(buffer_size=BUFFER_SIZE)\n",
        "    .batch(BATCH_SIZE)\n",
        ")\n",
        "\n",
        "val_dataset = (\n",
        "    tf.data.Dataset\n",
        "    .from_tensor_slices((X_val_flat, y_val_oh))\n",
        "    .batch(BATCH_SIZE)\n",
        ")"
      ],
      "execution_count": 0,
      "outputs": []
    },
    {
      "cell_type": "markdown",
      "metadata": {
        "id": "3eOsq1tHbnTC",
        "colab_type": "text"
      },
      "source": [
        "# Method 1 For Building the Model"
      ]
    },
    {
      "cell_type": "code",
      "metadata": {
        "id": "VE-f3BoVVnZa",
        "colab_type": "code",
        "colab": {
          "base_uri": "https://localhost:8080/",
          "height": 1000
        },
        "outputId": "ec5a7710-7038-41e7-ab29-e37b8eb2e3b9"
      },
      "source": [
        "model = tf.keras.Sequential([\n",
        "    tf.keras.layers.Flatten(input_shape=(784,)),\n",
        "    tf.keras.layers.Dense(256, activation='relu'),\n",
        "    tf.keras.layers.Dense(10, activation='softmax')\n",
        "])\n",
        "\n",
        "model.compile(\n",
        "    optimizer='adam',\n",
        "    loss=tf.keras.losses.CategoricalCrossentropy(from_logits=False),\n",
        "    metrics=['accuracy']\n",
        ")\n",
        "\n",
        "model.fit(train_dataset, validation_data=val_dataset, epochs=EPOCHS)"
      ],
      "execution_count": 31,
      "outputs": [
        {
          "output_type": "stream",
          "text": [
            "Train for 98 steps, validate for 20 steps\n",
            "Epoch 1/40\n",
            "98/98 [==============================] - 1s 10ms/step - loss: 0.5360 - accuracy: 0.8594 - val_loss: 0.2476 - val_accuracy: 0.9317\n",
            "Epoch 2/40\n",
            "98/98 [==============================] - 1s 8ms/step - loss: 0.2316 - accuracy: 0.9352 - val_loss: 0.1893 - val_accuracy: 0.9496\n",
            "Epoch 3/40\n",
            "98/98 [==============================] - 1s 8ms/step - loss: 0.1760 - accuracy: 0.9503 - val_loss: 0.1550 - val_accuracy: 0.9587\n",
            "Epoch 4/40\n",
            "98/98 [==============================] - 1s 8ms/step - loss: 0.1418 - accuracy: 0.9590 - val_loss: 0.1364 - val_accuracy: 0.9634\n",
            "Epoch 5/40\n",
            "98/98 [==============================] - 1s 8ms/step - loss: 0.1182 - accuracy: 0.9663 - val_loss: 0.1217 - val_accuracy: 0.9673\n",
            "Epoch 6/40\n",
            "98/98 [==============================] - 1s 8ms/step - loss: 0.0998 - accuracy: 0.9725 - val_loss: 0.1128 - val_accuracy: 0.9696\n",
            "Epoch 7/40\n",
            "98/98 [==============================] - 1s 7ms/step - loss: 0.0852 - accuracy: 0.9764 - val_loss: 0.1048 - val_accuracy: 0.9713\n",
            "Epoch 8/40\n",
            "98/98 [==============================] - 1s 8ms/step - loss: 0.0745 - accuracy: 0.9799 - val_loss: 0.0993 - val_accuracy: 0.9721\n",
            "Epoch 9/40\n",
            "98/98 [==============================] - 1s 8ms/step - loss: 0.0649 - accuracy: 0.9822 - val_loss: 0.0943 - val_accuracy: 0.9722\n",
            "Epoch 10/40\n",
            "98/98 [==============================] - 1s 7ms/step - loss: 0.0570 - accuracy: 0.9848 - val_loss: 0.0905 - val_accuracy: 0.9734\n",
            "Epoch 11/40\n",
            "98/98 [==============================] - 1s 8ms/step - loss: 0.0500 - accuracy: 0.9871 - val_loss: 0.0867 - val_accuracy: 0.9751\n",
            "Epoch 12/40\n",
            "98/98 [==============================] - 1s 8ms/step - loss: 0.0446 - accuracy: 0.9888 - val_loss: 0.0835 - val_accuracy: 0.9748\n",
            "Epoch 13/40\n",
            "98/98 [==============================] - 1s 7ms/step - loss: 0.0392 - accuracy: 0.9904 - val_loss: 0.0821 - val_accuracy: 0.9769\n",
            "Epoch 14/40\n",
            "98/98 [==============================] - 1s 8ms/step - loss: 0.0352 - accuracy: 0.9918 - val_loss: 0.0818 - val_accuracy: 0.9764\n",
            "Epoch 15/40\n",
            "98/98 [==============================] - 1s 8ms/step - loss: 0.0319 - accuracy: 0.9929 - val_loss: 0.0815 - val_accuracy: 0.9768\n",
            "Epoch 16/40\n",
            "98/98 [==============================] - 1s 8ms/step - loss: 0.0285 - accuracy: 0.9938 - val_loss: 0.0800 - val_accuracy: 0.9773\n",
            "Epoch 17/40\n",
            "98/98 [==============================] - 1s 8ms/step - loss: 0.0252 - accuracy: 0.9948 - val_loss: 0.0793 - val_accuracy: 0.9762\n",
            "Epoch 18/40\n",
            "98/98 [==============================] - 1s 8ms/step - loss: 0.0227 - accuracy: 0.9955 - val_loss: 0.0794 - val_accuracy: 0.9769\n",
            "Epoch 19/40\n",
            "98/98 [==============================] - 1s 8ms/step - loss: 0.0203 - accuracy: 0.9963 - val_loss: 0.0785 - val_accuracy: 0.9775\n",
            "Epoch 20/40\n",
            "98/98 [==============================] - 1s 8ms/step - loss: 0.0183 - accuracy: 0.9970 - val_loss: 0.0787 - val_accuracy: 0.9778\n",
            "Epoch 21/40\n",
            "98/98 [==============================] - 1s 7ms/step - loss: 0.0164 - accuracy: 0.9975 - val_loss: 0.0798 - val_accuracy: 0.9769\n",
            "Epoch 22/40\n",
            "98/98 [==============================] - 1s 8ms/step - loss: 0.0148 - accuracy: 0.9980 - val_loss: 0.0786 - val_accuracy: 0.9779\n",
            "Epoch 23/40\n",
            "98/98 [==============================] - 1s 8ms/step - loss: 0.0131 - accuracy: 0.9984 - val_loss: 0.0806 - val_accuracy: 0.9768\n",
            "Epoch 24/40\n",
            "98/98 [==============================] - 1s 7ms/step - loss: 0.0120 - accuracy: 0.9987 - val_loss: 0.0803 - val_accuracy: 0.9778\n",
            "Epoch 25/40\n",
            "98/98 [==============================] - 1s 7ms/step - loss: 0.0107 - accuracy: 0.9989 - val_loss: 0.0847 - val_accuracy: 0.9769\n",
            "Epoch 26/40\n",
            "98/98 [==============================] - 1s 8ms/step - loss: 0.0097 - accuracy: 0.9992 - val_loss: 0.0840 - val_accuracy: 0.9772\n",
            "Epoch 27/40\n",
            "98/98 [==============================] - 1s 8ms/step - loss: 0.0088 - accuracy: 0.9992 - val_loss: 0.0863 - val_accuracy: 0.9768\n",
            "Epoch 28/40\n",
            "98/98 [==============================] - 1s 8ms/step - loss: 0.0081 - accuracy: 0.9993 - val_loss: 0.0835 - val_accuracy: 0.9780\n",
            "Epoch 29/40\n",
            "98/98 [==============================] - 1s 8ms/step - loss: 0.0070 - accuracy: 0.9996 - val_loss: 0.0855 - val_accuracy: 0.9779\n",
            "Epoch 30/40\n",
            "98/98 [==============================] - 1s 8ms/step - loss: 0.0064 - accuracy: 0.9996 - val_loss: 0.0850 - val_accuracy: 0.9781\n",
            "Epoch 31/40\n",
            "98/98 [==============================] - 1s 8ms/step - loss: 0.0057 - accuracy: 0.9997 - val_loss: 0.0855 - val_accuracy: 0.9780\n",
            "Epoch 32/40\n",
            "98/98 [==============================] - 1s 8ms/step - loss: 0.0053 - accuracy: 0.9997 - val_loss: 0.0850 - val_accuracy: 0.9791\n",
            "Epoch 33/40\n",
            "98/98 [==============================] - 1s 8ms/step - loss: 0.0047 - accuracy: 0.9998 - val_loss: 0.0840 - val_accuracy: 0.9794\n",
            "Epoch 34/40\n",
            "98/98 [==============================] - 1s 8ms/step - loss: 0.0043 - accuracy: 0.9998 - val_loss: 0.0845 - val_accuracy: 0.9791\n",
            "Epoch 35/40\n",
            "98/98 [==============================] - 1s 8ms/step - loss: 0.0038 - accuracy: 0.9999 - val_loss: 0.0862 - val_accuracy: 0.9789\n",
            "Epoch 36/40\n",
            "98/98 [==============================] - 1s 8ms/step - loss: 0.0035 - accuracy: 0.9999 - val_loss: 0.0864 - val_accuracy: 0.9792\n",
            "Epoch 37/40\n",
            "98/98 [==============================] - 1s 8ms/step - loss: 0.0032 - accuracy: 0.9999 - val_loss: 0.0855 - val_accuracy: 0.9792\n",
            "Epoch 38/40\n",
            "98/98 [==============================] - 1s 8ms/step - loss: 0.0029 - accuracy: 0.9999 - val_loss: 0.0858 - val_accuracy: 0.9801\n",
            "Epoch 39/40\n",
            "98/98 [==============================] - 1s 8ms/step - loss: 0.0027 - accuracy: 1.0000 - val_loss: 0.0869 - val_accuracy: 0.9791\n",
            "Epoch 40/40\n",
            "98/98 [==============================] - 1s 7ms/step - loss: 0.0024 - accuracy: 1.0000 - val_loss: 0.0872 - val_accuracy: 0.9798\n"
          ],
          "name": "stdout"
        },
        {
          "output_type": "execute_result",
          "data": {
            "text/plain": [
              "<tensorflow.python.keras.callbacks.History at 0x7f6edbee7eb8>"
            ]
          },
          "metadata": {
            "tags": []
          },
          "execution_count": 31
        }
      ]
    },
    {
      "cell_type": "markdown",
      "metadata": {
        "id": "PITx7MufcHLS",
        "colab_type": "text"
      },
      "source": [
        "# Method 2 For Building the Model"
      ]
    },
    {
      "cell_type": "code",
      "metadata": {
        "id": "ODFYZp4lZO5e",
        "colab_type": "code",
        "colab": {}
      },
      "source": [
        "from tensorflow import keras\n",
        "\n",
        "class DigitsClassificationMLP(keras.models.Model):\n",
        "  def __init__(self, units=256, activation='relu', **kwargs):\n",
        "    super(DigitsClassificationMLP, self).__init__(**kwargs)\n",
        "    self.hidden1 = keras.layers.Dense(units, activation=activation)\n",
        "    self.hidden2 = keras.layers.Dense(units, activation=activation)\n",
        "    self.main_outputs = keras.layers.Dense(10, activation='softmax')\n",
        "\n",
        "  def call(self, inputs):\n",
        "    hidden1_out = self.hidden1(inputs)\n",
        "    hidden2_out = self.hidden2(hidden1_out)\n",
        "    outputs = self.main_outputs(hidden2_out)\n",
        "    return outputs"
      ],
      "execution_count": 0,
      "outputs": []
    },
    {
      "cell_type": "code",
      "metadata": {
        "id": "0zrYgcYKdQ0k",
        "colab_type": "code",
        "colab": {
          "base_uri": "https://localhost:8080/",
          "height": 1000
        },
        "outputId": "7046be0a-76a4-411a-9de4-2423abba3140"
      },
      "source": [
        "# initiate the model\n",
        "model = DigitsClassificationMLP()\n",
        "\n",
        "model.compile(\n",
        "    optimizer='adam',\n",
        "    loss=keras.losses.CategoricalCrossentropy(from_logits=False),\n",
        "    metrics=['accuracy']\n",
        ")\n",
        "\n",
        "model.fit(train_dataset, validation_data=val_dataset, epochs=EPOCHS)"
      ],
      "execution_count": 64,
      "outputs": [
        {
          "output_type": "stream",
          "text": [
            "Train for 98 steps, validate for 20 steps\n",
            "Epoch 1/40\n",
            "98/98 [==============================] - 1s 11ms/step - loss: 0.4726 - accuracy: 0.8717 - val_loss: 0.1950 - val_accuracy: 0.9454\n",
            "Epoch 2/40\n",
            "98/98 [==============================] - 1s 7ms/step - loss: 0.1840 - accuracy: 0.9464 - val_loss: 0.1401 - val_accuracy: 0.9601\n",
            "Epoch 3/40\n",
            "98/98 [==============================] - 1s 7ms/step - loss: 0.1283 - accuracy: 0.9627 - val_loss: 0.1151 - val_accuracy: 0.9661\n",
            "Epoch 4/40\n",
            "98/98 [==============================] - 1s 7ms/step - loss: 0.0944 - accuracy: 0.9733 - val_loss: 0.1018 - val_accuracy: 0.9703\n",
            "Epoch 5/40\n",
            "98/98 [==============================] - 1s 7ms/step - loss: 0.0722 - accuracy: 0.9791 - val_loss: 0.0992 - val_accuracy: 0.9705\n",
            "Epoch 6/40\n",
            "98/98 [==============================] - 1s 7ms/step - loss: 0.0565 - accuracy: 0.9835 - val_loss: 0.0937 - val_accuracy: 0.9736\n",
            "Epoch 7/40\n",
            "98/98 [==============================] - 1s 7ms/step - loss: 0.0454 - accuracy: 0.9874 - val_loss: 0.0946 - val_accuracy: 0.9731\n",
            "Epoch 8/40\n",
            "98/98 [==============================] - 1s 7ms/step - loss: 0.0373 - accuracy: 0.9901 - val_loss: 0.0937 - val_accuracy: 0.9747\n",
            "Epoch 9/40\n",
            "98/98 [==============================] - 1s 7ms/step - loss: 0.0299 - accuracy: 0.9918 - val_loss: 0.0947 - val_accuracy: 0.9733\n",
            "Epoch 10/40\n",
            "98/98 [==============================] - 1s 7ms/step - loss: 0.0238 - accuracy: 0.9939 - val_loss: 0.0924 - val_accuracy: 0.9754\n",
            "Epoch 11/40\n",
            "98/98 [==============================] - 1s 7ms/step - loss: 0.0197 - accuracy: 0.9951 - val_loss: 0.0904 - val_accuracy: 0.9746\n",
            "Epoch 12/40\n",
            "98/98 [==============================] - 1s 7ms/step - loss: 0.0165 - accuracy: 0.9961 - val_loss: 0.0867 - val_accuracy: 0.9766\n",
            "Epoch 13/40\n",
            "98/98 [==============================] - 1s 7ms/step - loss: 0.0132 - accuracy: 0.9970 - val_loss: 0.0902 - val_accuracy: 0.9770\n",
            "Epoch 14/40\n",
            "98/98 [==============================] - 1s 7ms/step - loss: 0.0107 - accuracy: 0.9980 - val_loss: 0.0980 - val_accuracy: 0.9741\n",
            "Epoch 15/40\n",
            "98/98 [==============================] - 1s 7ms/step - loss: 0.0092 - accuracy: 0.9981 - val_loss: 0.0961 - val_accuracy: 0.9765\n",
            "Epoch 16/40\n",
            "98/98 [==============================] - 1s 7ms/step - loss: 0.0069 - accuracy: 0.9989 - val_loss: 0.0937 - val_accuracy: 0.9780\n",
            "Epoch 17/40\n",
            "98/98 [==============================] - 1s 7ms/step - loss: 0.0071 - accuracy: 0.9984 - val_loss: 0.1005 - val_accuracy: 0.9762\n",
            "Epoch 18/40\n",
            "98/98 [==============================] - 1s 7ms/step - loss: 0.0049 - accuracy: 0.9993 - val_loss: 0.0944 - val_accuracy: 0.9790\n",
            "Epoch 19/40\n",
            "98/98 [==============================] - 1s 7ms/step - loss: 0.0043 - accuracy: 0.9994 - val_loss: 0.0926 - val_accuracy: 0.9790\n",
            "Epoch 20/40\n",
            "98/98 [==============================] - 1s 7ms/step - loss: 0.0041 - accuracy: 0.9994 - val_loss: 0.0939 - val_accuracy: 0.9799\n",
            "Epoch 21/40\n",
            "98/98 [==============================] - 1s 7ms/step - loss: 0.0026 - accuracy: 0.9999 - val_loss: 0.1046 - val_accuracy: 0.9782\n",
            "Epoch 22/40\n",
            "98/98 [==============================] - 1s 7ms/step - loss: 0.0023 - accuracy: 0.9999 - val_loss: 0.1009 - val_accuracy: 0.9785\n",
            "Epoch 23/40\n",
            "98/98 [==============================] - 1s 7ms/step - loss: 0.0023 - accuracy: 0.9998 - val_loss: 0.1080 - val_accuracy: 0.9779\n",
            "Epoch 24/40\n",
            "98/98 [==============================] - 1s 7ms/step - loss: 0.0039 - accuracy: 0.9993 - val_loss: 0.1044 - val_accuracy: 0.9782\n",
            "Epoch 25/40\n",
            "98/98 [==============================] - 1s 7ms/step - loss: 0.0026 - accuracy: 0.9997 - val_loss: 0.1038 - val_accuracy: 0.9784\n",
            "Epoch 26/40\n",
            "98/98 [==============================] - 1s 7ms/step - loss: 0.0037 - accuracy: 0.9990 - val_loss: 0.1041 - val_accuracy: 0.9792\n",
            "Epoch 27/40\n",
            "98/98 [==============================] - 1s 7ms/step - loss: 0.0058 - accuracy: 0.9982 - val_loss: 0.1085 - val_accuracy: 0.9774\n",
            "Epoch 28/40\n",
            "98/98 [==============================] - 1s 7ms/step - loss: 0.0101 - accuracy: 0.9968 - val_loss: 0.1154 - val_accuracy: 0.9771\n",
            "Epoch 29/40\n",
            "98/98 [==============================] - 1s 7ms/step - loss: 0.0081 - accuracy: 0.9972 - val_loss: 0.1194 - val_accuracy: 0.9770\n",
            "Epoch 30/40\n",
            "98/98 [==============================] - 1s 7ms/step - loss: 0.0036 - accuracy: 0.9990 - val_loss: 0.1281 - val_accuracy: 0.9762\n",
            "Epoch 31/40\n",
            "98/98 [==============================] - 1s 7ms/step - loss: 0.0024 - accuracy: 0.9995 - val_loss: 0.1172 - val_accuracy: 0.9795\n",
            "Epoch 32/40\n",
            "98/98 [==============================] - 1s 7ms/step - loss: 0.0022 - accuracy: 0.9995 - val_loss: 0.1236 - val_accuracy: 0.9787\n",
            "Epoch 33/40\n",
            "98/98 [==============================] - 1s 7ms/step - loss: 0.0019 - accuracy: 0.9996 - val_loss: 0.1128 - val_accuracy: 0.9787\n",
            "Epoch 34/40\n",
            "98/98 [==============================] - 1s 7ms/step - loss: 0.0040 - accuracy: 0.9987 - val_loss: 0.1435 - val_accuracy: 0.9740\n",
            "Epoch 35/40\n",
            "98/98 [==============================] - 1s 7ms/step - loss: 0.0043 - accuracy: 0.9986 - val_loss: 0.1247 - val_accuracy: 0.9772\n",
            "Epoch 36/40\n",
            "98/98 [==============================] - 1s 7ms/step - loss: 0.0032 - accuracy: 0.9990 - val_loss: 0.1211 - val_accuracy: 0.9785\n",
            "Epoch 37/40\n",
            "98/98 [==============================] - 1s 7ms/step - loss: 0.0038 - accuracy: 0.9989 - val_loss: 0.1181 - val_accuracy: 0.9787\n",
            "Epoch 38/40\n",
            "98/98 [==============================] - 1s 7ms/step - loss: 0.0032 - accuracy: 0.9991 - val_loss: 0.1238 - val_accuracy: 0.9790\n",
            "Epoch 39/40\n",
            "98/98 [==============================] - 1s 7ms/step - loss: 0.0046 - accuracy: 0.9984 - val_loss: 0.1236 - val_accuracy: 0.9784\n",
            "Epoch 40/40\n",
            "98/98 [==============================] - 1s 7ms/step - loss: 0.0034 - accuracy: 0.9989 - val_loss: 0.1267 - val_accuracy: 0.9797\n"
          ],
          "name": "stdout"
        },
        {
          "output_type": "execute_result",
          "data": {
            "text/plain": [
              "<tensorflow.python.keras.callbacks.History at 0x7f6ea46a6780>"
            ]
          },
          "metadata": {
            "tags": []
          },
          "execution_count": 64
        }
      ]
    },
    {
      "cell_type": "code",
      "metadata": {
        "id": "z6Ajo9qYeucM",
        "colab_type": "code",
        "colab": {}
      },
      "source": [
        ""
      ],
      "execution_count": 0,
      "outputs": []
    }
  ]
}