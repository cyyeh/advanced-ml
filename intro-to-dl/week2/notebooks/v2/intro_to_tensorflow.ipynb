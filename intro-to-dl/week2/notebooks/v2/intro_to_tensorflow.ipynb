{
  "nbformat": 4,
  "nbformat_minor": 0,
  "metadata": {
    "kernelspec": {
      "name": "python3",
      "display_name": "Python 3"
    },
    "language_info": {
      "codemirror_mode": {
        "name": "ipython",
        "version": 3
      },
      "file_extension": ".py",
      "mimetype": "text/x-python",
      "name": "python",
      "nbconvert_exporter": "python",
      "pygments_lexer": "ipython3",
      "version": "3.6.5"
    },
    "colab": {
      "name": "intro_to_tensorflow.ipynb",
      "provenance": [],
      "include_colab_link": true
    },
    "accelerator": "GPU"
  },
  "cells": [
    {
      "cell_type": "markdown",
      "metadata": {
        "id": "view-in-github",
        "colab_type": "text"
      },
      "source": [
        "<a href=\"https://colab.research.google.com/github/cyyeh/advanced-ml/blob/master/intro-to-dl/week2/notebooks/v2/intro_to_tensorflow.ipynb\" target=\"_parent\"><img src=\"https://colab.research.google.com/assets/colab-badge.svg\" alt=\"Open In Colab\"/></a>"
      ]
    },
    {
      "cell_type": "code",
      "metadata": {
        "id": "sBD-y3tgy8Ki",
        "colab_type": "code",
        "colab": {}
      },
      "source": [
        "# set tf 1.x for colab\n",
        "%tensorflow_version 1.x"
      ],
      "execution_count": 0,
      "outputs": []
    },
    {
      "cell_type": "code",
      "metadata": {
        "id": "QQxdW4bq1mXz",
        "colab_type": "code",
        "colab": {
          "base_uri": "https://localhost:8080/",
          "height": 323
        },
        "outputId": "30e5b32b-d967-49ba-9aba-0124906bc819"
      },
      "source": [
        "! shred -u setup_google_colab.py\n",
        "! wget https://raw.githubusercontent.com/hse-aml/intro-to-dl/master/setup_google_colab.py -O setup_google_colab.py\n",
        "import setup_google_colab\n",
        "# please, uncomment the week you're working on\n",
        "# setup_google_colab.setup_week1()\n",
        "setup_google_colab.setup_week2()\n",
        "# setup_google_colab.setup_week2_honor()\n",
        "# setup_google_colab.setup_week3()\n",
        "# setup_google_colab.setup_week4()\n",
        "# setup_google_colab.setup_week5()\n",
        "# setup_google_colab.setup_week6()"
      ],
      "execution_count": 16,
      "outputs": [
        {
          "output_type": "stream",
          "text": [
            "shred: setup_google_colab.py: failed to open for writing: No such file or directory\n",
            "--2020-02-26 04:52:12--  https://raw.githubusercontent.com/hse-aml/intro-to-dl/master/setup_google_colab.py\n",
            "Resolving raw.githubusercontent.com (raw.githubusercontent.com)... 151.101.0.133, 151.101.64.133, 151.101.128.133, ...\n",
            "Connecting to raw.githubusercontent.com (raw.githubusercontent.com)|151.101.0.133|:443... connected.\n",
            "HTTP request sent, awaiting response... 200 OK\n",
            "Length: 3636 (3.6K) [text/plain]\n",
            "Saving to: ‘setup_google_colab.py’\n",
            "\n",
            "setup_google_colab. 100%[===================>]   3.55K  --.-KB/s    in 0s      \n",
            "\n",
            "2020-02-26 04:52:17 (71.3 MB/s) - ‘setup_google_colab.py’ saved [3636/3636]\n",
            "\n",
            "**************************************************\n",
            "inception_v3_weights_tf_dim_ordering_tf_kernels_notop.h5\n",
            "**************************************************\n",
            "cifar-10-batches-py.tar.gz\n",
            "**************************************************\n",
            "mnist.npz\n"
          ],
          "name": "stdout"
        }
      ]
    },
    {
      "cell_type": "markdown",
      "metadata": {
        "id": "7MWkQHBoy8Kn",
        "colab_type": "text"
      },
      "source": [
        "# Intro to TensorFlow\n",
        "\n",
        "This notebook covers the basics of TF and shows you an animation with gradient descent trajectory.\n",
        "<img src=\"https://github.com/cyyeh/advanced-ml/blob/master/intro-to-dl/week2/notebooks/v2/images/gradient_descent.png?raw=1\" style=\"width:50%\">"
      ]
    },
    {
      "cell_type": "markdown",
      "metadata": {
        "id": "1L3O7xVZy8Ko",
        "colab_type": "text"
      },
      "source": [
        "# TensorBoard"
      ]
    },
    {
      "cell_type": "markdown",
      "metadata": {
        "id": "mWC75h_My8Kp",
        "colab_type": "text"
      },
      "source": [
        "**Plase note that if you are running on the Coursera platform, you won't be able to access the tensorboard instance due to the network setup there.**\n",
        "\n",
        "Run `tensorboard --logdir=./tensorboard_logs --port=7007` in bash.\n",
        "\n",
        "If you run the notebook locally, you should be able to access TensorBoard on http://127.0.0.1:7007/"
      ]
    },
    {
      "cell_type": "code",
      "metadata": {
        "id": "fEq6KHt4y8Kq",
        "colab_type": "code",
        "colab": {
          "base_uri": "https://localhost:8080/",
          "height": 207
        },
        "outputId": "1fe31a5e-623f-47ae-cf21-4b24ddd740be"
      },
      "source": [
        "import tensorflow as tf\n",
        "import sys\n",
        "sys.path.append(\"../..\")\n",
        "from keras_utils import reset_tf_session\n",
        "s = reset_tf_session()\n",
        "print(\"We're using TF\", tf.__version__)"
      ],
      "execution_count": 17,
      "outputs": [
        {
          "output_type": "stream",
          "text": [
            "WARNING:tensorflow:From /content/keras_utils.py:68: The name tf.get_default_session is deprecated. Please use tf.compat.v1.get_default_session instead.\n",
            "\n",
            "WARNING:tensorflow:From /usr/local/lib/python3.6/dist-packages/keras/backend/tensorflow_backend.py:79: The name tf.reset_default_graph is deprecated. Please use tf.compat.v1.reset_default_graph instead.\n",
            "\n",
            "WARNING:tensorflow:From /usr/local/lib/python3.6/dist-packages/keras/backend/tensorflow_backend.py:84: The name tf.get_default_graph is deprecated. Please use tf.compat.v1.get_default_graph instead.\n",
            "\n",
            "WARNING:tensorflow:From /content/keras_utils.py:77: The name tf.InteractiveSession is deprecated. Please use tf.compat.v1.InteractiveSession instead.\n",
            "\n",
            "We're using TF 1.15.0\n"
          ],
          "name": "stdout"
        },
        {
          "output_type": "stream",
          "text": [
            "Using TensorFlow backend.\n"
          ],
          "name": "stderr"
        }
      ]
    },
    {
      "cell_type": "markdown",
      "metadata": {
        "id": "zNOrhG7qy8Ks",
        "colab_type": "text"
      },
      "source": [
        "# Warming up\n",
        "For starters, let's implement a python function that computes the sum of squares of numbers from 0 to N-1."
      ]
    },
    {
      "cell_type": "code",
      "metadata": {
        "id": "rt8je9rfy8Kt",
        "colab_type": "code",
        "colab": {}
      },
      "source": [
        "import numpy as np\n",
        "\n",
        "def sum_python(N):\n",
        "    return np.sum(np.arange(N)**2)"
      ],
      "execution_count": 0,
      "outputs": []
    },
    {
      "cell_type": "code",
      "metadata": {
        "id": "IWYlTQmKy8Kw",
        "colab_type": "code",
        "colab": {
          "base_uri": "https://localhost:8080/",
          "height": 68
        },
        "outputId": "56ed0639-3a6d-4da0-8075-9b41c43bbc9a"
      },
      "source": [
        "%%time\n",
        "sum_python(10**5)"
      ],
      "execution_count": 5,
      "outputs": [
        {
          "output_type": "stream",
          "text": [
            "CPU times: user 2.13 ms, sys: 0 ns, total: 2.13 ms\n",
            "Wall time: 2.56 ms\n"
          ],
          "name": "stdout"
        },
        {
          "output_type": "execute_result",
          "data": {
            "text/plain": [
              "333328333350000"
            ]
          },
          "metadata": {
            "tags": []
          },
          "execution_count": 5
        }
      ]
    },
    {
      "cell_type": "markdown",
      "metadata": {
        "id": "hwJqWb-Xy8Kz",
        "colab_type": "text"
      },
      "source": [
        "# Tensoflow teaser\n",
        "\n",
        "Doing the very same thing"
      ]
    },
    {
      "cell_type": "code",
      "metadata": {
        "id": "4GQjFnhTy8Kz",
        "colab_type": "code",
        "colab": {}
      },
      "source": [
        "# An integer parameter\n",
        "N = tf.placeholder('int64', name=\"input_to_your_function\")\n",
        "\n",
        "# A recipe on how to produce the same result\n",
        "result = tf.reduce_sum(tf.range(N)**2)"
      ],
      "execution_count": 0,
      "outputs": []
    },
    {
      "cell_type": "code",
      "metadata": {
        "id": "P0xZ_KTgy8K2",
        "colab_type": "code",
        "colab": {
          "base_uri": "https://localhost:8080/",
          "height": 34
        },
        "outputId": "6ce5fc81-4f16-4858-aa33-da9551de8fcc"
      },
      "source": [
        "# just a graph definition\n",
        "result"
      ],
      "execution_count": 19,
      "outputs": [
        {
          "output_type": "execute_result",
          "data": {
            "text/plain": [
              "<tf.Tensor 'Sum:0' shape=() dtype=int64>"
            ]
          },
          "metadata": {
            "tags": []
          },
          "execution_count": 19
        }
      ]
    },
    {
      "cell_type": "code",
      "metadata": {
        "id": "K8dUx3_Ky8K4",
        "colab_type": "code",
        "colab": {
          "base_uri": "https://localhost:8080/",
          "height": 68
        },
        "outputId": "9d064c5d-89d5-4325-c217-becaf9dd6e7d"
      },
      "source": [
        "%%time\n",
        "# actually executing\n",
        "result.eval({N: 10**5})"
      ],
      "execution_count": 20,
      "outputs": [
        {
          "output_type": "stream",
          "text": [
            "CPU times: user 4.07 ms, sys: 3.05 ms, total: 7.12 ms\n",
            "Wall time: 23.2 ms\n"
          ],
          "name": "stdout"
        },
        {
          "output_type": "execute_result",
          "data": {
            "text/plain": [
              "333328333350000"
            ]
          },
          "metadata": {
            "tags": []
          },
          "execution_count": 20
        }
      ]
    },
    {
      "cell_type": "code",
      "metadata": {
        "id": "KWtXRGHvy8K6",
        "colab_type": "code",
        "colab": {}
      },
      "source": [
        "# logger for tensorboard\n",
        "writer = tf.summary.FileWriter(\"tensorboard_logs\", graph=s.graph)"
      ],
      "execution_count": 0,
      "outputs": []
    },
    {
      "cell_type": "markdown",
      "metadata": {
        "id": "Ue0Aq8zyy8K-",
        "colab_type": "text"
      },
      "source": [
        "# How does it work?\n",
        "1. Define placeholders where you'll send inputs\n",
        "2. Make a symbolic graph: a recipe for mathematical transformation of those placeholders\n",
        "3. Compute outputs of your graph with particular values for each placeholder\n",
        "  * `output.eval({placeholder: value})`\n",
        "  * `s.run(output, {placeholder: value})`\n",
        "\n",
        "So far there are two main entities: \"placeholder\" and \"transformation\" (operation output)\n",
        "* Both can be numbers, vectors, matrices, tensors, etc.\n",
        "* Both can be int32/64, floats, booleans (uint8) of various size.\n",
        "\n",
        "* You can define new transformations as an arbitrary operation on placeholders and other transformations\n",
        " * `tf.reduce_sum(tf.arange(N)**2)` are 3 sequential transformations of placeholder `N`\n",
        " * There's a tensorflow symbolic version for every numpy function\n",
        "   * `a+b, a/b, a**b, ...` behave just like in numpy\n",
        "   * `np.mean` -> `tf.reduce_mean`\n",
        "   * `np.arange` -> `tf.range`\n",
        "   * `np.cumsum` -> `tf.cumsum`\n",
        "   * If you can't find the operation you need, see the [docs](https://www.tensorflow.org/versions/r1.3/api_docs/python).\n",
        "   \n",
        "`tf.contrib` has many high-level features, may be worth a look."
      ]
    },
    {
      "cell_type": "code",
      "metadata": {
        "id": "4iv0dF34y8K-",
        "colab_type": "code",
        "colab": {}
      },
      "source": [
        "with tf.name_scope(\"Placeholders_examples\"):\n",
        "    # Default placeholder that can be arbitrary float32\n",
        "    # scalar, vertor, matrix, etc.\n",
        "    arbitrary_input = tf.placeholder('float32')\n",
        "\n",
        "    # Input vector of arbitrary length\n",
        "    input_vector = tf.placeholder('float32', shape=(None,))\n",
        "\n",
        "    # Input vector that _must_ have 10 elements and integer type\n",
        "    fixed_vector = tf.placeholder('int32', shape=(10,))\n",
        "\n",
        "    # Matrix of arbitrary n_rows and 15 columns\n",
        "    # (e.g. a minibatch of your data table)\n",
        "    input_matrix = tf.placeholder('float32', shape=(None, 15))\n",
        "    \n",
        "    # You can generally use None whenever you don't need a specific shape\n",
        "    input1 = tf.placeholder('float64', shape=(None, 100, None))\n",
        "    input2 = tf.placeholder('int32', shape=(None, None, 3, 224, 224))\n",
        "\n",
        "    # elementwise multiplication\n",
        "    double_the_vector = input_vector*2\n",
        "\n",
        "    # elementwise cosine\n",
        "    elementwise_cosine = tf.cos(input_vector)\n",
        "\n",
        "    # difference between squared vector and vector itself plus one\n",
        "    vector_squares = input_vector**2 - input_vector + 1"
      ],
      "execution_count": 0,
      "outputs": []
    },
    {
      "cell_type": "code",
      "metadata": {
        "id": "LvCKY55py8LA",
        "colab_type": "code",
        "colab": {}
      },
      "source": [
        "my_vector =  tf.placeholder('float32', shape=(None,), name=\"VECTOR_1\")\n",
        "my_vector2 = tf.placeholder('float32', shape=(None,))\n",
        "my_transformation = my_vector * my_vector2 / (tf.sin(my_vector) + 1)"
      ],
      "execution_count": 0,
      "outputs": []
    },
    {
      "cell_type": "code",
      "metadata": {
        "id": "fn9ZTprxy8LC",
        "colab_type": "code",
        "colab": {
          "base_uri": "https://localhost:8080/",
          "height": 34
        },
        "outputId": "abdb2ddf-2e87-49dc-efe6-2b0df00f6699"
      },
      "source": [
        "print(my_transformation)"
      ],
      "execution_count": 24,
      "outputs": [
        {
          "output_type": "stream",
          "text": [
            "Tensor(\"truediv:0\", shape=(?,), dtype=float32)\n"
          ],
          "name": "stdout"
        }
      ]
    },
    {
      "cell_type": "code",
      "metadata": {
        "id": "07QMIcIly8LE",
        "colab_type": "code",
        "colab": {
          "base_uri": "https://localhost:8080/",
          "height": 68
        },
        "outputId": "1327fda0-a80d-4b5f-d7e9-b34c0dcde3ff"
      },
      "source": [
        "dummy = np.arange(5).astype('float32')\n",
        "print(dummy)\n",
        "my_transformation.eval({my_vector: dummy, my_vector2: dummy[::-1]})"
      ],
      "execution_count": 25,
      "outputs": [
        {
          "output_type": "stream",
          "text": [
            "[0. 1. 2. 3. 4.]\n"
          ],
          "name": "stdout"
        },
        {
          "output_type": "execute_result",
          "data": {
            "text/plain": [
              "array([0.       , 1.6291324, 2.0950115, 2.6289961, 0.       ],\n",
              "      dtype=float32)"
            ]
          },
          "metadata": {
            "tags": []
          },
          "execution_count": 25
        }
      ]
    },
    {
      "cell_type": "code",
      "metadata": {
        "id": "SR-3JSSoy8LG",
        "colab_type": "code",
        "colab": {}
      },
      "source": [
        "writer.add_graph(my_transformation.graph)\n",
        "writer.flush()"
      ],
      "execution_count": 0,
      "outputs": []
    },
    {
      "cell_type": "markdown",
      "metadata": {
        "id": "l787e25py8LI",
        "colab_type": "text"
      },
      "source": [
        "TensorBoard allows writing scalars, images, audio, histogram. You can read more on tensorboard usage [here](https://www.tensorflow.org/get_started/graph_viz)."
      ]
    },
    {
      "cell_type": "markdown",
      "metadata": {
        "id": "oST0kurfy8LJ",
        "colab_type": "text"
      },
      "source": [
        "# Summary\n",
        "* Tensorflow is based on computation graphs\n",
        "* A graph consists of placeholders and transformations"
      ]
    },
    {
      "cell_type": "markdown",
      "metadata": {
        "id": "KW9r6cLNy8LK",
        "colab_type": "text"
      },
      "source": [
        "# Loss function: Mean Squared Error\n",
        "\n",
        "Loss function must be a part of the graph as well, so that we can do backpropagation."
      ]
    },
    {
      "cell_type": "code",
      "metadata": {
        "id": "xZ5i2_k5y8LL",
        "colab_type": "code",
        "colab": {}
      },
      "source": [
        "with tf.name_scope(\"MSE\"):\n",
        "    y_true = tf.placeholder(\"float32\", shape=(None,), name=\"y_true\")\n",
        "    y_predicted = tf.placeholder(\"float32\", shape=(None,), name=\"y_predicted\")\n",
        "    # Implement MSE(y_true, y_predicted), use tf.reduce_mean(...)\n",
        "    mse = tf.reduce_mean((y_true - y_predicted)**2)\n",
        "\n",
        "def compute_mse(vector1, vector2):\n",
        "    return mse.eval({y_true: vector1, y_predicted: vector2})"
      ],
      "execution_count": 0,
      "outputs": []
    },
    {
      "cell_type": "code",
      "metadata": {
        "id": "0vmMWKhSy8LN",
        "colab_type": "code",
        "colab": {}
      },
      "source": [
        "writer.add_graph(mse.graph)\n",
        "writer.flush()"
      ],
      "execution_count": 0,
      "outputs": []
    },
    {
      "cell_type": "code",
      "metadata": {
        "id": "XHoaP-Mpy8LP",
        "colab_type": "code",
        "colab": {}
      },
      "source": [
        "# Rigorous local testing of MSE implementation\n",
        "import sklearn.metrics\n",
        "for n in [1, 5, 10, 10**3]:\n",
        "    elems = [np.arange(n), np.arange(n, 0, -1), np.zeros(n),\n",
        "             np.ones(n), np.random.random(n), np.random.randint(100, size=n)]\n",
        "    for el in elems:\n",
        "        for el_2 in elems:\n",
        "            true_mse = np.array(sklearn.metrics.mean_squared_error(el, el_2))\n",
        "            my_mse = compute_mse(el, el_2)\n",
        "            if not np.allclose(true_mse, my_mse):\n",
        "                print('mse(%s,%s)' % (el, el_2))\n",
        "                print(\"should be: %f, but your function returned %f\" % (true_mse, my_mse))\n",
        "                raise ValueError('Wrong result')"
      ],
      "execution_count": 0,
      "outputs": []
    },
    {
      "cell_type": "markdown",
      "metadata": {
        "id": "aSNs2dFwy8LR",
        "colab_type": "text"
      },
      "source": [
        "# Variables\n",
        "\n",
        "Placeholder and transformation values are not stored in the graph once the execution is finished. This isn't too comfortable if you want your model to have parameters (e.g. network weights) that are always present, but can change their value over time.\n",
        "\n",
        "Tensorflow solves this with `tf.Variable` objects.\n",
        "* You can assign variable a value at any time in your graph\n",
        "* Unlike placeholders, there's no need to explicitly pass values to variables when `s.run(...)`-ing\n",
        "* You can use variables the same way you use transformations \n",
        " "
      ]
    },
    {
      "cell_type": "code",
      "metadata": {
        "id": "ATSm2-moy8LR",
        "colab_type": "code",
        "colab": {}
      },
      "source": [
        "# Creating a shared variable\n",
        "shared_vector_1 = tf.Variable(initial_value=np.ones(5),\n",
        "                              name=\"example_variable\")"
      ],
      "execution_count": 0,
      "outputs": []
    },
    {
      "cell_type": "code",
      "metadata": {
        "id": "kdKQORtEy8LT",
        "colab_type": "code",
        "colab": {
          "base_uri": "https://localhost:8080/",
          "height": 34
        },
        "outputId": "ae0b8168-d0a1-4b99-8c88-64c84a9b722a"
      },
      "source": [
        "# Initialize variable(s) with initial values\n",
        "s.run(tf.global_variables_initializer())\n",
        "\n",
        "# Evaluating the shared variable\n",
        "print(\"Initial value\", s.run(shared_vector_1))"
      ],
      "execution_count": 34,
      "outputs": [
        {
          "output_type": "stream",
          "text": [
            "Initial value [1. 1. 1. 1. 1.]\n"
          ],
          "name": "stdout"
        }
      ]
    },
    {
      "cell_type": "code",
      "metadata": {
        "id": "O8DT5vNky8LW",
        "colab_type": "code",
        "colab": {
          "base_uri": "https://localhost:8080/",
          "height": 34
        },
        "outputId": "7ec35f60-22a8-4277-977c-afbe0158838c"
      },
      "source": [
        "# Setting a new value\n",
        "s.run(shared_vector_1.assign(np.arange(5)))\n",
        "\n",
        "# Getting that new value\n",
        "print(\"New value\", s.run(shared_vector_1))"
      ],
      "execution_count": 35,
      "outputs": [
        {
          "output_type": "stream",
          "text": [
            "New value [0. 1. 2. 3. 4.]\n"
          ],
          "name": "stdout"
        }
      ]
    },
    {
      "cell_type": "markdown",
      "metadata": {
        "id": "WmUYWHXYy8LY",
        "colab_type": "text"
      },
      "source": [
        "# tf.gradients - why graphs matter\n",
        "* Tensorflow can compute derivatives and gradients automatically using the computation graph\n",
        "* True to its name it can manage matrix derivatives\n",
        "* Gradients are computed as a product of elementary derivatives via the chain rule:\n",
        "\n",
        "$$ {\\partial f(g(x)) \\over \\partial x} = {\\partial f(g(x)) \\over \\partial g(x)}\\cdot {\\partial g(x) \\over \\partial x} $$\n",
        "\n",
        "It can get you the derivative of any graph as long as it knows how to differentiate elementary operations"
      ]
    },
    {
      "cell_type": "code",
      "metadata": {
        "id": "G7iMYYVAy8LZ",
        "colab_type": "code",
        "colab": {
          "base_uri": "https://localhost:8080/",
          "height": 88
        },
        "outputId": "c0e60859-1864-4335-a546-8751af801aa3"
      },
      "source": [
        "my_scalar = tf.placeholder('float32')\n",
        "\n",
        "scalar_squared = my_scalar**2\n",
        "\n",
        "# A derivative of scalar_squared by my_scalar\n",
        "derivative = tf.gradients(scalar_squared, [my_scalar, ])"
      ],
      "execution_count": 36,
      "outputs": [
        {
          "output_type": "stream",
          "text": [
            "WARNING:tensorflow:From /usr/local/lib/python3.6/dist-packages/tensorflow_core/python/ops/math_grad.py:1375: where (from tensorflow.python.ops.array_ops) is deprecated and will be removed in a future version.\n",
            "Instructions for updating:\n",
            "Use tf.where in 2.0, which has the same broadcast rule as np.where\n"
          ],
          "name": "stdout"
        }
      ]
    },
    {
      "cell_type": "code",
      "metadata": {
        "id": "_R-mfN1ly8Lb",
        "colab_type": "code",
        "colab": {
          "base_uri": "https://localhost:8080/",
          "height": 34
        },
        "outputId": "d395821e-3f1d-4d3f-88ac-d038c0f1cb35"
      },
      "source": [
        "derivative"
      ],
      "execution_count": 37,
      "outputs": [
        {
          "output_type": "execute_result",
          "data": {
            "text/plain": [
              "[<tf.Tensor 'gradients/pow_1_grad/Reshape:0' shape=<unknown> dtype=float32>]"
            ]
          },
          "metadata": {
            "tags": []
          },
          "execution_count": 37
        }
      ]
    },
    {
      "cell_type": "code",
      "metadata": {
        "id": "3gwVcOPqy8Ld",
        "colab_type": "code",
        "colab": {
          "base_uri": "https://localhost:8080/",
          "height": 265
        },
        "outputId": "7d9c9035-2511-4d0c-f12a-1d8e32d1646a"
      },
      "source": [
        "import matplotlib.pyplot as plt\n",
        "%matplotlib inline\n",
        "\n",
        "x = np.linspace(-3, 3)\n",
        "x_squared, x_squared_der = s.run([scalar_squared, derivative[0]],\n",
        "                                 {my_scalar:x})\n",
        "\n",
        "plt.plot(x, x_squared,label=\"$x^2$\")\n",
        "plt.plot(x, x_squared_der, label=r\"$\\frac{dx^2}{dx}$\")\n",
        "plt.legend();"
      ],
      "execution_count": 38,
      "outputs": [
        {
          "output_type": "display_data",
          "data": {
            "image/png": "[encoded data removed]",
            "text/plain": [
              "<Figure size 432x288 with 1 Axes>"
            ]
          },
          "metadata": {
            "tags": []
          }
        }
      ]
    },
    {
      "cell_type": "markdown",
      "metadata": {
        "id": "6GEBqV-oy8Lf",
        "colab_type": "text"
      },
      "source": [
        "# Why that rocks"
      ]
    },
    {
      "cell_type": "code",
      "metadata": {
        "id": "qu8itS0fy8Lg",
        "colab_type": "code",
        "colab": {}
      },
      "source": [
        "my_vector = tf.placeholder('float32', [None])\n",
        "# Compute the gradient of the next weird function over my_scalar and my_vector\n",
        "# Warning! Trying to understand the meaning of that function may result in permanent brain damage\n",
        "weird_psychotic_function = tf.reduce_mean(\n",
        "    (my_vector+my_scalar)**(1+tf.nn.moments(my_vector,[0])[1]) + \n",
        "    1./ tf.atan(my_scalar))/(my_scalar**2 + 1) + 0.01*tf.sin(\n",
        "    2*my_scalar**1.5)*(tf.reduce_sum(my_vector)* my_scalar**2\n",
        "                      )*tf.exp((my_scalar-4)**2)/(\n",
        "    1+tf.exp((my_scalar-4)**2))*(1.-(tf.exp(-(my_scalar-4)**2)\n",
        "                                    )/(1+tf.exp(-(my_scalar-4)**2)))**2\n",
        "\n",
        "der_by_scalar = tf.gradients(weird_psychotic_function, my_scalar)\n",
        "der_by_vector = tf.gradients(weird_psychotic_function, my_vector)"
      ],
      "execution_count": 0,
      "outputs": []
    },
    {
      "cell_type": "code",
      "metadata": {
        "id": "OLXbUMz8y8Lh",
        "colab_type": "code",
        "colab": {
          "base_uri": "https://localhost:8080/",
          "height": 265
        },
        "outputId": "0aaa0587-a153-4dca-e93d-b897f5729144"
      },
      "source": [
        "# Plotting the derivative\n",
        "scalar_space = np.linspace(1, 7, 100)\n",
        "\n",
        "y = [s.run(weird_psychotic_function, {my_scalar:x, my_vector:[1, 2, 3]})\n",
        "     for x in scalar_space]\n",
        "\n",
        "plt.plot(scalar_space, y, label='function')\n",
        "\n",
        "y_der_by_scalar = [s.run(der_by_scalar,\n",
        "                         {my_scalar:x, my_vector:[1, 2, 3]})\n",
        "                   for x in scalar_space]\n",
        "\n",
        "plt.plot(scalar_space, y_der_by_scalar, label='derivative')\n",
        "plt.grid()\n",
        "plt.legend();"
      ],
      "execution_count": 40,
      "outputs": [
        {
          "output_type": "display_data",
          "data": {
            "image/png": "[encoded data removed]",
            "text/plain": [
              "<Figure size 432x288 with 1 Axes>"
            ]
          },
          "metadata": {
            "tags": []
          }
        }
      ]
    },
    {
      "cell_type": "markdown",
      "metadata": {
        "id": "3-BS3sVOy8Lk",
        "colab_type": "text"
      },
      "source": [
        "# Almost done - optimizers\n",
        "\n",
        "While you can perform gradient descent by hand with automatic gradients from above, tensorflow also has some optimization methods implemented for you. Recall momentum & rmsprop?"
      ]
    },
    {
      "cell_type": "code",
      "metadata": {
        "id": "NG_QEGiOy8Lk",
        "colab_type": "code",
        "colab": {}
      },
      "source": [
        "y_guess = tf.Variable(np.zeros(2, dtype='float32'))\n",
        "y_true = tf.range(1, 3, dtype='float32')\n",
        "\n",
        "loss = tf.reduce_mean((y_guess - y_true + 0.5*tf.random_normal([2]))**2) \n",
        "\n",
        "step = tf.train.MomentumOptimizer(0.03, 0.5).minimize(loss, var_list=y_guess)"
      ],
      "execution_count": 0,
      "outputs": []
    },
    {
      "cell_type": "markdown",
      "metadata": {
        "id": "oIVGTHzWy8Ln",
        "colab_type": "text"
      },
      "source": [
        "Let's draw a trajectory of a gradient descent in 2D"
      ]
    },
    {
      "cell_type": "code",
      "metadata": {
        "id": "hX8bN0ccy8Ln",
        "colab_type": "code",
        "colab": {
          "base_uri": "https://localhost:8080/",
          "height": 269
        },
        "outputId": "698f6456-6706-4bd9-ad5d-a1bbce65a378"
      },
      "source": [
        "from matplotlib import animation, rc\n",
        "import matplotlib_utils\n",
        "from IPython.display import HTML, display_html\n",
        "\n",
        "# nice figure settings\n",
        "fig, ax = plt.subplots()\n",
        "y_true_value = s.run(y_true)\n",
        "level_x = np.arange(0, 2, 0.02)\n",
        "level_y = np.arange(0, 3, 0.02)\n",
        "X, Y = np.meshgrid(level_x, level_y)\n",
        "Z = (X - y_true_value[0])**2 + (Y - y_true_value[1])**2\n",
        "ax.set_xlim(-0.02, 2)\n",
        "ax.set_ylim(-0.02, 3)\n",
        "s.run(tf.global_variables_initializer())\n",
        "ax.scatter(*s.run(y_true), c='red')\n",
        "contour = ax.contour(X, Y, Z, 10)\n",
        "ax.clabel(contour, inline=1, fontsize=10)\n",
        "line, = ax.plot([], [], lw=2)\n",
        "\n",
        "# start animation with empty trajectory\n",
        "def init():\n",
        "    line.set_data([], [])\n",
        "    return (line,)\n",
        "\n",
        "trajectory = [s.run(y_guess)]\n",
        "\n",
        "# one animation step (make one GD step)\n",
        "def animate(i):\n",
        "    s.run(step)\n",
        "    trajectory.append(s.run(y_guess))\n",
        "    line.set_data(*zip(*trajectory))\n",
        "    return (line,)\n",
        "\n",
        "anim = animation.FuncAnimation(fig, animate, init_func=init,\n",
        "                               frames=100, interval=20, blit=True)"
      ],
      "execution_count": 42,
      "outputs": [
        {
          "output_type": "display_data",
          "data": {
            "image/png": "[encoded data removed]",
            "text/plain": [
              "<Figure size 432x288 with 1 Axes>"
            ]
          },
          "metadata": {
            "tags": []
          }
        }
      ]
    },
    {
      "cell_type": "code",
      "metadata": {
        "id": "hXC71R50y8Lq",
        "colab_type": "code",
        "colab": {
          "base_uri": "https://localhost:8080/",
          "height": 309
        },
        "outputId": "02bc9752-5bd4-4e27-dcc7-2f2b4a9dee0e"
      },
      "source": [
        "try:\n",
        "    display_html(HTML(anim.to_html5_video()))\n",
        "except (RuntimeError, KeyError):\n",
        "    # In case the build-in renderers are unaviable, fall back to\n",
        "    # a custom one, that doesn't require external libraries\n",
        "    anim.save(None, writer=matplotlib_utils.SimpleMovieWriter(0.001))"
      ],
      "execution_count": 43,
      "outputs": [
        {
          "output_type": "display_data",
          "data": {
            "text/html": [
              "<video width=\"432\" height=\"288\" controls autoplay loop>\n",
              "  <source type=\"video/mp4\" src=\"data:video/mp4;base64,AAAAHGZ0eXBNNFYgAAACAGlzb21pc28yYXZjMQAAAAhmcmVlAABJpG1kYXQAAAKuBgX//6rcRem9\n",
              "5tlIt5Ys2CDZI+7veDI2NCAtIGNvcmUgMTUyIHIyODU0IGU5YTU5MDMgLSBILjI2NC9NUEVHLTQg\n",
              "QVZDIGNvZGVjIC0gQ29weWxlZnQgMjAwMy0yMDE3IC0gaHR0cDovL3d3dy52aWRlb2xhbi5vcmcv\n",
              "eDI2NC5odG1sIC0gb3B0aW9uczogY2FiYWM9MSByZWY9MyBkZWJsb2NrPTE6MDowIGFuYWx5c2U9\n",
              "MHgzOjB4MTEzIG1lPWhleCBzdWJtZT03IHBzeT0xIHBzeV9yZD0xLjAwOjAuMDAgbWl4ZWRfcmVm\n",
              "PTEgbWVfcmFuZ2U9MTYgY2hyb21hX21lPTEgdHJlbGxpcz0xIDh4OGRjdD0xIGNxbT0wIGRlYWR6\n",
              "b25lPTIxLDExIGZhc3RfcHNraXA9MSBjaHJvbWFfcXBfb2Zmc2V0PS0yIHRocmVhZHM9MyBsb29r\n",
              "YWhlYWRfdGhyZWFkcz0xIHNsaWNlZF90aHJlYWRzPTAgbnI9MCBkZWNpbWF0ZT0xIGludGVybGFj\n",
              "ZWQ9MCBibHVyYXlfY29tcGF0PTAgY29uc3RyYWluZWRfaW50cmE9MCBiZnJhbWVzPTMgYl9weXJh\n",
              "bWlkPTIgYl9hZGFwdD0xIGJfYmlhcz0wIGRpcmVjdD0xIHdlaWdodGI9MSBvcGVuX2dvcD0wIHdl\n",
              "aWdodHA9MiBrZXlpbnQ9MjUwIGtleWludF9taW49MjUgc2NlbmVjdXQ9NDAgaW50cmFfcmVmcmVz\n",
              "aD0wIHJjX2xvb2thaGVhZD00MCByYz1jcmYgbWJ0cmVlPTEgY3JmPTIzLjAgcWNvbXA9MC42MCBx\n",
              "cG1pbj0wIHFwbWF4PTY5IHFwc3RlcD00IGlwX3JhdGlvPTEuNDAgYXE9MToxLjAwAIAAADIRZYiE\n",
              "ACv//vZzfAprRzOVLgV292aj5dCS5fsQYPrQAAADAAGq1jzipe3VQKREMzn+ud2GzbOJ43BPcMYj\n",
              "i93Y+Em0ioSb+61aEWEM7dcbRaivTOm4o+VA8ddAAAAFKlUSisUnKcUIhincww6T5PkKpaK19RDU\n",
              "XBPH/pmpmIqHtCYyZf8TZNeLqtLPBRS0zroJvm/0WhHZqHT4sVJ1A0QYyaRH3tm9j8pH6isGYwLm\n",
              "p80b8MFL5upDVMndNVIe0lPtZtq21Dpj84mws4mZKNEZVvfHjNmlvtN2GMNO5l4ylcOc33zCq1wk\n",
              "LPnp9m84I6D4NP3kYl7Qq59cuOH75TPx64OS7N4Z0DPeUwuOKqaVoPrXKk4mlhXQrU6jhfvC6QjJ\n",
              "cQhID7TroGsiNeMxdj8GZGCcPPTtxLa0QEWdQjVZEBd4+mMYwV/aOk2fsfT57cp18uVynvzjd/Eh\n",
              "E81ZKCMtDSiVmpEUsM143oeaGZxPgU5d+UImDim3Kf9X6RiArcbric5Rhm+DjNnncfDklslLzSH4\n",
              "o5ikhdkEjH491aNhpc96SiUcMErPRih5z+TUfhvZSoCJFl+5eJCYjlJ4Gru7LQf7d3M4lHcjjcZP\n",
              "magiNyPja5G+MwpcF5+QwdE1XnMUcOLtFxgWuJbuPlXjjh/48o6kKsls5by4V8xeDWf6a89zSK0n\n",
              "YT4qUZhw1ppSO/Z0rdcf+Pj5fvJI1Qx3b72qFnH9ANCQ5JgTOxcCgR69zhsBlnSI2YRrVse2RzDK\n",
              "btG61oFziQCzb1Zv2CyGFe1F6K7laxnL1rBTNbgIbAIPamqn1dqWqA5U+O9UpQKI6l+RcdvbKlhU\n",
              "N5SLOZj5tAsL75sLJpSiG14HVL+be/bM3Bz2u2iWUKY28dLQkHLejAn9Wp+4N+WDEOrJv6g3S0zJ\n",
              "vJhy227JUNMVISDm58faibtO8S8avxs3/VA65hFNo9zbKnY/cVNd9bsRIDAZE8kGOKzOVJwS423k\n",
              "nkjdG1V17N2S2TBrpNHpQMSqZ40y1lEXepbWzdgHDFA7zrDbDg2dIbp2jo+MbeWlOwYn2e47my8A\n",
              "dv2A8sY/kc1BXtGx+5sWlQs8x6dZZjnamqjjd8JPYNeB59WIQUJRYqYakVfilNBrJaYHEXHrmU4e\n",
              "wCi37Aw6vt0BP0ZxDboAvcGkebH1nDHsFLr2weQOSSQyBn+5xj8oxi7tFAe13LCVZ+5coBc/PWsr\n",
              "QcbmO7B4S5dd3vxBL3baZDsEJligYDRbM1gZO930T2U0v/kYJ3ztOjRw9XrcA7YjNn1kPYJr/bxP\n",
              "amVkcN1B0uYgxMET6367rDt2jeO7ggdQ/aVMQUFSUuWHnVRwufJ9qeskqzufbmIrgUMEQeokz1u5\n",
              "Ac3xCC1wK0m+i6hz9jjDUgm7SseFnjM/skXKVMLodvUQcRABO5KZWFPAhwsm7KqsJfqVIF/Mt+Uu\n",
              "w/8ZwUn23OdZOJiaZLtTCsJWROe4tJdSvHaAJ8R44K/IZWIh/zkUGaKcKsAhwlvaMyhzzJnjyQqE\n",
              "49Xl9si8bEANZ43iJgr6dupi9ZemmXAwnL+I6A0sUQ1i2E7+i1lgjHwhEfT0sN2WkKZpv/ABtR2O\n",
              "0lg5Hm7cl+LPq2IGf3p6su5C0y061d4hXiB0Sz/dsbR8od8n/Ocy0vd9DdOemY+4Ts3IG269/y0o\n",
              "aMSBsXo0m7F2BWfaKOT5AsvR4y5HzM1Fn3PTlRb1MJvtvRWlwyywnLO0FR6Q9dqnFfzbK+LqwtPg\n",
              "g2kAOWpFpyZqquzdxZ5gt8iTwYHIZvSVQF/owfFgP03+Wz4KrIWcvAs8JUj4wDO4L8FVucx/YDSC\n",
              "pC27a837HYaNioOzt1timLBjYBJIsQGiXvOR5Urh88HlVCDxAcB0Kql80DBfeFwLixMwToED/Syi\n",
              "1kDudVLbfPUhItNw2AwaTFgu35tSwEiGA1SFWhZNNCSEsBbHFMTV9BUeclTw0bDkAgu2STlpLgMJ\n",
              "wCH3m1RdBTagkqHvS/ZoxdRdiLr7OS9dxZbCXpPNGmooaB23CrrtXzYrUazlsDRZSh/RrLIyDfBi\n",
              "8vF6quaEq9Yz/pWwoMH/BqB/iS73KwTn15v503d4sIqh1dE8OVfyN4aDoldjWrwKB76T40DaLKVh\n",
              "XDtMmLAgKX1VZ21aYuCw/QQ5ZzTWD8nCHMumHcV94pj9IPXpkgtesLUjcHiZBaNELbPkc2O+qyu/\n",
              "//7KwW1t5MXPsZRWeGLzRm9QomEl5tu7t3JUADTESttZNo+zcqFCVXz29xqr3aXvF/RVelHPYGF/\n",
              "+8DxzBklvrYmAKnaeJbKuizzjZKCfWtWRzkjgYNCX8+1nKwgvDV1FykaUG76ieUggZXft/SgXDts\n",
              "rYNlnO642XSr7IisX3j2tnvpXLPl0SfPCpGVUy+5RkHmjkiEIoQC4pcxTx0lq1Al+GuTPO2+p1PJ\n",
              "hhDB796j4Zo/MfNmt/8tQvIB/QHC7QVht7eG1nIFycQzOdztSXwzUke/COoYU5BT3RIBGC1zEGVd\n",
              "6J4F/PKdhK5ovObIOkvmAYjHR+UHwwjhpeD7NRUfmuYBIgEuxllilQrA2nugHuD2XG5IP71v81Nt\n",
              "wBmFjpTh/Deb7k/PrOjn4WHwLr2ih49oZuT2Lv/3Ge2Be9OKS27B+E6LU05ZqdczwCi7HuZuy/Du\n",
              "KBOFYDr2tSPHFAySoUL/WSNoWtLjMC2tZjoVHQM1hzWQBSa+BI7awlkom05PWBouBhLp6wVQdml4\n",
              "DMoWwmo4RlOCUMmxW94DHFNefBVNIN5er1rNc+37T5ykoIRTuZvmufs0GDoereZ+b0P/Co+HJXR+\n",
              "5fVlLSeqE3bTlI8rjbNrXrmwjEGjzCvXHbtefvBZFU7a45QRKPLyJ1V/LqLXfUdLv4G/jg3wHxfS\n",
              "JExf+kdtJ8DWTCzCAf5WXRe2V18grA5x3i9RRCX9NwsP/ackh2R+bsIT+x+XbjM2NvJ8qo0U56Oj\n",
              "gba1xJKY2xNOWsioW6GxCUe/3QG8Jq9/yiaUs1CPDcb7lqcpp77sR87VHG/vpLDU+8mtFCGHuECd\n",
              "qQ9Zt2J+u1u4zRtZVlNn2wvyNK6ADbFqNdaCQ/ndqXOfnnKyUpo/9PF1gKA4BHp9YWqXyW3G5p/O\n",
              "/+i+xw991PHUBtyNPb1z24BelnceEtmAdlM1mI0mHqIK684Ric0jzr2NvvGuB4aFaHNCxm0qJI4a\n",
              "7SxXEGqiamn+U5EkSlj40a4I6jYOdt5hfjA/k7WB6H9ehQc4H+kPV5yRogTpzBS0/VRJ+DlXHT7g\n",
              "6vrcMAA0Pns+dkIb1ErL6oJMTvqZwogcvaYmwUg3Tum5tZRIWmbCHaI0IdeG0LPR8Daye3rDUmSE\n",
              "Ax0Q2CPRd7EUmnG/RxZoAj9Y+XbYWZx8byuzGXAqPe/uwwDKfoKftBH1vZfwKtf//7wIr3ExNTJO\n",
              "PfUbYr8fyVoyYTygJVb/q1kbcBbs/yeVEIYCBlz7T6Qm1zr1f7B/SOL4hN44aEQg5h5YgfaQi+v3\n",
              "DB+N1+I9cEePw/OTGUZ2YTJmP/NKE8RBdpRyFDdkfSWK4Zcxe+O7Nk87x1WSWuccl+JViypf85Zu\n",
              "PD60zKbH/wCPjAY3goP7tIWRhqUNi2oVeM3kMsD24G5WYV7funa3ToPpUnQurIVww7lUs1O5F5/F\n",
              "GfZgZQX5eUBhgN+lyvKHqyDVW2ViqIjkBn0VLPAb+/PXs90h/d8QBehtC2BVNSdV9MCFsxBwX8PP\n",
              "g3t5TI4D0JlNGDFElMoEEunIJBPKEZjBzEPYRBAtgTcoYSdfDYw/3LBMfmInicG69S82+uNWYRW+\n",
              "elkhvNl5tH6q7DP63cWEBPwdZ/SoNnj4KgESAmZETCHZ81FdUPcGXW6XOKMrTxb8XCoJMZ5y15jO\n",
              "HfOrMLjDU8UU+MYDgbCPjdmjXyRPFpU8HWqGtF2V/29RKw68hIt1+iYuoHLQtmylCtBScL25TqGk\n",
              "UUJqpab9vVsBzYQq/U2j43AYrSsVv/ww9P4Gx2Jpq+dTWDIeLVqloDxJ97IrWNlfTP94KU6U2F4n\n",
              "p6HFLBTrR0LIDh4Bt5HHOSwJadJ/Yl4+pPnUidu2GmHCUFy05L5iZyiwR4bw75EwZBoBXOkFOb2c\n",
              "2h9aU18Bkl5tH+VZ6zzHQ+FksRGT8S3BhVE1pg/e1xflw6HRD0GosP/VIx1BVhtOgsomC+1JJ8BG\n",
              "lEY8IqKp4qzCz23xyOpHjH6oEWK7SAmANpk5ky+Nw/B12CeJYjbpjP9wZJJbL57C0CwgvGV8zAUk\n",
              "mrVLjS1r0jEQ8W9znW2eRVEeql5BcD//UK+0cewD2A2wN6g1wgGYALOMqFqd3aZL+BQI5d9WfuQv\n",
              "OVX4NmXYPyWZc1svhakFwuFYNYSThZcagas9MufPFYJ1TDUiBhh78Gp5rFvfGcIoFUiQwjq15vHW\n",
              "1t35eFWsoxbiZUCS2HewkkiqNfGG3Gpa8L4NSrOqHlL0Tf75BMvuc/j7PtOPCTF8HZhP5u8vKzYD\n",
              "IyKAV6KHRAspNvNvbSoSqvM4OVYxWSLEKjDqT9oeahNxBb8wgIhuLaM4XNDJGO5VyE43t1fNw/az\n",
              "1N4x/1hJL0gnGoG1Ki3VlEF1IJInxUV3Gub7v0/s3GyQTyYDNYpOyHDYFruChaV1v00fJNq+IqbS\n",
              "C/kPJoDfSDH6NcLww4RwU/h7q47X1JS8n+ZT6YjW1ywwIuWhUPzvMbkBAeQnQS7TLgpY9SZNrMBk\n",
              "bRd/DIX1NXlGlfTZOyWHuEuwG9WDa2nzrODeGyT+iJRDydxgCaa5u1xWH29l/7hJ+/JtZKxRxOff\n",
              "/9AI+6gTKeK3Rvf+mwQx2fsdPX92h9RTLCx7DaWk8r1V1Q12YpCd0uucUPMncorbOpkf86QO0p1b\n",
              "GzgJpon9hhNE0sDqZxnOLf2UZ1bjbKnVyKmgNPo2aUfTk8SDTbQ1qRoieXfpuxtkI6LeCFy3uMg7\n",
              "1vNbvBCpdLN6qTlBrcb1SxyfYP4/39IH9f9uVREnqKADty70YnmMAgxxY15g0p8WO48LP2yPWXUR\n",
              "qAAm61qLEhUfHj5xqH0/RdcLEkKumE71BaDLuFY9Vk0aIuqg15K++0AKQfuZkbYMFYdzhNLqe3Hs\n",
              "uC3YJKICwE9r/1khENNkm7oykphzGYGW6DwX2W8f5pgHyAHNlPJ6l3XQmPV2OqYRx4rWCPscR11H\n",
              "9uR5/fP+zj18ZQPvOJUuQF+JaAHE7BZPpJwFWBpJ7psJRdNbUd1kasP7htSwfxvJsGbH4fB7stN8\n",
              "9kg+XpCvejDM6IITBYSrUoyf+yEi/i01S204uHrQF9ykHiJRK7OjKU5QorwEuzSv1/tRkWs79xBl\n",
              "h8n0miC8xyDpSgs/xxYyqT3jgi5UVs/v+T4583/G0zg4STriyyfPfnqZDP4oTcj2VK6LMaNP0+fI\n",
              "mcYV8h7o44YGHOhu929ZovQUDm4Nf8de+ZKlq71GbQexTE5rG8OixdqNcHnxW59UIxw9vqCmSdBN\n",
              "nSx2sR+nzCtRBww9WgW+MpOpOwKF5I+itQ9uC6iuNtucgF+AWuPtRTPgetE9r+qH9jVWebnQxJXy\n",
              "l/AfxxNJoQMC0Su/+BsM9E39xzOER1nB7C5yUX6bC6uxrqCD7vvmso67Bqav0uKarxlOmDuYlhWd\n",
              "MxJxGuOpev1A083XU6AEHlSOXxFy7kGYrL64OEZm0LnWSLZ8a7UX7G8OajmTmXkLlQsGZE/auEsH\n",
              "FY8VgP3OgJulhMvtdFdjpj4etqo2XQZ8mfH4vbbPY/WyVra2ySA+5esRiyXBOce9EpnHgJov00Ce\n",
              "GaNB5ZHbz66JetoTJQwKkYvD74zI8u2kkzqYkIjNyMgNP3Zn5N4Jdu3+ofEVVjSDySQYOdPn6uKp\n",
              "XYDNd75g4gpVvgMwyy91F5kL8da8UgfxRDZ4osguw/sicM7H94NTrcDPGZyut4Uv5iPW1YWUTp1M\n",
              "trAYD3FBjp2jTD4udWeydk4JVeu3U/jO85mNV7YGwxUCaGMZLQwElfY9J7oALPbM1ezV2aJrZd1I\n",
              "H06ggc7C+OJY+i5B71D9s0IAeoEEwK/KgYqMV4Qm8ceB8PZYihW9VO3F3B2phzz28WcCeG2g4O1I\n",
              "h4W3/IRXBHK5gz/pMDbai19bOWtcMl+8ybx1ZZ0ZLjmdtil32VmYrefXno9TAzeinwdCN59ZzYvY\n",
              "pzw7ckyv1zAm5My36E+FyQMXyIbUtwsXB67wPCoCRNuDvM7DREVYtmCj4musjCMe+b2sFKIt617h\n",
              "TuVMJhD9zhLl6DHbctJBGmJOZ0Q/StlGMo6cVj0uMzuVstDqRvewefsm4+L0HHomzy/bPJuAZo0i\n",
              "tnOccb9odWjclrUKokGFiI1keFTIpQiFSHnLbqAa5J+8HxTIjGkp1txOEn6S39HNAysdS27M2mLu\n",
              "ZTU1LSCEUZWouje44Gf2J4+J1LQh7+r1H6Kv4/BJsYJ20v69LEBUA4eJpR6IqnrXbJyEJ/f2l5Zj\n",
              "BzxM8joaBZ+hO6NAF+CbbG1R+hvIZMfqYBTYvl8DgkBQNYQOE9ACcHIq9P0EpMV4AfwzK/hG2UuQ\n",
              "+1aYGCo57sAm/UTKeIc9bng9n8II4/bVxx18wvZcJkYJcwRvAd0UQFeWCWduLPE20Z5nhSX/lJ81\n",
              "cN9sfqduqiWVBgbA16bxOYuxX7V7fXyS18NUMYNEDfIlIOO6ecCYBf6i9+aUxO+uunkIakKXxyE8\n",
              "7n5YTAXR+IqQgOiGF8G9o1UwHC8kNLoj5LEf5n0I0pooWG8PS3XEyuwwbEHZvp987dSpK6GqSe61\n",
              "gz200rzv/6Y4dM7GsPEfhHFwZUWo5Nw2JVWu2xnrB1q29mDwRSu7acPSZVeypO8Fq+3LWBjPLr/Q\n",
              "P/o2mj5lHddCRKsGpZncFbQmbAsQd5fFgDBKpydyD9uoj7g3kh1oEtfzQrzVggE1sBLqvPMF8Ww0\n",
              "OTkHyh6/+FgQuqkS0UwvUGnWF9GfmAh35Rj8+JPdb5IC//7zYA/JhIwDFmDWSE0ZkrZCSCtJ2UDE\n",
              "MgS45zA5bc7VTpO2s5H8X7JNYdqPvAxbsj/7luCG0CGVmc/B4coo0Jej2yU5NOaI/imGzz420rjc\n",
              "xAMtTnz1l/CL8O9+64+S8pYG5Y3Emu5wYXPttpIXVF2WUuhZj1kCJYsXyswT0SUb6bRDI5XmvADn\n",
              "jQK2tSz2bWUsEg29fmu+DvbBT31OB8eQPyhA4nPSIE/TdQqQawK4BN11mggLQsz/u2kI7rZTg0kt\n",
              "4+8CXeVuvRF3YPqIuVBhbB0HEgHMbdc9N72tz0J8GrtJWOTpOj+istFXS5+Oo/74cYmox2N0tr8L\n",
              "Uvluh1QrBI2NftE6StseYV+mPZ7Ao1EQ5r31dlSlsJI+94KSmmdSn7/bWkIQfNMFw6dJAAQ+hpDa\n",
              "Qf5x71HrcFhlAVMlR2gB8lk2UJEJPGAk1Wr5D6dee/hC3OS05TFU0Qq3kXqyPWxOO4tLoRybGJNv\n",
              "9x3FkZlBwIrsixkYIAG8256Tlqo/wbtl0ELifnZPssLXqvup7w7ke5v5nVMn8CXicWEv2Pw+wZvP\n",
              "Ouh6blafNrI3VhRpCFneDLyqY7YHNe0s34kzsCBt6kg4eGpafruDiTUsy7Olgvw5Ha+XFc+cGArn\n",
              "k5HjdVfM4Z5gXiu34TJ0di8C1MOKvwZFZfPhkwOJpbgWFMLV4lwn6o9W4tkh5KmiWuN2jQdgjPmc\n",
              "fKfmSh+SNemuloyvAfcKEmyrP1rEvHabUKEtmoUBHZCMYBHFdXDf5w9q8imWbSW+l1hMsPg8Lb9x\n",
              "Rtk8h6wwE/MaW94Ff1XIa1fATCaGYoKdEcDWNjijPOhKN+cLtBev+zJ0LkDd+yU45qfYiXqFztEw\n",
              "pwKmqKmg6+5MIL+Qcp/JPntu/9lDtTe7TdCqVu6m4KxstwlUsR/+pEnIR4WPgpcLc+eAuZwTJmdq\n",
              "2A8zdk6m5HaN/rM8vOlPiAZDGh9GETKbpT6bcnAb1oFwdhCsbU/8bPOye5LsspBtfjfHQsZqFFmS\n",
              "EjD3kN9Nu4JNnZofHwFgiNn7tPTVpn2JAB0G+mtn4uKi/aNc9eApuV9x6ekcH+w9xNaV1LTmxPHz\n",
              "S++H0hnC7qi9WRCHpa1zgKt9NDdY+OU3pjztzbIOQ68sPOdkBzidDdXx+cgksdTpA5T8ihBq+WLv\n",
              "sEffGVnnYiIf1bkzIM490yjrfJ3YbqCguiHsJFiu7quWeNr6OocPfh0AfFp1TCvpENwVEeK1OjNp\n",
              "30AbuzzPb2Q79GXOOQDVI/Vm9tIvmD0iPhGhX6v/nEktACojRJombpDqx+A9dsOBrPlWKFQ5k5UH\n",
              "U4836Vnto7irdqscZCHKaMOYraswprUUsldiqvBjrFfjr/StuxedXS3uYwncwVDD1nmjOZFNBJGw\n",
              "6V/g7YoZEV103rJi8meFTC35u51Qui0KPdlbmzp6Q4tNvejbb4rWDQuZZytH5p74mq4xxc400pI5\n",
              "k215Kk1ZviUdxZuktrbo4cqJPI2YkDpKOMoSHGLYZR2LARbbroECp+ShuN/cLkfq5uYwJi8PLrJC\n",
              "yHhcNCrKNxG9jYVhT2GjUyfo+ZGgCWGqs9XUnnYXwQZYso/FIqrNDV8oSosFXse3rbvQh/JGJcuT\n",
              "hWMiIrqVE9+hZ05723+cdxlppXhBz8M7SZuQlagYt/FOXOU2JoTKqhbLvh+T9LFpP1dTB50wos3Q\n",
              "RUG6XBrRM72KoKEJgIV6wGhGdpUggH3UG0BFQ3RXWpWkrkgGsK+KBDbuPGCWtaAD8MvTj/6OHbdR\n",
              "GfRF44rspA6ASwULWdkt303MnaSEwmLiZGiuBpy+XAg/j+T2sCk5c6IOkMk+RUZWZF+SKLv61u+z\n",
              "dm35tJL44Ej/z2xbjegIPeX6dWjTjLrdB7h5wrjby5k8w+od0quVhLijDC9L2G3oIzUIPJeIey43\n",
              "TivC0DSV0vh7/Z6uThUFcG2PCkbmMfyldqKq2N2OLDPl4ILID5UvPJ85zWvbKfXYyXJ02dP1TPE9\n",
              "5pKQqbvHC3n7smFrQrEKJ0+kecjCPsywsdGR6dt3TtxDh/FEIev2KAvdPPrWffEtAYl/wmjrVK/v\n",
              "bbC2+Nt5Zs+ksSBuPJjXMxljpFbTDVrKmCQ6ynGjOK3Jls2qSTj4Q4gcBKh3bQFuN/osMyKIKFwG\n",
              "zxkUZDBF2tJGDFqz9wwIG2xCIsMgxcQIfu5qmEHb6nbaNtWlvlqz+tIZq6N4yDO8TBzevL9K3Xn/\n",
              "GWsuslQTXqT2792kq5VsA/WbYC2ZIY9cZrifvZei35A2EN7tduGZNJUbzRhp2iCeNnqtqxHdpLD+\n",
              "iTdnIy9bk8V3RPprk5wXc+9wr3Asry3A/SSrIywoO4hEOgZs61NMCu0aLpcN32DdkMHw2aE2ck7e\n",
              "4njKgjYTXPUKhqSUK4yrUqwnlC7MuLrTD6Ivg3/mnx4Yy7Pgj04M+W7En2yB6Ue1D864OJ1hVc/s\n",
              "w1bknL0+XDP2skH7/a0myedxozRPhzf7iwKm6cTRA2DcSSQdUJteiSpC+Nc+79iX2LDCWmTCWAH5\n",
              "rI+SeFdxHpVJhCXQo+7nKOJ9z8Gc4Zy1k54bzahAAzwuwv1ewzyz3JLy3Xbf0tiIFWed6iKWlPwr\n",
              "o1mo66jex6/F/Lncb8yNiuJPKD1uULEPCfQagWuqsyrYnL64s6W2YHZvEu7njQrJrBNM51KWUnQk\n",
              "RnSaTnK/Svex3519R2T35pvq4H4zhoBKJ62O037ZXFCI6ujczV0x1WWWb6yci4/Kn+QLAVA6I7VP\n",
              "9j5z1V/2ic+2mtpQ+M0JoKw/VWHSGpt+jDfFg/7NK53F9GgbIacExQ9d4PSarHpO6wUXpU4Kjm4p\n",
              "Qzm8yESFIPGpQkPVx9WZY0e1+wML6dFUJnWj2MDGLbNv2c67OwFYCdc7FFqY579a49pPpm2h3cjY\n",
              "GZFkE2gj9Bg/9Cmz0QJx/xjbsYpnBgFKc11O35OxAs4DNgzogFr9n0hlTPptThY/ySm7IYEXRrPX\n",
              "bA4eMJ8S/A+6ayq2dg+VXh2s7ysqJJQW53UMlLPnuq21szAR9QFa1i2tRqodM2fkRxse2pnRPoFh\n",
              "WPVuLZgKk2JIRPmSfJpnh3E/PJwT9KeSzRARNDIVzTSj3S2Uk6o8YZ2es/rhsgzo2Y8elTIdzFDs\n",
              "gWUMYzOEv3XhUDs86WQLr4nZb7UzwSLrwZPyGUKK01cahkBIr7XApsxkN46FpTJD/uYJGQcB67qH\n",
              "qd0Ncxttm0YJJzC3ShTW2nESOpvzKnbudqLXG4K8FJcd9f0pmenhInZcrT7lMz3QOhYrPKVEBZE1\n",
              "gehCVEfzu3Fq++D8aQpr4T9a2Z6VWhONK4WQBBVKbsSFepi5cKsKX2oBfamndcXWOxYD2xZMyHrH\n",
              "WcsP81R9eCm4NJqju+S0EEDLAXkk9eQCZwuLuNJ4TXXrqLpkrUuq0Bk0iK+vQSFqxZb/4YzTpv6f\n",
              "7/enP6Xk6wgihKzE4sbVPgS3iet7vRwSpjWu+YlNnBaLwwPki1gT4Fj1S3nkr80tXtEy5xJmdnXC\n",
              "ciYTCp1O/r0xIWx/16gVXfD1wp0yZqMJaUeQ3GhaYcU49bTpUUwW0uArgvZZh47LwUhg947rBAef\n",
              "+sMo8ueCKg7Pn1Zp7rNiOoS3KomniTyJeCrOqak1+dlSG8mB/fC/kO7d4f4+ZKHjn/knGiUrhzzP\n",
              "2u0so+olFcjlGZjSMq7G2fmZgWAfQj8GQ2T/0T12lT4kOGya5GBSv7evJK2piGJ1idb1N5kT6BIA\n",
              "9f2bcnk3ELrkbOB2CpKfFLLFAEkh6uKv/5CBhZxRK7af8ZzOlt/JZZbZg1+PxAelSxDA5Ue1mmmK\n",
              "ZZ1uYN01ebooGRDP5xOIF9A7VYBxOj0hGYc9RMp+z+WXHbmI5DiPpqk9mRmdgtSNoAjQ762S7LAv\n",
              "ELSsMXyardETjmypcxQLFTLsHmTNrgyRgRoT5QiDSZ4Szzac7FvhOT0Z67KHu0jv/47/ZV6l0voE\n",
              "mrreifwHQhk0tykAKEr73VHnzCX1hVW4FmwsP5R64xyt8BlzgnubJKyYFloSvfayzF8o91XOt6vN\n",
              "nfq/B/tFpCvGm0fY6odDbVr1Ggynq4g9wyryNU4SqAV2hP434lm3l2YUWIONZ3xuQDTzNTP1ovSK\n",
              "WybrNZG5fJabj1GZsDKY2sH8/xTM1325AIp+Hdlwok+djduJRr4sLAhTliWIOoE6Sacq7O7vX3ig\n",
              "jkCUAuG8sysCks/VMCNq6RwvBwBxsdhx4NpiYdZXS6Qy4/xMzRDU4fjVNXiAT73cKt4lkoRv0DA/\n",
              "Re0vvcrhUPNJyYA2MsHEHBpeDEF85hG/M+7yNw9107TwGQJr12JJswz6m327r+n1ZGp8VOiVkdGd\n",
              "e7ZKagzFpmFUdlxPV3FaPkRCW9l3wbfUFawggcDnHIYjsxJoevMcq5z7rs1A1GIjyUc0Tsl8O0dS\n",
              "QINpSje6xOWmfVa7TXWMR6ZrT3N8wcA4xi30oTnUSQ5mog4SYA5IRqFHL2wAwL15b3drQDFH06Vp\n",
              "jaNqSyu8zo2y8aiOwuQPXal9jaIuMkFdy4jYObwnwoM7AtEO6uPYFas+F735NeWtvlcdRmeAxnlq\n",
              "djAfqKf2VhNwa6U29TlP6njQ4q9jlnOl8Trh5n+L5jtsy7eS35A/Cauld4tb1evNzcD2kKCBy22V\n",
              "JcTg6ohESwnAeJ0VmspPwOfGMhJollQY4BGM1cOJbVjbXf9Pn5f2dcC4I5dBLX5j2P9f90VMb8VZ\n",
              "LxN/uywZb9l0b7GXZmBb8jHPPPYY/CYjlRxLsUsKWRbpuxgoaD4WYmFxxidoArlChW57OQKJDiDi\n",
              "LMTijBDe068QXSW09VsZMh931SKXHvFnso0sRpgovIebh1nqoMaSs9B3yU9lTHcq+DV9Li9Elcf5\n",
              "ZLAqX1GfyX9MMm3OKf05q9Y9YVMfS2nSE88RjqqGEi8JhhtFoHzv8Nms6HfCwoW9dXGS7AK1sNBw\n",
              "nXqR03o7uuBmB73+SKFkl9Cme4zJ/8bYSCodtQO/Kpe9q3asVPJUqSvI/xOWFQY1Xl7vXaRZd3H7\n",
              "MqqKJI8HmyhqCWJw3L4I1i/zO3ePyLHWMHuby1bHSg5nC4RwAple+LyqkHHGkyQQjc8/R4m8A4Ek\n",
              "7GuOz/+BMbNl4z+CwW8CV1c/I483iI+M8vgvMUQOUqY7Ez/jruxcQ47NZzJD7lXax/gTQkgnzgFv\n",
              "TtZ5jLPTDkqQVkxOPNUPIN2M9o/OVX4d+945AahYhx9YGeP37nzzWwqDt/I4oe7/S9aoIDnNgVGp\n",
              "Q6qJvhhroxTdUcNEm9BO5peHMTRahM3rKOqm6n8bbQofEBOu6kAb/VujyWCknAXaW3wbu5Gkbx3h\n",
              "58jY/glOY0mEsj3TMl24c0lsjw0FlXn+kUTfWzVJjO/Tes6Il9Jq1Jrt4zPdMKCAR0+3ifAKVa7U\n",
              "FhHH2uGPOhxFV8fkjkPiKuxcQEenegK4kelyhJsyqB0oG+imirOmXxvLfBmlvq6A7Mt7TxF4CFKP\n",
              "RerWOLwpnoyqAW2fgQr65iwwsfhGoJUYBfNF0UvGhUEi/gXJZN70RQw0LGLpVwxBCA4G5KHXYZ+Q\n",
              "yYieQfu+WOsXhq6H6It81J07s+rmtUAtEjKmUxJLHl2dDGf3Nw4hELpgOXkpKkizkGaye29hhA/M\n",
              "hrjyIpzrXSGSOeRdzdXNVBNCDeLAiLM483H9M5yq4XPWZzLmizUxqcOQWPe+xfAS7O3GKMwr6t5C\n",
              "E63c2O9xoedAzLiodMWxsrHwJz5UF6c0qc4ixXcw6EUK5bGvG+LMv9fBFcLyjokEWjOSMdRzADtc\n",
              "9JVJgOvD+dTE0N85nxRQtdYypJ6xvX/9D4goonutIG2aMmoYMleTKpOEgnmQ08rm7MyEm4Sfii5O\n",
              "1fFtNYn4o4qSOsLntzawgU2hJ3ep45UkpYwjKhDUJfTBfuAYE6tqvWM1sRE/nOp4ILpPxjYcAzXB\n",
              "/VY/94pPcEqnGpTr4nhe7G5cVUOzthHHHJu1HpDDyBbHcHgaYSeDc46CfB9UpBJw+4CGCDCyCUn7\n",
              "jgz5MCxWZtXnMO+K9ZuIORYNU42YqwuFOFnjwNMiTLoxcnEjYIn1FwYdTnflHmiRGizSPGdRsx/5\n",
              "59nB426nKn+Szw79BWCli3Ck/ImraDtLt0oJlY8QDloysVKUjxHgBTrKGZowfLJGXyEi1bW8ARJ4\n",
              "i2KsjmKErJ6VevsBloNK4qjpR0dZjHKyzDrhKCIbhvELOfFrlG/tBNCGe+ltp38fiml2jhMRiOmv\n",
              "SwfN0Af3VmmvutRwQntw7ZAhO8ZTFyDaFa1KGPQPLWuth92T9PrI93t0TLIbyaOC9TS4B+KB/laj\n",
              "ZBAtbBsqUQNHLuLs8Z2/jRSQRICxfDGguw+83+62/gUNp9urlAOfIAKBgxhQKcM6LaG6Rmyntqjc\n",
              "Ci4OrHjG2E1k/ZXjo1eiGLhp8n9iOw65QSZ0H/l99tTGpHd4T/DBqyHuBX8GeyI17+9XRZ+bhTW1\n",
              "t+9d2/Nft6C53KSSFVjDc7qlWP+dnlYshAPdNxnfjWV2V0hu4d8TqaMX9mfkeglfGaJEf+eLiSFI\n",
              "kTbX5twP3IsU4hL2dUITl5EWW0fiJvvibLDmKB/k7VBERf+Phzx86aJx1Ml3CQZ/ZwZFkasvgBfW\n",
              "ZlYQHqe/d1He83lIPT6p9K9dq5D46Httfut8/vOkvg24/N5mWXWWihFnd5mDcqgriKnVqUbOcsOb\n",
              "+K5WbEfZICokQi9FeUzacR55jEfGuqLw2i4XePpdu+EIF34f7mSRd937EfGxcgYXFgxnsOinXTPk\n",
              "NcVRtA9j1WTsSABA7mY0S4lyJD92kda1NWyZBakTnoYomTo5l5QtGTLHABsQHeVg7Pnn0pG/wfYO\n",
              "5LY01yI4nMWDvFck0seXSCYOZzgvzLjiwczj/TTkKKuXkF7QvNi91nrd/tIdpYUXpAnm/o23bovp\n",
              "dV8xXW9KtI6efkOzv/LC/iRCVvfinyA4Zp/kQO4RQxSaOA3ivPW/mHzAUy2YCvhV0Zrb2xhaPqhn\n",
              "0v80swD6AMLUzXVVFiHz1buW5ewNAEeGQ+gMrkAZalIVzBGhX8MHcZQAqma7JlbL4n4UiGizhHiu\n",
              "MSdmkQldfrBi+85wPsSIVaqjQWN8/Qv/1VLbcD2d/Mx11of/TKxqDADlshtALcSQ6GEIKtT5zFEe\n",
              "lEWzXyahVCSYSOfnv3lYNBBlCrfuOKZY5Ylt6x2yadJiK7heHlVewy0StnjdNIWzOCrQC9wZ4eZi\n",
              "L8tdn+Dk3A/1/dyrmjEJP6wRaNh9ryK227q8PC7T+kL7WrkFflUDetd6w4mJcCRmk9bJYjpMWb8M\n",
              "fP2uQ3WtqKBt1ZjlhFvEfjUu5Fame1wmHz8Bog49sLMNxk5Y4E/7QE9iK5mmX7YInUrUTDPPmyn6\n",
              "kf3TQQc1iKz1zlhppnTo0VhFLIeWjI50SwugBSeSuvDN3a9KxGMhzyC6+7HTDmyuebLOk5QuvFT9\n",
              "YwMWZj3x9Nq8kTGmbUqw+GHz2M1D3J7tBtmVj1vStRHRb70cpYx8QXEz/KN0TcQLbpfv4z6pA8kU\n",
              "WXC9SbKDpYQ+qn5RvTES/q67RrrsaosmW15b56as7VTOI4S0RVi0EgtmcS4NUpWdLXfbr5Vpzogr\n",
              "s4ECcQefOBVNhqiyySCLf9tw59NGk0fM0A9Rau4FVYWdIA2yGI5yNlTXftEMKCMqVVPVPoJlEbMk\n",
              "56X/+o8L3gxkV3CKom8alIyrgYEdXNIuI7dz/yiQjf///tI/DcFiI9pIlOyXg/v5MX5klWqjLAUe\n",
              "K4M0dJ8JXRXeH/mDPxBxZ+I7NqlcYJKG+LTnzv2ObzZawHHlTPY9FyYzfIvQywhHrIPbWwH38cCg\n",
              "ZnQyDMiBAYyAszHGplqHavd8OSMNVHGu8Bt3Cpr6CjL7a+giMOKCoQQrryq7NKFuxh6ZWW/Jr2R6\n",
              "T3bHOg6HD2ymEn/M9wg3KkjOcskXwb7xcxHeftWA6SX9drmYepFikT/PLZewtlX+Jb/HylRQKAUw\n",
              "varRvQUmp8vbmYtprDWiWyQTQUs3kN8YWTnsqxlqreoLS2SYuxTpI06G9Lm+IjjCk/6/THCXaj5F\n",
              "mRje8dIyNzBFcVMvtF4Sk6Fq53xNPD7DuM5gthTVKFXa2dq+bT/GOWuH8OpVCyFrvF/+KvHIMRdY\n",
              "vuGcjuyi4h+FWWZGwX+6J9KzVR5Lac3xPONP+Amp27ZTGwdqtbsH7ubAF6JQU/iS6Fmh93QIGoZT\n",
              "1I6bd7owj6olLybbrW8xYWif9D7Q+tgx+o5CrUgM88Pet6JM8m6Dy0JAHn2BtaGz/7m/Gmd3LNOg\n",
              "DFAttxl3pfFDlmF0g/+782uSxbosPFkYzuUw7og7+oIoMiCtiIfYzjsL/wuPdo76S42fmqtozJ+1\n",
              "yB54w3dficX7RuNMpfUYFAf+oxELGPGo21+HQzL8AKO7PsoejwZng1ZLCsT/oVhfeU0K5/6VasEy\n",
              "lUhLJcE865A1fmzEljJX3JuZl/GgxBIjeHCvrLg7SC2o/OUTNMY6VdpzNUVi9nOG95lOiH18Kpdg\n",
              "v5bTy7yhMcsb7ma4stgbVOfp+5VGLZyds+vyAdaBTgxKfbaCs4FXM4uE7cy3ro9i+JbTlgGczyiF\n",
              "EEWQAbV9mt58ZZ8Gcc8zpNwAIT1HWsV/pFzqYXI40ll0lHw1/A7+J0YsG/6RnRJkpJBw9Nge1M1N\n",
              "Q9MVwFN8KyQUCo/+ZT5KzM0c7sKkJLEM6OtN+vuBrNpky30HG+3tZloAhuS2EHZ2CzxEc571Y1fq\n",
              "BaqQJCH48cjwlLkVO09a3OPaxX5RWBG8GqabRpQGota0L5Vkd9ceZiQq0s09bJOAJyyCR1H7AeA0\n",
              "QaW6Nd1VJwj1nFs+4xlqxhsKkSigfgcoqrhFJ/WmNH/7XuL0ylqbgdTOOaXHcmfYiBJHQC59XM8v\n",
              "MjtpENi1vH/vMxKzQ2hMEZajW6n1NpSgjV2HQaOvBHGL28FDI3IWraCQK1pnDemDJ/EA7FTys+6o\n",
              "VqDwWzEHR4nzhKrZDE9tfgat8sBLp/cSTp8p3YFZvRHpYXvhTlMUVEtzYtduYga8Sdifx7x8eht+\n",
              "ckOMWs83H7BY1avrfnLEhtYSzgm5uZJYQ1jIsSbbawAE19fFIdGuKVjJrZVJnhWnt2OPDIsVerH3\n",
              "FhNTTengDC9iBIIvgQev5WNAKi7t70r0dmwjnWARQ9Hr5/NNKIuG3vwOlf1oH2gBMhcQWMvcjxHb\n",
              "ZoYNdt/fFrDV0p+GMzos+aIlEqr4koJaiu6KEdWxZ5kaZrCQSZAXz7eOYkttZz0EVzeXFy7xoLZ5\n",
              "2VYB1CQ8n32BthtZYEHK+WoJCXRQVXRLshzlMZP9c6IWHuN2piJmxQNkPQQ252nOtrUqG5a/SHXk\n",
              "owAd/MW6gl9B9R3ooB3Klkwr6pjZ1J2zyfb8BQ08WwLbw1+HHhP0E8WUFP0jeP0dhRtFGuS7z2bR\n",
              "f1MB9M3B5WP33e7P3lnqdiTGnVBtvjn7j5Izy4qs2tIkz50qFEYQBo0gWqGUyU8H7NzyMOaJwkKn\n",
              "B8Pmu4A7CuqhgpvLE+7K3iWmjvdUwU5rJCnCpqFrWLopC2pMTag8DLP7OrmDDm9SW8kOnlbHgkzK\n",
              "HxDyzyN8TfkM/pRU2g06q3MvoNEujEY+KfZ+6zsbJFr1AcocKVQlmPPXCCNV84Ky7SfRurKB4Ifw\n",
              "r23nA6+0wvVLZGHECrwrwnfZvTkCunpDn7r6oL6JakHt43PwlmrQjhti1MfSD6myfJnr8NrpEiq0\n",
              "nrF2n4BfEzRW73EagFbzpGKeIFm/BT6DyZzc2ovdEs1KWn3gWFQ/dWPcBWVYaSVMwckRvikPk//e\n",
              "z1Hh1k7mW4ncu5v/Rd9ioURJkxGnykIC9TijufcDro5hdOrxU1i79pbiFbqEusw9GcMXSmbe+cl4\n",
              "K4NXbNGLNNIU2UhawupmIkkgKIP1v1/s+zCOpt7RR6AVLS6Hi83ABZvzDoz/X60DzwU0yFHIwSXo\n",
              "pJv2TkW4tFSJEtF1KIlFUhZ9cwP1L+JbiOjh82qplT2acJoPtkHaSA4IkQYFyzM6MohGALjGkVMs\n",
              "wqWmPpXOB49y2NgJHzR2O/6O2MvpfPWWx3+Ev4AGkQ5jsrEQr7WAo8eQ6E1HlQAAAshBmiFsQv/+\n",
              "jLAgu5nqc+AIKJIAoEADPlbItFr3GvpJ5m6JKN3A0j0VjSUw5WhYSqtMvtUyjgPfmsKdACsjag7x\n",
              "AVnrBCkrhqw11rgjumNGHp9aUDYRVtcJF6j2C59QOHvKVE4sH5jpDI7N/6HuHvzZoQ3NQR9+keqV\n",
              "41mj0h3wuMUtowuS35idrIqu8hW+Ngvkg936Y4vdYL19e9qN50jQwaOGH22w6AxQtzLBftWeVNTE\n",
              "crg+MhCmqgAChjcaCFLRCYWm9vwE/kelDfzjXXTMx2FOiZssNhInm7xVtWpUkgVbql1E5CE+a0dV\n",
              "WHB0Va8LXgNcCAu8fXtgpGuj02rwm8d0olTBCgm7jJKiTdqHoM19HrrYVjWSPEz+g0+X40MEBo46\n",
              "O9wmi4OLxx09FR8Dld3TMdlgSxE+40dokZ7teHBgVo7BZVJ5sZXAZaDMQiMIJA8TNKrFQ8AfnC90\n",
              "fgk9H09Li+sXq4dlNRVbRUHk2UKiEG52cY+dZpC02yg+Uu/TtQMGgSsfDUFma7TOr7wZSac9dBBe\n",
              "Lf9Q3ZqHxB/NeiYHNKQj9sjGO11JC/pY3gZ7o+I26Xq2pqt52U3v8k+im+m5BhCTEXjDB52dHP6/\n",
              "vWfERPQScSvV9fEdA0Wntn6ew5EkFS3cSNgIHXfNR5SR6GX+D5mS1mthAQAXhpHeSyIruHpjMgUr\n",
              "lnzlFWqI2ofiaAf2b82IUOGIviKQ3Fj/FSKZaiv3ABM3Q8Uzj20TSIoLniwSuEINDS0NyztloLyd\n",
              "auYAcO9fPyXvjWl6iOablCu+wi5OD7KWk6b0gBF1p84VWXVixWNp7qL/N70G8AnuUMV/uwIaAyz9\n",
              "X/VOPnv8Azt5d3P7AQOGkpd239y3h0W3fBn7u+O72Q5F69uJ4D7oyekzKYNtf5k7MuMhiZJrFdJy\n",
              "mCzdpyXqVKRkN6h32f2QBMjVSDVgAAAA20GaQzwhkymEL//+jLCE4nJznwA9kmHayq/SLha+s5XX\n",
              "rAgQdRSIDMWOYgBqtRj5X23lNXl+bbUL+XR3HB11QqRHhTBcM7Ft7PkVxqkxfEJ2GRH8iXb+5w3y\n",
              "8L9RuJnIYvoIgbFZCZJ+412Ip6wpL6xB+15N52ew20v+HUxgJTe+HoB0/bLDrhGD01bEVujZvii9\n",
              "MiVoqW9z+3ygj+nTFgwnnjLUh3JsoNH3zHVeP4CEMRhlzODWV4QBTuopOM1Jhk28GfKw4V+rLhu7\n",
              "bsV0t7swPHRMy4XdI8HnTwAAAC4BnmJqR/8H5IoyikqkzF0PYbNkVl3vBGSbKGGYIK+AC6i8VStG\n",
              "zky4an/Mjrs4AAAAtUGaZUnhDyZTBTwv//6MsAAAyylrw4BNKCXeF19cMQR5Ux1QnXldFGpyUWdu\n",
              "Qb0TCT2RG+pwX51C1+UWLrlW1fCCWQb4GXHQNoD+QbfXkuWVVh/tKcr4B8CDpwTZQ2ZV8fhC39nM\n",
              "9XEf8mxpj1jEbeMDC8B9C/lp0hLxF1RENL7T08UVXflLLCmcIz169LW7N3nM4P9/w/4/WclfJDo+\n",
              "Yhmz6H9EeAA6PtIE2OlDkXozuA/77JMAAAAZAZ6Eakf/ADIvFjuQYEgAttqIYB126IPqTQAAATlB\n",
              "molJ4Q8mUwIX//6MsAADARAhsA2vrLdvM8czuCmVEEyVrgPLS/euvAiszB5jnk2+wPx30MHfIG1v\n",
              "NPKWV8dcooxB8yIFN6Dnpb+dyvjqxeaQUWVddXlVBqCAIzWu0MbSSbwCrMYIGYiuPYi9CSQDjMNI\n",
              "3wa6s6PAD36MP+wAaSkpSwni5qzsr62Fwu9BiDnIaRAoXgtvBLxVNsYDwT5JxJ0f9mLyWgqIwTtl\n",
              "0JBpFe6unpB/+KupYRoy7aUIrQ6QIq2/4gvwAmilMhzY4lDcuLWleLCpDTWAUr22BpZ0VpDISVVi\n",
              "fIzgQpTT/QqgLqy6Mbh9GKRFGEgg3tFrb472iStElkqwPye3hVnk6ExQeGsjexYER2XeK6b7XDqn\n",
              "dt6QBvtwqrBjiEloDdcvK2tmta+wxhM58wgRAAAAHEGep0URPCP/ANzcVS6r6qJ3pTFZkqC5/5Ib\n",
              "78EAAAAVAZ7GdEf/AADJXyXDcdVQAlcCs3MwAAAAGgGeyGpH/wABiJKlRDWoAEqk9jWF7fcE8WmA\n",
              "AAAAVkGaykmoQWiZTAhn//6eEAAElJbWAG2F1AH1FUx0Oqiso1RAcyre40yzKe/QwuFUjGrkB5Y4\n",
              "GZVIz+QjXlv+XKVqfZTlrfcTWeCNvJlgmbuoCwkitLeLAAAAnkGa7knhClJlMCGf/p4QAAWrWT3A\n",
              "DpHvqVyxKfa4ew/wuyUPMVYzRKbwHatFqdDk5cRYXjNLUX5n8zBg2cTCuo/Kd+c+rRlhN5YLJ5WB\n",
              "X6gy6vwyIEMpTJrMnLH3rr4CudxnG6ehUcige6GBG0kWQy1IpLDLqonGo/jpLJw2Z3RolCMwrpcG\n",
              "VhZuAz9axyj5g8m4GE2B5ILpHD94JWXwAAAAHkGfDEU0TCP/ANzcVS6r/5icyLIzQAkMp5oWgkmT\n",
              "LAAAABcBnyt0R/8AAX5C9b8ABbgkEGXwsmdaBwAAABYBny1qR/8AAua6c2ABKaD7mtQtkcJvAAAA\n",
              "bUGbMkmoQWiZTAhf//6MsAALbjtsAmlCnpPd8OuJVoPM+tqQicJVNq1/xwCJtHtkjLxtZoVNDQXh\n",
              "8FzM3pHsPtFAk5bpUXUGCG344SLPIKjwBWR6z/CC/nWyZOP+mB0rZBV5MT1WwnXRfGBjWBkAAAAg\n",
              "QZ9QRREsI/8A3NxVLqwrMQEjrs5K5dwAJsML7/1W1sAAAAAOAZ9vdEf/AALnhXYCjXwAAAAXAZ9x\n",
              "akf/AAXRe5gBbvVQ1YxqQd/1JuEAAAB3QZt2SahBbJlMCF///oywABZMPsJ9bpHD+pof4Yh6hW9D\n",
              "VDgKMvsUfv479OZO5sFrYvyAekiIGZppwft78ubxJPl43S79LCb+PoBKFHK1+B2ewgSep6UV7DgM\n",
              "QnGRSRrDOkdDK9xAVD1wkxAIS0GRMSMjjBmH6s4AAAAfQZ+URRUsI/8A3NxVLqwrCLHsugAlkYyz\n",
              "DdOCT1/JwAAAAA8Bn7N0R/8ABcZyhtnb2LEAAAAUAZ+1akf/AAWt7msAJlCepmz4LlwAAABcQZu6\n",
              "SahBbJlMCF///oywABZKMRKPACduaPi17Iris9UctVSyVObBF7VD7X9fKzs2ybPKY1fpHTtfxUcJ\n",
              "z4QneoT6+Utl2MV5WfZw1cfvRPuWWeOIev8GiULGQsEAAAAWQZ/YRRUsI/8A3NxVLqx9bEC9epGb\n",
              "KQAAABEBn/d0R/8AC1wQlRFY4Qm7gAAAAA4Bn/lqR/8AC1kSvAMjuwAAAFBBm/tJqEFsmUwIX//+\n",
              "jLAAKp/kLO7N97/s9PwBRzQwhzNEQ3nu8qa2qkDUUEjL6gkTCNc9Zea32tA57XAWQF1MrBXUztIZ\n",
              "wyik3kT9nklO6AAAAGVBmh9J4QpSZTAhf/6MsAAWYst20SQBZukncY0lllbR0xiVfZBLcMahPMHr\n",
              "YTPZ9qHDYe/XjzwDWkDX14ZAFAevIXMq+XN95n5ZJF43kP5vlkEMClmMKNQvgBulZtEXQaaOBh7z\n",
              "KwAAAB9Bnj1FNEwj/wDc3FUurR7E5j0bSl/vZoAcQZruGelTAAAAEgGeXHRH/wAWL0sfnnp6NyHs\n",
              "CAAAABUBnl5qR/8AFjIGXtrwAHBHFmm04UkAAAA7QZpASahBaJlMCF///oywACuMc1qDn5dkBBKU\n",
              "TZqGXX4tQdwOYGb2fT+cmnYtSw2dalHGiq4Z/W+08vMAAABPQZpkSeEKUmUwIX/+jLAAK7vj5Ptb\n",
              "yAAXmlFxcYz8yfR92rgoG3LxTPkLGnyivucb2C8Gt7y/9y2G6ZBFQyDvAPEXGZMLmlPIgM6YTNDp\n",
              "gAAAAB5BnoJFNEwj/wDc3FUurR0XUs3yAARJYgQsQ6V+QW0AAAAQAZ6hdEf/ABYX6jugPcRcQAAA\n",
              "ABQBnqNqR/8AFjtxQAb4ApulRjxFxQAAADtBmqhJqEFomUwIX//+jLAAK46cP4AN7KMeKY36kqRq\n",
              "1jzCgNCFFAyYbRYpP9ok9Dprb+rc87VtYpILKQAAAB9BnsZFESwj/wDc3FUurRzciJwALDsZKa7k\n",
              "kAIsyAspAAAACwGe5XRH/wAAAwO7AAAADAGe52pH/wAWvNYRZwAAAFxBmutJqEFsmUwIX//+jLAA\n",
              "K3lOgAl9KExrS374qV7vXYIaJv6pwHohOoL7FzCtuMPJKugUypXY296oBnU/pvQnsG59kUe93diZ\n",
              "JfVFNIoFj8g+hWSxEM2dUSo/wAAAACBBnwlFFSwj/wDc3FUurSgfpp5AAr56oOQW/TzXzeqGMQAA\n",
              "ABUBnypqR/8AFf1+jMACVFlDPoOOIuIAAABAQZssSahBbJlMCF///oywACt47bAJhilpi9yoK02C\n",
              "Q5m1U29pynXcEya6pyYjoLkIdfegS07ORHhozWev0aMVUAAAAFBBm09J4QpSZTAhn/6eEAAqJ102\n",
              "m8AmlLhOeAd54YRk++uBODqw4HuBddl26tS+CZPiB6bh+gNRQzdn8a0DQT3d+F+LLPOnzAthy/x2\n",
              "UkNG9QAAABVBn21FNEwj/wDc3FUurRENs8NAC7kAAAANAZ+Oakf/ABWEHrkPmQAAAG9Bm5NJqEFo\n",
              "mUwIZ//+nhAAUbJ0YATV6h210KOR3aASR/rvnDuRYt9w5n0kmeaVTIYr2k71d61pj0rPYfJJWMxL\n",
              "/xyMI1ykp5RlgAg4U1Fh/KtoVRB9tXVVXcVz9Hn79U6NpYAPAs95+frRk6kI34AAAAAkQZ+xRREs\n",
              "I/8A3NxVLrIUSwE0l+o/ASQAWVcRuL9b3GqXsgU0AAAAGAGf0HRH/wAVkTmhy0BXgARf7UxSEq1C\n",
              "RwAAABQBn9JqR/8AKiSCBABdRcH3CiQf4AAAAEdBm9dJqEFsmUwIZ//+nhAAUbJ0YAbmQEfUnfWs\n",
              "xs12bPqrCvZSn/oohb9tyrD5Z7wgkDvF+PESR6bvXXP+iIrlHh9QGfYTcAAAACBBn/VFFSwj/wDc\n",
              "3FUusgvugA9cP2jIlQ//W58NX2dl3QAAABYBnhR0R/8AKam0UgACb9i3NTV5FuFFAAAADwGeFmpH\n",
              "/wAqCgjKQj7FgQAAAD9BmhtJqEFsmUwIZ//+nhAAUZ71wb0wA1ztRL5s81I8/urPR/ZX9Ddtcq9U\n",
              "UF2jFfmblNqy67VSFrZcofIaN6EAAAAUQZ45RRUsI/8A3NxVLqx07h2oc3AAAAAOAZ5YdEf/ACoe\n",
              "kTDQPUEAAAAMAZ5aakf/ACoKAEMGAAAANUGaX0moQWyZTAhn//6eEABR2N8c8OAKZmV/jjtWKbmH\n",
              "O0rFOqI98+twvhZvpsypO1R/RYOPAAAAHUGefUUVLCP/ANzcVS6yDGjgBbgwvtPFfspPfQelAAAA\n",
              "DQGenHRH/wAqArkLgSsAAAAOAZ6eakf/ACoJv7h4bMAAAAAhQZqDSahBbJlMCF///oywAFJxmQAX\n",
              "2l5jA+Nn4o/99YdNAAAAFUGeoUUVLCP/ANzcVS6xjyfrArAJOAAAAAwBnsB0R/8AKOLkUb8AAAAM\n",
              "AZ7Cakf/ACj5rCGNAAAARUGax0moQWyZTAhf//6MsABSmDDRIQAOS+Gz8Y6zagK8zBgw+IIeC/Fy\n",
              "DIPEMgdfCvJ17tvhCzcGto1JsWuLg7N/Rows4QAAACJBnuVFFSwj/wDc3FUuscLBZJACOM9v4N2n\n",
              "cjW1RlHRjQ1JAAAADQGfBHRH/wAocI6BRv0AAAANAZ8Gakf/AChwjoFG/QAAAERBmwtJqEFsmUwI\n",
              "X//+jLAAULfGtUIxLcWAA48KW3UJ4xjKezbk7N0x6e9Z1AEqMjyOv51DLl7tFz8Zt5iv7A0XA+QW\n",
              "UAAAAB9BnylFFSwj/wDc3FUusXAAvAAHAUjou5c5EMWA2RTQAAAADgGfSHRH/wAo+cXt6IQdAAAA\n",
              "DAGfSmpH/wAUfNYRjQAAACxBm01JqEFsmUwUTC///oywAFCwOy3VxwAjI9Xi4fg4sYfX3UgLT50o\n",
              "XnyCygAAABABn2xqR/8AMl5N2A3PH58xAAAAPkGbb0nhClJlMFLC//6MsABQM9KEANi3EHTl8kF/\n",
              "6mEVXMT7x5G3naYjMspez2SGSeFqWeWlQbkzNL+QugelAAAAGwGfjmpH/wBR83TmST2mSOgBMVMT\n",
              "6hFX+pihbQAAADlBm5FJ4Q6JlMFEwz/+nhAAT3NB4Abr1xRbT/k6e/qPwersjbKPFg+icIfvexY7\n",
              "xb38bzFnrh5MFbAAAAAZAZ+wakf/AFIIKuLlbexKABOzyWEeZMobUAAAADtBm7VJ4Q8mUwIX//6M\n",
              "sABQMp0ACKxOV2iJWMcG7MUqLmhZaSFy9zhCNdU6mWRb1xnUebfmBlntzV5BZQAAABRBn9NFETwj\n",
              "/wDc3FiIe3/u0ZWUkAAAABgBn/J0R/8AUcW0YZngBLQPvyIAzNM4FlAAAAAMAZ/0akf/AFHzWEGN\n",
              "AAAASkGb+UmoQWiZTAhf//6MsABSc83gAcWhz5e/yXTQOpftbZXGMyC0AMswxJ++vVSloPUpqWFd\n",
              "w6a9GyKZ48Es7GQgdGrLXPowxQekAAAAFkGeF0URLCP/ANzcWImreWVJfrU9Q9sAAAANAZ42dEf/\n",
              "AFHFxHwxGwAAABIBnjhqR/8AUfNpWNnE/9bykTAAAAA7QZo9SahBbJlMCF///oywAFSztWADjepQ\n",
              "pNFzGSOz/qkskAbfvTdgJ6odRxkb/zWSgT93yW8lee0YV8EAAAAhQZ5bRRUsI/8A3NxYiat5ZiMg\n",
              "mlk0WzQAfwoTfxQlgNmAAAAADwGeenRH/wApcyAAxiIYMQAAABcBnnxqR/8AUOIPd50vS4AJznfx\n",
              "z57ETQAAADBBmmFJqEFsmUwIT//98QADJgVgIwgAuoPzEKzlza2POWc9sy1AouwTL5bvxwIuQm4A\n",
              "AAAfQZ6fRRUsI/8A3NxYauqIWhf+fz0AD9zXEPyfYsBswAAAAA0Bnr50R/8AKwPHKIXlAAAAEwGe\n",
              "oGpH/wApgWl7ABO2FCoyQf4AAAAlQZqjSahBbJlMFEx//IQAEs7eAAA2d5C87t9x1lSl4IkG6HOC\n",
              "pwAAABABnsJqR/8AMl5O03rSgMqAAAAHxm1vb3YAAABsbXZoZAAAAAAAAAAAAAAAAAAAA+gAAAfQ\n",
              "AAEAAAEAAAAAAAAAAAAAAAABAAAAAAAAAAAAAAAAAAAAAQAAAAAAAAAAAAAAAAAAQAAAAAAAAAAA\n",
              "AAAAAAAAAAAAAAAAAAAAAAAAAAAAAAIAAAbwdHJhawAAAFx0a2hkAAAAAwAAAAAAAAAAAAAAAQAA\n",
              "AAAAAAfQAAAAAAAAAAAAAAAAAAAAAAABAAAAAAAAAAAAAAAAAAAAAQAAAAAAAAAAAAAAAAAAQAAA\n",
              "AAGwAAABIAAAAAAAJGVkdHMAAAAcZWxzdAAAAAAAAAABAAAH0AAAAgAAAQAAAAAGaG1kaWEAAAAg\n",
              "bWRoZAAAAAAAAAAAAAAAAAAAMgAAAGQAVcQAAAAAAC1oZGxyAAAAAAAAAAB2aWRlAAAAAAAAAAAA\n",
              "AAAAVmlkZW9IYW5kbGVyAAAABhNtaW5mAAAAFHZtaGQAAAABAAAAAAAAAAAAAAAkZGluZgAAABxk\n",
              "cmVmAAAAAAAAAAEAAAAMdXJsIAAAAAEAAAXTc3RibAAAALNzdHNkAAAAAAAAAAEAAACjYXZjMQAA\n",
              "AAAAAAABAAAAAAAAAAAAAAAAAAAAAAGwASAASAAAAEgAAAAAAAAAAQAAAAAAAAAAAAAAAAAAAAAA\n",
              "AAAAAAAAAAAAAAAAAAAAABj//wAAADFhdmNDAWQAHv/hABhnZAAerNlBsJaEAAADAAQAAAMBkDxY\n",
              "tlgBAAZo6+PLIsAAAAAcdXVpZGtoQPJfJE/FujmlG88DI/MAAAAAAAAAGHN0dHMAAAAAAAAAAQAA\n",
              "AGQAAAEAAAAAFHN0c3MAAAAAAAAAAQAAAAEAAAMYY3R0cwAAAAAAAABhAAAAAgAAAgAAAAABAAAD\n",
              "AAAAAAEAAAEAAAAAAQAAAwAAAAABAAABAAAAAAEAAAUAAAAAAQAAAgAAAAABAAAAAAAAAAEAAAEA\n",
              "AAAAAQAAAgAAAAABAAAFAAAAAAEAAAIAAAAAAQAAAAAAAAABAAABAAAAAAEAAAUAAAAAAQAAAgAA\n",
              "AAABAAAAAAAAAAEAAAEAAAAAAQAABQAAAAABAAACAAAAAAEAAAAAAAAAAQAAAQAAAAABAAAFAAAA\n",
              "AAEAAAIAAAAAAQAAAAAAAAABAAABAAAAAAEAAAIAAAAAAQAABQAAAAABAAACAAAAAAEAAAAAAAAA\n",
              "AQAAAQAAAAABAAACAAAAAAEAAAUAAAAAAQAAAgAAAAABAAAAAAAAAAEAAAEAAAAAAQAABQAAAAAB\n",
              "AAACAAAAAAEAAAAAAAAAAQAAAQAAAAABAAAEAAAAAAIAAAEAAAAAAQAAAgAAAAABAAAEAAAAAAIA\n",
              "AAEAAAAAAQAABQAAAAABAAACAAAAAAEAAAAAAAAAAQAAAQAAAAABAAAFAAAAAAEAAAIAAAAAAQAA\n",
              "AAAAAAABAAABAAAAAAEAAAUAAAAAAQAAAgAAAAABAAAAAAAAAAEAAAEAAAAAAQAABQAAAAABAAAC\n",
              "AAAAAAEAAAAAAAAAAQAAAQAAAAABAAAFAAAAAAEAAAIAAAAAAQAAAAAAAAABAAABAAAAAAEAAAUA\n",
              "AAAAAQAAAgAAAAABAAAAAAAAAAEAAAEAAAAAAQAABQAAAAABAAACAAAAAAEAAAAAAAAAAQAAAQAA\n",
              "AAABAAADAAAAAAEAAAEAAAAAAQAAAwAAAAABAAABAAAAAAEAAAMAAAAAAQAAAQAAAAABAAAFAAAA\n",
              "AAEAAAIAAAAAAQAAAAAAAAABAAABAAAAAAEAAAUAAAAAAQAAAgAAAAABAAAAAAAAAAEAAAEAAAAA\n",
              "AQAABQAAAAABAAACAAAAAAEAAAAAAAAAAQAAAQAAAAABAAAFAAAAAAEAAAIAAAAAAQAAAAAAAAAB\n",
              "AAABAAAAAAEAAAMAAAAAAQAAAQAAAAAcc3RzYwAAAAAAAAABAAAAAQAAAGQAAAABAAABpHN0c3oA\n",
              "AAAAAAAAAAAAAGQAADTHAAACzAAAAN8AAAAyAAAAuQAAAB0AAAE9AAAAIAAAABkAAAAeAAAAWgAA\n",
              "AKIAAAAiAAAAGwAAABoAAABxAAAAJAAAABIAAAAbAAAAewAAACMAAAATAAAAGAAAAGAAAAAaAAAA\n",
              "FQAAABIAAABUAAAAaQAAACMAAAAWAAAAGQAAAD8AAABTAAAAIgAAABQAAAAYAAAAPwAAACMAAAAP\n",
              "AAAAEAAAAGAAAAAkAAAAGQAAAEQAAABUAAAAGQAAABEAAABzAAAAKAAAABwAAAAYAAAASwAAACQA\n",
              "AAAaAAAAEwAAAEMAAAAYAAAAEgAAABAAAAA5AAAAIQAAABEAAAASAAAAJQAAABkAAAAQAAAAEAAA\n",
              "AEkAAAAmAAAAEQAAABEAAABIAAAAIwAAABIAAAAQAAAAMAAAABQAAABCAAAAHwAAAD0AAAAdAAAA\n",
              "PwAAABgAAAAcAAAAEAAAAE4AAAAaAAAAEQAAABYAAAA/AAAAJQAAABMAAAAbAAAANAAAACMAAAAR\n",
              "AAAAFwAAACkAAAAUAAAAFHN0Y28AAAAAAAAAAQAAACwAAABidWR0YQAAAFptZXRhAAAAAAAAACFo\n",
              "ZGxyAAAAAAAAAABtZGlyYXBwbAAAAAAAAAAAAAAAAC1pbHN0AAAAJal0b28AAAAdZGF0YQAAAAEA\n",
              "AAAATGF2ZjU3LjgzLjEwMA==\n",
              "\">\n",
              "  Your browser does not support the video tag.\n",
              "</video>"
            ]
          },
          "metadata": {
            "tags": []
          }
        }
      ]
    },
    {
      "cell_type": "code",
      "metadata": {
        "id": "JVynmfqy2nXB",
        "colab_type": "code",
        "colab": {}
      },
      "source": [
        ""
      ],
      "execution_count": 0,
      "outputs": []
    }
  ]
}