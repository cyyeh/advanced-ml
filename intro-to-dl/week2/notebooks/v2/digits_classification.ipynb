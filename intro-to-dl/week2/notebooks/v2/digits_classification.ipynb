{
 "cells": [
  {
   "cell_type": "markdown",
   "metadata": {
    "Collapsed": "false",
    "colab_type": "text",
    "id": "view-in-github"
   },
   "source": [
    "<a href=\"https://colab.research.google.com/github/cyyeh/advanced-ml/blob/master/intro-to-dl/week2/notebooks/v2/digits_classification.ipynb\" target=\"_parent\"><img src=\"https://colab.research.google.com/assets/colab-badge.svg\" alt=\"Open In Colab\"/></a>"
   ]
  },
  {
   "cell_type": "code",
   "execution_count": null,
   "metadata": {
    "Collapsed": "false",
    "colab": {},
    "colab_type": "code",
    "id": "LmbxG78Adfkg"
   },
   "outputs": [],
   "source": [
    "# set tf 1.x for colab\n",
    "%tensorflow_version 1.x"
   ]
  },
  {
   "cell_type": "code",
   "execution_count": 35,
   "metadata": {
    "Collapsed": "false",
    "colab": {
     "base_uri": "https://localhost:8080/",
     "height": 306
    },
    "colab_type": "code",
    "id": "0YTU1Pw6eBXu",
    "outputId": "7517a301-9efb-4445-d9a3-ad841d12b526"
   },
   "outputs": [
    {
     "name": "stdout",
     "output_type": "stream",
     "text": [
      "--2020-02-26 12:28:33--  https://raw.githubusercontent.com/hse-aml/intro-to-dl/master/setup_google_colab.py\n",
      "Resolving raw.githubusercontent.com (raw.githubusercontent.com)... 151.101.0.133, 151.101.64.133, 151.101.128.133, ...\n",
      "Connecting to raw.githubusercontent.com (raw.githubusercontent.com)|151.101.0.133|:443... connected.\n",
      "HTTP request sent, awaiting response... 200 OK\n",
      "Length: 3636 (3.6K) [text/plain]\n",
      "Saving to: ‘setup_google_colab.py’\n",
      "\n",
      "setup_google_colab. 100%[===================>]   3.55K  --.-KB/s    in 0s      \n",
      "\n",
      "2020-02-26 12:28:33 (72.5 MB/s) - ‘setup_google_colab.py’ saved [3636/3636]\n",
      "\n",
      "**************************************************\n",
      "inception_v3_weights_tf_dim_ordering_tf_kernels_notop.h5\n",
      "**************************************************\n",
      "cifar-10-batches-py.tar.gz\n",
      "**************************************************\n",
      "mnist.npz\n"
     ]
    }
   ],
   "source": [
    "! shred -u setup_google_colab.py\n",
    "! wget https://raw.githubusercontent.com/hse-aml/intro-to-dl/master/setup_google_colab.py -O setup_google_colab.py\n",
    "import setup_google_colab\n",
    "# please, uncomment the week you're working on\n",
    "# setup_google_colab.setup_week1()\n",
    "setup_google_colab.setup_week2()\n",
    "# setup_google_colab.setup_week2_honor()\n",
    "# setup_google_colab.setup_week3()\n",
    "# setup_google_colab.setup_week4()\n",
    "# setup_google_colab.setup_week5()\n",
    "# setup_google_colab.setup_week6()"
   ]
  },
  {
   "cell_type": "markdown",
   "metadata": {
    "Collapsed": "false",
    "colab_type": "text",
    "id": "bkkfDA2Zdfkk"
   },
   "source": [
    "# MNIST digits classification with TensorFlow"
   ]
  },
  {
   "cell_type": "markdown",
   "metadata": {
    "Collapsed": "false",
    "colab_type": "text",
    "id": "e6Zlj_ijdfkl"
   },
   "source": [
    "<img src=\"https://github.com/cyyeh/advanced-ml/blob/master/intro-to-dl/week2/notebooks/v2/images/mnist_sample.png?raw=1\" style=\"width:30%\">"
   ]
  },
  {
   "cell_type": "code",
   "execution_count": 36,
   "metadata": {
    "Collapsed": "false",
    "colab": {
     "base_uri": "https://localhost:8080/",
     "height": 34
    },
    "colab_type": "code",
    "id": "G1gAhf6ndfkm",
    "outputId": "4c7704dc-c259-4039-ff2c-a67c2db97e5a"
   },
   "outputs": [
    {
     "name": "stdout",
     "output_type": "stream",
     "text": [
      "We're using TF 1.15.0\n"
     ]
    }
   ],
   "source": [
    "import numpy as np\n",
    "from sklearn.metrics import accuracy_score\n",
    "from matplotlib import pyplot as plt\n",
    "%matplotlib inline\n",
    "import tensorflow as tf\n",
    "print(\"We're using TF\", tf.__version__)\n",
    "\n",
    "import sys\n",
    "sys.path.append(\"../..\")\n",
    "import grading\n",
    "\n",
    "import matplotlib_utils\n",
    "from importlib import reload\n",
    "reload(matplotlib_utils)\n",
    "\n",
    "import grading_utils\n",
    "reload(grading_utils)\n",
    "\n",
    "import keras_utils\n",
    "from keras_utils import reset_tf_session"
   ]
  },
  {
   "cell_type": "markdown",
   "metadata": {
    "Collapsed": "false",
    "colab_type": "text",
    "id": "VXSpHQ_Qdfkp"
   },
   "source": [
    "# Fill in your Coursera token and email\n",
    "To successfully submit your answers to our grader, please fill in your Coursera submission token and email"
   ]
  },
  {
   "cell_type": "code",
   "execution_count": null,
   "metadata": {
    "Collapsed": "false",
    "colab": {},
    "colab_type": "code",
    "id": "PBbxh3F2dfkq"
   },
   "outputs": [],
   "source": [
    "grader = grading.Grader(assignment_key=\"XtD7ho3TEeiHQBLWejjYAA\", \n",
    "                        all_parts=[\"9XaAS\", \"vmogZ\", \"RMv95\", \"i8bgs\", \"rE763\"])"
   ]
  },
  {
   "cell_type": "code",
   "execution_count": null,
   "metadata": {
    "Collapsed": "false",
    "colab": {},
    "colab_type": "code",
    "id": "w7Ocvlbodfkt"
   },
   "outputs": [],
   "source": [
    "# token expires every 30 min\n",
    "COURSERA_TOKEN = 'jbyj6nwwAu7gWsiB'\n",
    "COURSERA_EMAIL = 'chihyu.jimmy.yeh@gmail.com'"
   ]
  },
  {
   "cell_type": "markdown",
   "metadata": {
    "Collapsed": "false",
    "colab_type": "text",
    "id": "jRrzwObndfkv"
   },
   "source": [
    "# Look at the data\n",
    "\n",
    "In this task we have 50000 28x28 images of digits from 0 to 9.\n",
    "We will train a classifier on this data."
   ]
  },
  {
   "cell_type": "code",
   "execution_count": null,
   "metadata": {
    "Collapsed": "false",
    "colab": {},
    "colab_type": "code",
    "id": "yCp-mykBdfkw"
   },
   "outputs": [],
   "source": [
    "import preprocessed_mnist\n",
    "X_train, y_train, X_val, y_val, X_test, y_test = preprocessed_mnist.load_dataset()"
   ]
  },
  {
   "cell_type": "code",
   "execution_count": 40,
   "metadata": {
    "Collapsed": "false",
    "colab": {
     "base_uri": "https://localhost:8080/",
     "height": 683
    },
    "colab_type": "code",
    "id": "XAXKZ94Fdfkz",
    "outputId": "45c54551-e2b8-4e89-daf0-546853464357"
   },
   "outputs": [
    {
     "name": "stdout",
     "output_type": "stream",
     "text": [
      "X_train [shape (50000, 28, 28)] sample patch:\n",
      " [[0.         0.29803922 0.96470588 0.98823529 0.43921569]\n",
      " [0.         0.33333333 0.98823529 0.90196078 0.09803922]\n",
      " [0.         0.33333333 0.98823529 0.8745098  0.        ]\n",
      " [0.         0.33333333 0.98823529 0.56862745 0.        ]\n",
      " [0.         0.3372549  0.99215686 0.88235294 0.        ]]\n",
      "A closeup of a sample patch:\n"
     ]
    },
    {
     "data": {
      "image/png": "[encoded data removed]",
      "text/plain": [
       "<Figure size 432x288 with 1 Axes>"
      ]
     },
     "metadata": {
      "tags": []
     },
     "output_type": "display_data"
    },
    {
     "name": "stdout",
     "output_type": "stream",
     "text": [
      "And the whole sample:\n"
     ]
    },
    {
     "data": {
      "image/png": "[encoded data removed]",
      "text/plain": [
       "<Figure size 432x288 with 1 Axes>"
      ]
     },
     "metadata": {
      "tags": []
     },
     "output_type": "display_data"
    },
    {
     "name": "stdout",
     "output_type": "stream",
     "text": [
      "y_train [shape (50000,)] 10 samples:\n",
      " [5 0 4 1 9 2 1 3 1 4]\n"
     ]
    }
   ],
   "source": [
    "# X contains rgb values divided by 255\n",
    "print(\"X_train [shape %s] sample patch:\\n\" % (str(X_train.shape)), X_train[1, 15:20, 5:10])\n",
    "print(\"A closeup of a sample patch:\")\n",
    "plt.imshow(X_train[1, 15:20, 5:10], cmap=\"Greys\")\n",
    "plt.show()\n",
    "print(\"And the whole sample:\")\n",
    "plt.imshow(X_train[1], cmap=\"Greys\")\n",
    "plt.show()\n",
    "print(\"y_train [shape %s] 10 samples:\\n\" % (str(y_train.shape)), y_train[:10])"
   ]
  },
  {
   "cell_type": "markdown",
   "metadata": {
    "Collapsed": "false",
    "colab_type": "text",
    "id": "mqYp3InZdfk2"
   },
   "source": [
    "# Linear model\n",
    "\n",
    "Your task is to train a linear classifier $\\vec{x} \\rightarrow y$ with SGD using TensorFlow.\n",
    "\n",
    "You will need to calculate a logit (a linear transformation) $z_k$ for each class: \n",
    "$$z_k = \\vec{x} \\cdot \\vec{w_k} + b_k \\quad k = 0..9$$\n",
    "\n",
    "And transform logits $z_k$ to valid probabilities $p_k$ with softmax: \n",
    "$$p_k = \\frac{e^{z_k}}{\\sum_{i=0}^{9}{e^{z_i}}} \\quad k = 0..9$$\n",
    "\n",
    "We will use a cross-entropy loss to train our multi-class classifier:\n",
    "$$\\text{cross-entropy}(y, p) = -\\sum_{k=0}^{9}{\\log(p_k)[y = k]}$$ \n",
    "\n",
    "where \n",
    "$$\n",
    "[x]=\\begin{cases}\n",
    "       1, \\quad \\text{if $x$ is true} \\\\\n",
    "       0, \\quad \\text{otherwise}\n",
    "    \\end{cases}\n",
    "$$\n",
    "\n",
    "Cross-entropy minimization pushes $p_k$ close to 1 when $y = k$, which is what we want.\n",
    "\n",
    "Here's the plan:\n",
    "* Flatten the images (28x28 -> 784) with `X_train.reshape((X_train.shape[0], -1))` to simplify our linear model implementation\n",
    "* Use a matrix placeholder for flattened `X_train`\n",
    "* Convert `y_train` to one-hot encoded vectors that are needed for cross-entropy\n",
    "* Use a shared variable `W` for all weights (a column $\\vec{w_k}$ per class) and `b` for all biases.\n",
    "* Aim for ~0.93 validation accuracy"
   ]
  },
  {
   "cell_type": "code",
   "execution_count": 41,
   "metadata": {
    "Collapsed": "false",
    "colab": {
     "base_uri": "https://localhost:8080/",
     "height": 51
    },
    "colab_type": "code",
    "id": "7Z6fPbuodfk2",
    "outputId": "9339f677-65b7-481b-a246-d2016588d064"
   },
   "outputs": [
    {
     "name": "stdout",
     "output_type": "stream",
     "text": [
      "(50000, 784)\n",
      "(10000, 784)\n"
     ]
    }
   ],
   "source": [
    "X_train_flat = X_train.reshape((X_train.shape[0], -1))\n",
    "print(X_train_flat.shape)\n",
    "\n",
    "X_val_flat = X_val.reshape((X_val.shape[0], -1))\n",
    "print(X_val_flat.shape)"
   ]
  },
  {
   "cell_type": "code",
   "execution_count": 42,
   "metadata": {
    "Collapsed": "false",
    "colab": {
     "base_uri": "https://localhost:8080/",
     "height": 85
    },
    "colab_type": "code",
    "id": "-79EnQmbdfk5",
    "outputId": "58197ded-3537-40bf-dd5e-d144f0fc8f10"
   },
   "outputs": [
    {
     "name": "stdout",
     "output_type": "stream",
     "text": [
      "(50000, 10)\n",
      "[[0. 0. 0. 0. 0. 1. 0. 0. 0. 0.]\n",
      " [1. 0. 0. 0. 0. 0. 0. 0. 0. 0.]\n",
      " [0. 0. 0. 0. 1. 0. 0. 0. 0. 0.]] [5 0 4]\n"
     ]
    }
   ],
   "source": [
    "import keras\n",
    "\n",
    "y_train_oh = keras.utils.to_categorical(y_train, 10)\n",
    "y_val_oh = keras.utils.to_categorical(y_val, 10)\n",
    "\n",
    "print(y_train_oh.shape)\n",
    "print(y_train_oh[:3], y_train[:3])"
   ]
  },
  {
   "cell_type": "code",
   "execution_count": null,
   "metadata": {
    "Collapsed": "false",
    "colab": {},
    "colab_type": "code",
    "id": "mQ_6bjZgdfk7"
   },
   "outputs": [],
   "source": [
    "# run this again if you remake your graph\n",
    "s = reset_tf_session()"
   ]
  },
  {
   "cell_type": "code",
   "execution_count": null,
   "metadata": {
    "Collapsed": "false",
    "colab": {},
    "colab_type": "code",
    "id": "GrFPch7qdfk9"
   },
   "outputs": [],
   "source": [
    "# Model parameters: W and b\n",
    "W = tf.get_variable('W', shape=(784, 10)) # tf.get_variable(...) with shape[0] = 784\n",
    "b = tf.get_variable('b', shape=(10)) # tf.get_variable(...)"
   ]
  },
  {
   "cell_type": "code",
   "execution_count": null,
   "metadata": {
    "Collapsed": "false",
    "colab": {},
    "colab_type": "code",
    "id": "L2_LsYVJdfk_"
   },
   "outputs": [],
   "source": [
    "# Placeholders for the input data\n",
    "input_X = tf.placeholder(dtype=tf.float32, shape=(None, 784)) # tf.placeholder(...) for flat X with shape[0] = None for any batch size\n",
    "input_y = tf.placeholder(dtype=tf.float32, shape=(None, 10)) # tf.placeholder(...) for one-hot encoded true labels"
   ]
  },
  {
   "cell_type": "code",
   "execution_count": null,
   "metadata": {
    "Collapsed": "false",
    "colab": {},
    "colab_type": "code",
    "id": "pBEMu7q7dflB"
   },
   "outputs": [],
   "source": [
    "# Compute predictions\n",
    "logits = tf.matmul(input_X, W) + b # logits for input_X, resulting shape should be [input_X.shape[0], 10]\n",
    "probas = tf.nn.softmax(logits) # apply tf.nn.softmax to logits\n",
    "classes = tf.argmax(probas, axis=-1) # apply tf.argmax to find a class index with highest probability\n",
    "\n",
    "# Loss should be a scalar number: average loss over all the objects with tf.reduce_mean().\n",
    "# Use tf.nn.softmax_cross_entropy_with_logits on top of one-hot encoded input_y and logits.\n",
    "# It is identical to calculating cross-entropy on top of probas, but is more numerically friendly (read the docs).\n",
    "loss = tf.reduce_mean(\n",
    "    tf.nn.softmax_cross_entropy_with_logits(labels=input_y, logits=logits)\n",
    ") # cross-entropy loss\n",
    "\n",
    "# Use a default tf.train.AdamOptimizer to get an SGD step\n",
    "step = tf.train.AdamOptimizer().minimize(loss) # optimizer step that minimizes the loss"
   ]
  },
  {
   "cell_type": "code",
   "execution_count": 53,
   "metadata": {
    "Collapsed": "false",
    "colab": {
     "base_uri": "https://localhost:8080/",
     "height": 309
    },
    "colab_type": "code",
    "id": "ZFK6H7QodflD",
    "outputId": "504b8909-a9bc-4ddb-daab-4f0b0edaedf9"
   },
   "outputs": [
    {
     "data": {
      "text/html": [
       "<img src=\"data:image/jpeg;base64,/9j/4AAQSkZJRgABAQEASABIAAD/2wBDAAIBAQEBAQIBAQECAgICAgQDAgICAgUEBAMEBgUGBgYFBgYGBwkIBgcJBwYGCAsICQoKCgoKBggLDAsKDAkKCgr/2wBDAQICAgICAgUDAwUKBwYHCgoKCgoKCgoKCgoKCgoKCgoKCgoKCgoKCgoKCgoKCgoKCgoKCgoKCgoKCgoKCgoKCgr/wAARCAEgA2ADASIAAhEBAxEB/8QAHwAAAQUBAQEBAQEAAAAAAAAAAAECAwQFBgcICQoL/8QAtRAAAgEDAwIEAwUFBAQAAAF9AQIDAAQRBRIhMUEGE1FhByJxFDKBkaEII0KxwRVS0fAkM2JyggkKFhcYGRolJicoKSo0NTY3ODk6Q0RFRkdISUpTVFVWV1hZWmNkZWZnaGlqc3R1dnd4eXqDhIWGh4iJipKTlJWWl5iZmqKjpKWmp6ipqrKztLW2t7i5usLDxMXGx8jJytLT1NXW19jZ2uHi4%2BTl5ufo6erx8vP09fb3%2BPn6/8QAHwEAAwEBAQEBAQEBAQAAAAAAAAECAwQFBgcICQoL/8QAtREAAgECBAQDBAcFBAQAAQJ3AAECAxEEBSExBhJBUQdhcRMiMoEIFEKRobHBCSMzUvAVYnLRChYkNOEl8RcYGRomJygpKjU2Nzg5OkNERUZHSElKU1RVVldYWVpjZGVmZ2hpanN0dXZ3eHl6goOEhYaHiImKkpOUlZaXmJmaoqOkpaanqKmqsrO0tba3uLm6wsPExcbHyMnK0tPU1dbX2Nna4uPk5ebn6Onq8vP09fb3%2BPn6/9oADAMBAAIRAxEAPwD9/KKKKACiiigAooooAKKKKACiiigAooooAKKKKACiiigAooooAKKKKACiiigAooooAKKKKACiiigAooooAKKKKACiiigAooooAKKKKACiiigAooooAKKKKACiiigAooooAKKKKACiiigAooooAKKKKACiiigAooooAKKKKACiiigAooooAKKKKACiiigAooooAKKKKACiiigAooooAKKKKACiiigAooooAKKKKACiiigAooooAKKKKACiiigAooooAKKKKACiiigAooooAKKKKACiiigAooooAKKKKACiiigAooooAKKKKACiiigAooooAKKKKACiiigAooooAKKKKACiiigAooooAKKKKACvPfjt%2B1J8FP2b5NGsfil4g1Maj4ilnTQNB8OeF9R1zVNR8lVed4bHTbee5kjiVkMkixlI96biu5c%2BhV4N%2B0P8D/j5/wANJ%2BDv2tv2bLLwfrWueH/B2seFNX8KeOdcutLtLywv7mwuxcQXtraXj288U2noCpt3WVJSCUKK1ABpf/BTL9izWLvxPb2nxXv0h8FWsk/jLUrvwXrEFjoIS0iu9l5dy2iwWsrQzRskMjrJIWKorMrKL2n/APBQ/wDZK1HwBrXxFTx/q9vB4f1ay0vVdE1DwNrNrrkV5ebfscC6PNaLqEr3AYGER27eaAxTcFYjy2b9gH4y%2BMf2a/jn8NfGHinwppHin4o/FS38daHc6U1xeWFpeW0OiywQ3IkihkkiN3pRRwoyYHGDuJVaPi79i/8AaV%2BLmr/Ef45fG34S/CjWvFnjWx8KaPp/gKy%2BI2s2Wm6fY6Hcaldw3qa7b6al5DqDXOqTOksVoPJSKNFZiWcgHsviH9vv9mzwv4a8OeI9XvvG3meK0v5NE8P2vwm8SXGuSRWUscV3NJpMWntf28MLzQq8s0CIpmiy37xM%2Bmaz8RPBHhv4e3XxX8T%2BJbbSvDljo76rf6vqrfZYbSySIzPPMZdvlKsYLNvxtAOcYNfGHin9hH9s/WPgX4X8Nay3hfxV470a58RHRfGV/wDHbxNpGr%2BCLW%2BuUktLO11q1sJLzXIYkjhEy3qw/aTbReYCFGPUfjR/wTotfj1%2Bzb4n%2BHHxD%2BOfjW78d%2BMPhfH4Z17xS3jbWho818tpDE2oJoS3y2FuzzQLK3kRRSEPIBIrSM5AOkg/4KUfsZf8K58V/FbWPite6Jo3giysr7xQ/ifwdq%2Bk3NlZXkxhtb37LeWsVxJaSyK6pcxxtC3luQ%2BEYjj/AI3f8FZP2d/hn8ENU%2BMfgPRfFXiqbQfiD4X8L674Y/4QXXbHU7A6zqVrax3T2cmnNdeV5Fw88DeT5d48aW8MhknjB8r1T/gmJ8ZPHfwq8faR4i8DeG9G8Y%2BI9D0fR7DxDqv7RfjPxut3aWusW%2BoTRyf27AfsEZ8likUSzHe%2BGkxknv8A9qH9gz40/GD4g/F/4g%2BBfEPheOTxfB8LbzwlZ6tfXMSvf%2BE/EdzrUsN40dvJ5ENwGt4VljEzrl2MfyKrgHqFh/wUE/Zb1H4m2XwZh8T%2BJo/Fd5oun6xLoF38N9egudO0%2B9adILu/SSyU6dDut5VeS68pYiFEhQum6j4a/wCCmH7FPi3wZ4s%2BIWkfGC4TR/Bfgi68Zaxe6h4S1W0Fx4et0Z5tWsVntUbVLNVQ4nsxPGxZArEugbB0P9kP4ofEP4mfG74g/G9fD2gxfGj4O%2BHfCF1Y%2BE9duNRl0u4tE11Ltlnns7XzYwNViMT7FZikm6OPA3fN37Y37Kn7UOj/ALDHxS%2BJv7TF34AtIfhD%2BxT8QfBHhePwFqF5cNrzXukWxn1G6W5toBYqE0i3CWcbXAVppCZ22oKAPrPw9/wUl/Yy8TaHrHiPT/i1dQWehppU1/JqnhLVbJmtNSu1s7HUIUuLVGubCWdgovoQ9qoDO0qorMPT9E%2BLvw88R/FLX/gvofiH7T4k8LaXp%2Boa/YR2k22zgvmuBa7pinlF3%2ByzHy1cyKoRmVVkjLfJOofsz%2BIPFegeKfjb/wAFIvF/wz8J%2BBbf9nu5%2BHUlx4f8QTLay6beyQyXmq3k17BbpYOTBbCG2QzCAmT/AEiQsuOw/wCCPngP4u2f7I9r8f8A9pDUDf8AxJ%2BL15H4n8V6g9nJbtJCLSCy01fKl%2BeH/iX2lpI0TYKSzTZAYtkA%2BqqKKKACiiigAooooAKKKKACiiigAooooAKKKKACiiigAooooAKKKKACiiigAooooAKKKKACiiigAooooAKKKKACiiigAooooAK8R0j/AIKMfse6ld69Z6n8Urzw83hzw5c%2BINQk8a%2BEdV0GObSbd0jnv7WTUrWBb63R5IlaW2MqAyxjOXXPtN7FczWcsNndCCZ4mWKYx7/LYjhtp64POO9fmJq//BHL9uX4v6t4X1z43fHHQ31vw14P1Cz1DxRqHxW8TeJx4h1v7ZpV9a6idLvoobLSbaS50xfPsLIBRHJtWWQKgUA%2B2X/b/wD2YbX4aN8WNY8QeKtK0ttcg0axs9c%2BGWv2GqanfzIZIYLLTbixS9v2kQM6/Z4ZAyo7AkIxHReA/wBqz4H/ABH1%2By8J%2BHPEOqQ6vf8AhSfxJDpGteFdS0y7TTYbv7JLLLDeW8UkDrP8hhkVZe%2BzbzXk3xO%2BDn7bvxib4e/G3XPBvwq0P4h/Cjx1NrHh/wAM2vjjUr/Rdcs7jSbvTLmO4vn0qGaxmKXskkbpa3AjMQU%2BYJGxV%2BJPwG/bg1/4y%2BHf2mvA%2BjfCu08WX3ww1XwX4x0LUvFepSWGkLcX8N1a39lcJpwk1AxCN1kt5YrQSlxiWLHIB3Gk/wDBRv8AZA8R694F8LeFfiNqus6n8SfBuleLfBunaJ4H1m9nvND1F9lrqMiQWjNa2%2B7HmSTiNbcMpm8oMCdj4a/tufs3fFf4jXPwn8M%2BL9Ws9ft9LudThsvE/gzVtEW/sbeRI57uyl1G1gjv4I3liDy2zSIvmISQGUnyj9hT9hL4sfsw6/8ADjWfHniDw1dnwd%2Byl4R%2BGN%2B%2BkXM8rNq2lvM1zNF5kEe61bemxmKu235o0wK8a%2BGn/BKv9sbxP8UfC/ib9qb4w2eqRaf4A8V%2BF/GniaD4v%2BJNavPEUur2KW39p2umX0Men6EcqWNpaKUXKgTOI1WgD6l8J/8ABRf9kfxrosfirQfHeuf2Hcarpen6f4lvfh/rdrpWoy6lex2VlJaX09mlteQS3M0UYuIJHhBlQs4VgT6X4W%2BLvw88a/EDxT8LvC/iH7XrnguSzj8T2iWkwWxkuoPtEEZlZBG7tCVkKIzMiyRlgokTd8w%2BOPAnxF8K/wDBPbxp8CP%2BChnif4VeCPAWg/DSLQLb4meHfFt2GadI0trXUntLqzgTTZlmFvJDBHcXTGcoiOTtDdr/AMEr/h98WPDf7ImlfFX9oqwS3%2BJ3xYvpfHXxEhW3aL7Pf36xmG02N8yfZbGOys9pyQLXBoA%2BjaKKKACiiigAooooAKKKKACiiigAooooAKKKKACiiigAooooAKKKKACiiigAooooAKKKKACiiigAooooAKKKKACiiigAooooAKKKKACvF/j14/8A2i/%2BGi/AvwI%2BAvjPwV4fTX/BXiXXtX1Pxf4Lu9aJOnXeh28MMMdvqVj5Yb%2B1JWZmZ8%2BWgAXkn2ivCviNrkdj/wAFK/hBokoH%2BnfBT4hmNs8749W8GnH/AHyWP4Um0ty4QlUdoro39yu/wL//AAg//BQv/o6D4M/%2BGH1b/wCaij/hB/8AgoX/ANHQfBn/AMMPq3/zUV7NRTIPGf8AhB/%2BChf/AEdB8Gf/AAw%2Brf8AzUUf8IP/AMFC/wDo6D4M/wDhh9W/%2BaivZqKAPGf%2BEH/4KF/9HQfBn/ww%2Brf/ADUUf8IP/wAFC/8Ao6D4M/8Ahh9W/wDmor2aigDxn/hB/wDgoX/0dB8Gf/DD6t/81FH/AAg//BQv/o6D4M/%2BGH1b/wCaivZqKAPGf%2BEH/wCChf8A0dB8Gf8Aww%2Brf/NRR/wg/wDwUL/6Og%2BDP/hh9W/%2BaivZqKAPGf8AhB/%2BChf/AEdB8Gf/AAw%2Brf8AzUUf8IP/AMFC/wDo6D4M/wDhh9W/%2BaivZqKAPGf%2BEH/4KF/9HQfBn/ww%2Brf/ADUUf8IP/wAFC/8Ao6D4M/8Ahh9W/wDmor2auM%2BIfif4YeDJ9U8ZfGXxJoWk6BpOmWbTap4mvYbeytGmnliBaSciNC7%2BUgJIySqjk4pSlGEXKTskaUaNbEVY0qUXKUmkkk223okkk223skm30TOM/wCEH/4KF/8AR0HwZ/8ADD6t/wDNRR/wg/8AwUL/AOjoPgz/AOGH1b/5qKr/APDX/wDwTg/6Oi%2BCP/hbaP8A/HaP%2BGv/APgnB/0dF8Ef/C20f/47XL9fwH/P6H/gcP8A5I9z/VLiz/oXYj/wnr//ACgsf8IP/wAFC/8Ao6D4M/8Ahh9W/wDmoo/4Qf8A4KF/9HQfBn/ww%2Brf/NRXS/C74h/sqfHH7d/wpXxz8PvGH9l%2BV/af/CLanY6h9k8zf5fm%2BQzeXu8uTbuxu2NjODXHfFH9pL4CfCH9pfw1%2BzR4t%2BFOqPeeJfBupeIotb0vwJeX1laQ2d1Z27JPLbWsiRA/atzSOypEEUSFTNDv6IVKdWPNBprummvvTa/E8fFYTF4Gu6GJpypzW8ZxlCSurq8ZRjJXWqvFXWq01Ln/AAg//BQv/o6D4M/%2BGH1b/wCaij/hB/8AgoX/ANHQfBn/AMMPq3/zUVgWH7b37D2qfCPTfj5Y6drkngnVYXuLPxUPgzr32H7GkEFw1/JN/Z22Gx8q4jcXshW3IWXEh8mXZZ8YftZ/snfDXxVrPhT4g2unpd2XjuLwnpVh4c8IalrN9f6i%2BgQ659nFtaaezGX7HI8oEJnQxopMgkZ4I7Oc1v8AhB/%2BChf/AEdB8Gf/AAw%2Brf8AzUUf8IP/AMFC/wDo6D4M/wDhh9W/%2Baiuo%2BGXjX9m/wCMegaP4l%2BGt94Z1W31/Qo9Z0mOK1jS4msHO1ZzA6rKi7vkO9VKuCjAMCB5LYftVaJefH%2BHwE/7N2iJ4CvPiRc%2BALLxwNVQ3cmvQadJeyBtP%2BybVs98E1oJ/tJkNwgHkCNhLQB2X/CD/wDBQv8A6Og%2BDP8A4YfVv/moo/4Qf/goX/0dB8Gf/DD6t/8ANRXG/tN/tVaJ8AfHuv6DoH7N2h%2BIdC%2BHvgzTvFvxT1ufVUspdH0e9u7y3jks7cWkov5kTTr%2BeSJ5LcLHAuHZpFWo/Dv7Vum%2BIfjbZ%2BCov2Z9Bj8F6/8AEDXPAnhLxg2sobq%2B8Q6VaXlxcxTWP2PbbWhbTNShS4FxI5ktRmFRKhoA7b/hB/8AgoX/ANHQfBn/AMMPq3/zUUf8IP8A8FC/%2BjoPgz/4YfVv/morzv4TfttfDHxFF8VV%2BKXwu8Awn4T29g2r6h8MPFC%2BKdPu7y7kuoV0aOc2Nm/9rpNbIj2Pllwb6zwxacKvNaT%2B3xqfiP4W%2BC/EWj/sceEbXxZ4j8PeM9d1zw7r/jqG0stJsvDWpRWF8kd%2BunyC6uGkniaNPKjj2iVnmjCBnAPaf%2BEH/wCChf8A0dB8Gf8Aww%2Brf/NRR/wg/wDwUL/6Og%2BDP/hh9W/%2BaiuC8SftwfBV/HPwU8K/Cn4K2fiay%2BLy6Ze3mrN5VqvhzTNSs7i40%2BeZPKkMs1wbaZY4AUG23uHMg8tEk6LQfjVfaH%2B0UvwK%2BPf7PHgnwva6n4R1rxN4f17SPFaakF07TLqygnfUYpbC2FizLfwOpSS4j%2BSZTIpRd4Bt/wDCD/8ABQv/AKOg%2BDP/AIYfVv8A5qKP%2BEH/AOChf/R0HwZ/8MPq3/zUV4vpf/BSP4XX3we8cfFPWP2dtC8PPofxYs/Bfg%2B28Va7b6dbazFeaLputWuqXtxLbf8AEpg%2Bw6gbiWN0mkhjtnG15SIRrfEr9uHwT8PtE%2BHmk/8ACE/ApvFHj7R73V4LnVPi/BZeFUsoJ4YIzb6y2mM95NcNcw%2BTEloN%2B2cllEQLgHqX/CD/APBQv/o6D4M/%2BGH1b/5qKP8AhB/%2BChf/AEdB8Gf/AAw%2Brf8AzUVkfE34s%2BJvhF8Z/CfhTxj%2BzH4OPgvxl4stPDej%2BIbDxQJdWa/nsZbnedMOnrGbdGhmRnW7MgSNpfK2A48ktv8Agpj8NdK8E33xK8f/ALNmgafo%2Bo/DPxF458AQaZ4hgu9Q1TTtHu7e2uY7%2BB7WFNMnLXlsdoluEQeeJHRoSrAHuX/CD/8ABQv/AKOg%2BDP/AIYfVv8A5qKP%2BEH/AOChf/R0HwZ/8MPq3/zUV5ZcftpvYa1L8Fb79mXwC3xYX4j6f4RTw7aeOPM0JJL3RbjWre5l1Q6Ys0SNa2lygQ2RkM6xxqrLKkp4n4r/APBV34TfD/4YeFPiNo/wC8EXDa7oviG5uLXXfGkOnR3%2Bo6NqX9mXeiaHMtjMNa1KS6SZbe3At/PRUbcu/CgH0T/wg/8AwUL/AOjoPgz/AOGH1b/5qKP%2BEH/4KF/9HQfBn/ww%2Brf/ADUVxU37WGix/Hd/BQ/Zo0ceA7f4i2vgK98aS6pGt7Dr9xpsV6ijThalWtA88No0/wBpEguHIEBjUy15V8O/%2BCq3w/8AHnw%2B8efEGH9mHwrPH4M8FxeIbrT9A8WxX9zobSXhtf7O8Rp9gjOg3sWHmnh/0ryora7bLeSBIAfRX/CD/wDBQv8A6Og%2BDP8A4YfVv/moqh4H8cftWeDv2rPDnwR%2BN3xH%2BHvibRvE3w98Q65DN4V%2BHl9ot1aXWm32iW6Kz3Gr3ySxumqSkqERg0SENjIND9ln4/eE/wBqj4H%2BKvido3gHwlYv4e1u%2B0uy17wN4hj1rRtWeC2hmF5pmpLbW5uoVeYwM3lJtuLa4j%2BYR7m3vHH/ACkL%2BF//AGRnx5/6dvCFAHs1FFFABRRXyh/wW2j/AGff%2BHaHxSu/2hLnwpFBa%2BFdRm8JP4subeOMa6LG4%2Bx/ZvPIDXYJcxBcvuGVGRkAH1fRXyn%2B3N8Xv2e/i78GfA%2BuTfE/wh4o%2BEp%2BJegz/FO8tdatb3SToMyXDW0l86O0X2F70WBdpD5LRhi%2BY99fIXjBvgj/AMKiH/C/DZf8K2/4QT4p/wDDNv27/Vfbf%2BElk/sf%2Bx%2B/277B9j/sryP3/wBm3fZfl30AfrTXzj8JvFX7d/x10fXvHfhf43/CTQNLt/iF4q0PS9Kv/g/ql/cRWul69f6ZC0twniKBZZHjs1dmWKNdzkBQAK9f0S7%2BMVj8DtLu/wCwdL1TxzH4dtTd6frGrPYWk%2BoeUnnLJcQ29wYl37/mSGT2WvOv%2BCdNx4lu/wBm6%2BuvGWk2Nhq8nxb%2BIbanY6ZqL3dtbznxnrXmRxTvDC0yBsgO0UZYAEoucAAvf8IP/wAFC/8Ao6D4M/8Ahh9W/wDmoo/4Qf8A4KF/9HQfBn/ww%2Brf/NRXs1FAHjP/AAg//BQv/o6D4M/%2BGH1b/wCaij/hB/8AgoX/ANHQfBn/AMMPq3/zUV7NRQB4z/wg/wDwUL/6Og%2BDP/hh9W/%2Baij/AIQf/goX/wBHQfBn/wAMPq3/AM1FezUUAeM/8IP/AMFC/wDo6D4M/wDhh9W/%2Baij/hB/%2BChf/R0HwZ/8MPq3/wA1FezUUAeM/wDCD/8ABQv/AKOg%2BDP/AIYfVv8A5qKP%2BEH/AOChf/R0HwZ/8MPq3/zUV7NRQB4z/wAIP/wUL/6Og%2BDP/hh9W/8Amoo/4Qf/AIKF/wDR0HwZ/wDDD6t/81FezUUAeM/8IP8A8FC/%2BjoPgz/4YfVv/moo/wCEH/4KF/8AR0HwZ/8ADD6t/wDNRXs1FAHjP/CD/wDBQv8A6Og%2BDP8A4YfVv/moo/4Qf/goX/0dB8Gf/DD6t/8ANRXs1FAHjP8Awg//AAUL/wCjoPgz/wCGH1b/AOaij/hB/wDgoX/0dB8Gf/DD6t/81FezUUAeM/8ACD/8FC/%2BjoPgz/4YfVv/AJqKP%2BEH/wCChf8A0dB8Gf8Aww%2Brf/NRXs1FAHjP/CD/APBQv/o6D4M/%2BGH1b/5qKP8AhB/%2BChf/AEdB8Gf/AAw%2Brf8AzUV7NRQB4z/wg/8AwUL/AOjoPgz/AOGH1b/5qKP%2BEH/4KF/9HQfBn/ww%2Brf/ADUV7NRQB4z/AMIP/wAFC/8Ao6D4M/8Ahh9W/wDmoo/4Qf8A4KF/9HQfBn/ww%2Brf/NRXs1FAHjP/AAg//BQv/o6D4M/%2BGH1b/wCaij/hB/8AgoX/ANHQfBn/AMMPq3/zUV7NWV4k8c%2BCfBsXn%2BL/ABhpWlJjO/UtQjgGPXLsKUpRirt2RpSpVa81CnFyb6JNv7km/wADy7/hB/8AgoX/ANHQfBn/AMMPq3/zUUf8IP8A8FC/%2BjoPgz/4YfVv/morQ1/9u39ibwvI0HiD9rz4Z2sqfegk8c2HmD/gAl3fpXHa7/wVj/4JyeHQTqH7XXhOTb1%2BwXEl1/6JR81xzzPLaXx14L/t%2BP8A8kfR4XgjjXHW%2Br5XiZ37Yeu//cS/M6H/AIQf/goX/wBHQfBn/wAMPq3/AM1FH/CD/wDBQv8A6Og%2BDP8A4YfVv/morzS5/wCC2/8AwTikma08NfGfVNenU4MGieCNWlbPoCbZQfzpg/4LCfBPUefBv7NXx58RA/cOifCu5k3/AE3ulc/9u5N0xEX6Pm/9JUj2F4VeJKV55TXh/wBfIKl/6dnSPTv%2BEH/4KF/9HQfBn/ww%2Brf/ADUUf8IP/wAFC/8Ao6D4M/8Ahh9W/wDmorzH/h518T/EHy/D3/gmB%2B0PdMfunxD4Uh0lT/wKSZsD3o/4bT/4KRap8/hj/gkRqzxt9x9W%2BMekWbY9SrRkj6Uv7by9/C5S9KdR/wDtiH/xDHi%2BH8eNCl/18xeDh%2BeKkenf8IP/AMFC/wDo6D4M/wDhh9W/%2Baij/hB/%2BChf/R0HwZ/8MPq3/wA1FeZf8NG/8Fb9V/48P%2BCb3hHSc9P7U%2BMFrPj6%2BTHR/wALX/4LLP8AOv7JvweQHoj%2BO7kkexIXFH9sUHtSqv8A7hT/AFsH/EOc0j/Ex2Bi/PHYd/8ApLmvxPTf%2BEH/AOChf/R0HwZ/8MPq3/zUVb/ZW%2BI3xp8Yax8UPAnx01/wvq2qeAfiFFodnqvhPw1c6Tb3VrLoOj6mrPb3F7eMsiyajKhYS7SsaHapznyf/ha//BZZfvfsmfB5v93x3cD%2Ba10H/BOzV/jJr2ufHnVf2gfCGkaD4ul%2BM0H9r6ToWoNdWkGPCPhtYtkrAFt0QjY%2BjMR2rpw2PhipuChOOl/eg4r7318jx874UxWRYVV6mKw1VN8tqOIp1Zapu7jBJqOmstrtLqfSdFFFdp8uFFFFABRRRQAUUUUAFFFFABRRRQAUUUUAFFFFABRRRQAUUUUAFFFFABXyv%2B0drv8AZH/BW79l7T9%2BP7U%2BG/xNtceuD4amx/5Bz%2BFfVFfE/wC3LrJ0H/gsL%2BxPfM%2BI5tM%2BJNo49fOsdHRR/wB9EH8K5MbP2eH5vOP/AKXFfqfQcMYX67m6o96df71h68l%2BMT7YooorrPnwooooAKKKKACiiigAooooAKKKKACuU8XeAfAnxQvNa8DfEvwVpPiLRL7SrD7bo%2Bu6bFd2txsuLiRN8Uqsj7XRXGQcMoI5Arq68%2B%2BNHxz%2BFn7Neg%2BJPjX8a/FP9i%2BGdF0rTP7T1P7DPc%2BT513NBH%2B7gR5GzLLGvyqcbsnABIzrSpRpSlVtypO97Wt1vfS3e%2Bg1ingX9ZVT2bh73Mm4uNtebmTTjbe6aa3ujH/4YH/YV/6Ms%2BEv/hudM/8AjFH/AAwP%2Bwr/ANGWfCX/AMNzpn/xivJP%2BH5v/BLL/o6L/wAsnXP/AJCo/wCH5v8AwSy/6Oi/8snXP/kKvD%2BvcK/8/KH/AJT/AMjT/iKWJ/6Hs/8Awsq//NB9D/C74B/Ar4Hfbv8AhSvwW8JeD/7U8r%2B0/wDhFvDlrp/2vy9/l%2Bb5Ea%2BZt8yTbuzt3tjGTXHfG/8AZq8W/Ev43eGfjR4J%2BJmnaHLpPg3XfCut6fqnhuTUFv8ATdTm06eQwul3bm2uI306PbIwmQrK4MZO1hJ%2By5%2B3P%2Byz%2B2j/AG7/AMM0fFH/AISX/hGvsv8AbX/EkvrP7N9o83yf%2BPqCLfu8iX7ucbecZGbHxy/a8%2BFX7O2s6ppPxOttVtU0v4bax42%2B2w20bxXdhpjwLeww/vAz3KfabYiMqAwuE2sTuC%2BxhZ4WpQUsM4uHTlty762tpv8AiZyzWWdP65Ku67n9tzdRytp8cpTbta2sna1tLWPA/wBpT/gke37QXwC8BfAaX4xeHDaeDfg5c%2BAZJfFvw0TXIFaW0tLca1p9tJexx2Goxi1OyZvtG1JWUAcsfRPCX7Av/CL/ABw074zP8WPtJsPijF4x/s46Ft8wp4Fj8J/ZfM884zs%2B1%2BZtP3vJ2f8ALWtGL/goZ8GbX9q7Qv2OfFWiahofi/xJGBpEF/r2hSvJcf2a%2BpNbyWdtqMt/AVghn/ey2yQF4Sqytvi8zzn4Af8ABT4%2BL/g34H8YfEnwXfav4v8AF/wm%2BHOv2/g7wRoUUbX%2BseJbbUJjbWc15qAQxr/Z9xIVuDCtvFAWa4n3kRdAj3X9mP4E%2BIv2cvhlovwk/wCE7stZ0nSLW7Hmf2G9vcS3E17NceZv%2B0Oqxqkvl%2BXsJJXdvAOwcLYfsOa3Z/H%2BHx6/xigfwFZ/Em58f2XgceGiLuPXp9OkspN2ofadrWe%2Bea7EH2YSC4cHzzGoirY/Yw/ap139pPwHeeJPG/ge/wBB1I%2BPfFmjWmlnQ51%2Bx2%2Bk6vNYrHeSo00EVztRN373ZM4kaHcinHE/Ff8AbG%2BNnhH42%2BJJ/DGm%2BFj8O/AHxL8HeBvFVhfabcvrGo32vSaan2u2uVuVht4rYa1p7mJ4JmmCXADxkJkA0fjx%2Bwr49%2BOuvalqt98dtL0y38feAtL8IfGSxtfBUjpr%2Bm2V1d3AGnlr7OlvINR1CFmk%2B2fup0AG%2BJXMukfsK%2BLdD%2BMlv4w0/wCONoPCGhePNd8deDvCj%2BEibnTvEerWd7bXE0979r23VoranqM6WwgicSXIzMwjQVP%2B15%2B0T%2B0B4D%2BIEHwu/ZwtfCK6np/w113xvrNx4y025uobqCwktYodNhFvcQGCS4e4kzdMZVgEI/cTGTC%2BV2v/AAUw%2BK3ib9qDw34H8L%2BHdHtfCHiDX/DFjZWWo%2BEdRkkubPVtGh1A3cmvx3A03T7qN5miTSp4murgQo0ZxdwkAHpK/wDBP4/Fjxj4i%2BIn7YPxNj8V6vrdtoFvaj4cW%2Bq%2BC4LAaRcX1zaXCva6rNdtcia/mJkNyFCxxBY1Ksz8xb/8EuR4b/Zg0v8AZh8IfErw3qdnaeKNc1mfXfih4IufF17aSX93NPHNprajqbfYLu3SYqs7eejyBpmhLSSBut8F/GL9qmX9oXxV%2BzX4m8a/DrWdRtPh4fEFtr3hzwTqEcHhW7luTDZ2eo276lK1/wCegmlTy5LR2Wxm%2BRBIjDyzxB%2B3Z%2B1pN%2Bwn8fv2gvA1z4HPiX4Iz6vdW9/4o%2BGWtaRDrljYaDFqrxy6Fd38eoaZM0spt1aeYh40W5RGjmjUgHc%2BJ/8Agkr%2BzdceKPAXir4da14x8LTeCvEmhalPa6b8QdeS01ODSdK/sy0gNpDqEVrDILeO3UzrEWZYmVgwlfNvwV%2BwV481bxX8Vrj9qT4xeGPiLoXxbtrrT9egsvBeo6Lq0OklmWz0mLUItZkENnbwySrshhiaSSaWdn8ySQtc/br/AGxvH37Pd14c8H/BHw7o%2Br69ceIdAm8YPrccslvo2gX2t2ulmUiGRG%2B1Ty3DJbKzBT9nupSHFu0bv%2BJ/xp/ac%2BHX7Zngf4UWvjvwDqng7xJZa7r%2BvaPH4Bvo9W0fQNNtI1af7d/azQyytf3enxAG0QMkspAzHyActYf8EpvB/hF/G%2BueAPi7rcmt678X9C%2BIXhK88e6nq/iiDQ77S9JsdOiimj1HUnkvd4t7pmmWWCbZcwRB9tlbla2o/wDBLvW7bwxaXHg742eH7XxfeaN410jxZrur/DkXtje2XijU11PUI7SxF9H9iMdwoEG%2Ba4QIziZLhm3i3%2Bzd%2B1N%2B1p8cE0Pw54j1H4e6Hq/xO%2BEFn8RPh9e23hO%2BuoNBtnuLZbjTdQhOpIdQkSK9tAtzDLaK7tKfJAQB6ngX9qL9rfxL%2Bx3rH7RuufELwTCbHx1rVro%2BreG/gL4i19dY0KzupLG3uY9J0/VpLtXnmgkuBMsskYt5IiY1yzgA63wn%2BxX8Y/B37T%2BhfGO3/aB8O6x4Q8JeGLHw74M8J%2BJfAN1dahoVhHbRxXskGoJqscRvbt4wZLp7RmWJUhVdvmGVvhD9gRtC%2BOHi/wDaJ1PUPhknibWPDes6PoDeHPhEum22NRlhllutZT7dJJrdxm1tULeZbKUE6qqGdivK%2BPf22f2h/DPws%2BBfx4trTwvDafFCw8KjV/BMPgzUdViiu9SuLNLzHii1vBpunxRpeqYGuoWF08BSJ5GlVU5/R/8Ago98fZ/2jfFHw4uPB/hu50/TLrxvbadodxoN9pSj%2Bw1c2sqeI7m4OmanJchEM1pbRrNYiWTzyPsk2QDs/Bn/AATZtPAfwa8YeBdEh%2BDM2r%2BOdds73WrG/wDgWj%2BEIrW1iEcFnBoMepJsVWDz%2BY91I5nmlc/KUjTF13/glRfaf8Mbf4X/AAk%2BOum6NZ6l8O9e8IeNf7c8Ax6jFfQazfyahqF5YQR3VvFptxJc3FwwBWeAKYVaFxAlcf8ABv8A4KVftH/E7w7c%2BFra28KTeKNa1nwbpvhbV9V%2BG%2Bs%2BHobGbWkvJrprnSNQvPtl3b21vYyPDeRTRW99IzRROnkSuD4of8FOvjp8PfCMUPiPVvhp4V1bw/B42h17XPEmjXz6Z4o1bQNRjtYNI0uNLxHtrm/hf7QiPJdSxfNHHDd%2BW7gA9itf2AdSsPjBHrVn8af%2BLef8J7Z%2BNrnwXPoDPqEuuWulxWEbf2n9qAFqWghu2i%2BzmU3CE%2BeI2MVcLon/AASm8XR/D2y8B%2BKv2m7W8PhP4dWPg34f6hp3gMWkkVlaanYajFLrCteyLrEjyabbJKFFrHJHLeAIhuWK52sf8FTdbsfjfotnc6l4R0fwzrXi3wVouheBdX0u5PifxDZeI7fTvL121nW5WGOzt7vUxayKbaUF7C4UzRvJEles/Db4q/tTTft0ax%2Bz14z8c/D/AMQ%2BEtE%2BHw8Q6zNoHgK%2B0y/0y4vb9oNKtWnl1a6in3w2epvIRDGR5MJAAkwADe%2BDvwA8S/BHwR8T/Efj3x/YeI/EvxC1658R%2BIbzRfDzaTp8U40qz09I7a0e4uXiXyLCFmLzSO8ryOWAZUVvjj/lIX8L/wDsjPjz/wBO3hCvUvHP/Ik6x/2Crj/0W1eW%2BOP%2BUhfwv/7Iz48/9O3hCgD2aiiigAooooAKKKKACvGf2D/%2BSIa5/wBlm%2BI//qa63Xs1eM/sH/8AJENc/wCyzfEf/wBTXW6APZqKKKACiiigAooooAKKKKACiiigAooooAKKyPG/j/wJ8M/D83i34j%2BNdJ0DSrf/AF%2Bpa1qMVrbx/wC9JKyqPzr5r8Sf8Fff2atR12bwb%2BzZ4P8AHXxo1uBtk9r8M/Cs13bwN6yXMmyIJ/toXFceJzDBYNpVqii3sr6v0iryfyifR5HwjxPxJGU8swdSrCPxTUbU4/46s3ClH/t6ovTv9V0V8jy/tKf8FW/iwhtfhF%2BwD4b8BQT/AC22u/FDx9HOEB/jezsl85cf3cmo4v8AgnJ%2B0F8cZBq37bn7enjbX1f5v%2BER%2BHDr4d0iLP8AyzfygZLpRzhn2t6%2B/L/alStphaE5%2Bcl7OP3zs38oM99cC4PLlz55muHw6/kpz%2Bt1n5KGGbhH/t%2BvFeR9MePvjL8IfhTam9%2BKPxV8N%2BG4Qu4y6/rlvZrj1zK614R41/4LE/8ABOzwZqP9iW/7Q1t4g1BiRFY%2BEtIvNUaUj%2B69vE0Z/wC%2Bqs%2BAf%2BCQ3/BOf4e3I1Cy/Zh0bV7stumuvFNzcas0zd2ZbuSRCT7KB7V7v4J%2BGnw4%2BGmn/wBk/Dn4f6J4ftcAfZtE0qG0jwOg2xKoo/4XKv8Az7p/%2BBzf/tiFfwrwGyxuLfm8PhYfgsTU/FfJnzKP%2BCr0Xik7Pg3%2BwT%2B0J4rVv9Xfp8P/ALHZP6fvppRj8VpR%2B2f/AMFIfEp3%2BAv%2BCTOpR256XPif4s6XYOPTMJQt%2BtfWlFH1HMZ/Hi5f9uwpx/NTYv8AWng7D6YXh%2Bk/OticXVf3RlQj9ysfJf8Awvj/AIK/X3721/YJ%2BHtiv/PK9%2BKSSt%2BcaYpf%2BF2f8Fhn/dr%2BxD8MkJ6SP8SiVH4BM19Z0Uf2ZX/6Cqv3w/8AlYf675WtshwP/gGIf54vX5nyYfH3/BajWP3Om/AD4DaMzdJtX8VajcIn1ECgn8KQeCf%2BC1%2Bt/wCkap8bv2ftEc9bfRvDeqXMY%2BjXBDV9aUUf2Vf48RVf/b9v/SYIP9f1T/3fKMBD/uV5399XET/I%2BSz8Cv8AgsFrv%2Biap%2B3f8OtBjbrd6J8MFupV%2Bi3DhT%2BNA/4J9/theJPn%2BJf/AAVg%2BJd1I3%2BsPhbw7YaKp/3ViD7a%2BtKKP7GwkvjlOXrUqfpKIf8AES%2BIaf8Au1HC0f8Ar3gsIn98qVV/ifJR/wCCRngbX/l%2BKv7Z/wC0R4yib/WWWu/FGT7MfYRxRIQPbdWr4a/4Izf8E2fDUv2s/s02mqXTHdNd67rmoXzyt6sJp2X8gBX1BRTjkeUJ3dCLf95cz/8AJnIir4o%2BItSDhHNa1OL6UpKivuoQoJ/NM8h8P/8ABP8A/YY8Loq6L%2Bx78M42X7ssngmxlkH/AAN4i3612OhfAP4FeFyG8M/BbwlpxX7psfDlrDj/AL4jFdbRXbDB4Sl8FOK9IxX5RPm8VxHxFjr/AFnG1ql/5q1WX/pVV/kMt7a2s4Vt7S3SKNRhY40CqPoBT6KK6Dx223dhRRRQIKKKKACvGf2X/wDkt/7R3/ZZrH/1CvC9ezV4z%2By//wAlv/aO/wCyzWP/AKhXhegD2aiiigAooooAKKKKACiiigAooooAKKKKACiiigAooooAKKKKACiiigDyL9vr4heNPhR%2BxR8U/iR8PNZk0zWdF8DajdWWrwxhn00rA268UMCpMC7phuBXMfIIyK8%2B%2BAOm%2BKtG8R/tA/s6fDz4p%2BItX0Xw7baaPCWteKfGN7qt1pOoX2jCWa2Oo3UstwVU/Zrsb3Zo/tx2bU8tF%2Bmb2ys9Ss5dO1G0iuLe4iaOeCaMOkiMMMrKeCCCQQeCDXF%2BEP2Yv2a/h94Zi8F%2BAv2evA2h6NBHeRw6TpHhOztraNLtVS6VYo4wgEyqqyAD94FAbIAoA8b/AOCdU3i74c3PiX9lX4xafq5%2BIPgrw74d1LxRrFz8YdZ8Z2WqrfRXcMdxDc6sEmtJWl0%2B6aS0ESKgaJwXWRWr56/4KV/EvxH/AMPZv2OrTV/hN4h0Cz0rxdr1jp%2Bv6rdac9prYup9DhZrVba7lnRVyA32iKAneu0N82Pvn4T/AAO%2BCnwF0Gfwt8DPg/4W8F6Zc3JubjTvCfh%2B206CWYqFMjR26IrPtVRuIzhQO1fB/wDwWx/4l37X37J/jTp/wjfiTUNTLf3duueFY8/%2BRK8vOpOGV1JLpyv7pwf%2BZ934ZUo4jjvBUZfbdWHznhsVFfi4n6M0UUV6h8IFFFFABRRRQAUUUUAFFFFABRRRQAVlWn/I7ah/2CrP/wBGXNatUtS8PaXqtwt5crOkypsEttdywsVznaTGykjPOD60AXaKy/8AhD9J/wCfvVf/AAeXf/x2j/hD9J/5%2B9V/8Hl3/wDHaANSvKf2oP2PPhV%2B1rL4Kl%2BJd/rNqfA/i%2B216y/sW7jh/tARHc%2Bn3e%2BN/NspmWMywjaX8mP5gAQfQv8AhD9J/wCfvVf/AAeXf/x2j/hD9J/5%2B9V/8Hl3/wDHaAPGB/wT4%2BHCftCWPx%2Bh%2BLPjqNNO%2BIlx45tPBcd7YDR11yfSJtJmuW/0P7XIGt55CI3uGRHwUCLlTjeHf%2BCXfwQ8G%2BDNA8MeDviP450u/wDCfg3wZ4e8LeJba/sWv9LXwzHfRWF5H5lo0D3EkWo3Uc4lieGRJNoiQZz9Af8ACH6T/wA/eq/%2BDy7/APjtH/CH6T/z96r/AODy7/8AjtAHC/s5/sw6R%2BzT4WTwj4T%2BKni3WLWTX9c1vV38RT2U8uq3%2Bq3zX088zx2sZXZNJL5aQ%2BWgWUqyuFTbj%2BO/2Ifhx4%2B%2BNh%2BMeoeOfFVpbXmt6NrfiHwVY3VqNH13VdJdJNNvrlXt2uBLA8NqwEM8SObO38xJPLFepf8ACH6T/wA/eq/%2BDy7/APjtH/CH6T/z96r/AODy7/8AjtAHlXx4/Yn8O/tAfY73xF8bfHmj6rBpGtaJe654cudOt7rUdD1SaOW60mbdZOiwAQW6RzRJHdxiAMtwHeV5KE//AAT3%2BEv/AAsxvGmk%2BOfFum%2BH5/FejeJ7/wCHFhc2S6Hd6xpVrZ21heMGtTdoYk0%2BwIiiuUhZ7ONmjYly/sn/AAh%2Bk/8AP3qv/g8u/wD47R/wh%2Bk/8/eq/wDg8u//AI7QB418Dv2GL/4CaZ4w0/wv%2B1/8U9Ql8aXt5qOoajrFv4cku4dTuJUc6gs6aOjzSxpGkEaXBmhSBEiEWyOMJS8b/wDBO7wz8QPgJ8S/gb4h/aR%2BJTXPxgEsXxE8bo2if2vqtnJp66c1mFbTDZW0P2RVjHkW0bgguHEjO7e5f8IfpP8Az96r/wCDy7/%2BO0f8IfpP/P3qv/g8u/8A47QB4r8cf%2BCan7K/7UPgvTdE/ae8BaV8QvEunDTYz8R/FHhDQ5dfuYLLUFvkt3njsEiSB3DxyRRRRo0c8wAUyM1ekaL8A/A%2Bi/G/WPj1HLeT6tq3hHTvDUdjO0X2PTtPtJ7qcR20axgoZXuyZSzNvEEAAURgV0X/AAh%2Bk/8AP3qv/g8u/wD47R/wh%2Bk/8/eq/wDg8u//AI7QB5B8E/2CvAPwHstQtfCnxa8dXj/8ISng/wAIXWqX9k8vg7Q4y5hstNaO0TiMtGRLdC4mb7NAJJHEYFb5/Zai8N/BXwb8CPgf8cvGnw20bwTodto%2BmS%2BEo9JlnnsoLdII4pf7SsLpMhY1bfGiPuyd2CQfQP8AhD9J/wCfvVf/AAeXf/x2j/hD9J/5%2B9V/8Hl3/wDHaAPGtQ/YB8C3fgXwr8FdP%2BMvjyw%2BGvhXS9IsE%2BG1rdac2nalFp0kckBubmWyfUGLNFEZfLu4xJswww77s69/4JnfA/XdU1O08Y%2BOPGWt%2BEr698T31j8PdQ1C0XSdKvPECXkeq3Fu8Nsl4WlXUdQCrNcypELyURqgCBPdv%2BEP0n/n71X/AMHl3/8AHaP%2BEP0n/n71X/weXf8A8doA8Lh/4Jy%2BBrnTdVvPFnx8%2BI%2Bv%2BLL4eH10z4gard6WNW0RNEuLi501bUQWEdqRHLd3bOZreUzi5kSYyoQo09Q/YR0C5%2BC9v8BtJ/aE%2BI2laFdz6xN43fTbrS1u/GUmqXDXF%2B9/cPYNJC0kks%2BGsDaGNZ2WMoqRCP2H/hD9J/5%2B9V/8Hl3/APHaP%2BEP0n/n71X/AMHl3/8AHaAOA8V/sqaB418f%2BH/EXiD4neKJPC3he9sb/RfhjAmnQ6DBe2QH2S5IjsxeOYnVJUia5MKyxRv5eUXHQ/Dj4IeFPhn488dfEnStQ1G91f4g69b6prVxqMsb%2BR5Fjb2UFrAERdlukdvvCHcfMnmcsTIcb3/CH6T/AM/eq/8Ag8u//jtH/CH6T/z96r/4PLv/AOO0AJ45/wCRJ1j/ALBdx/6LavLvHH/KQv4X/wDZGfHn/p28IV6ifBmhvhZ2vpkyCYrjVrmRG9mVpCrD2IIry7xx/wApC/hf/wBkZ8ef%2BnbwhQB7NRRRQAV4h%2B394k8RaF8E9G0jRPFepaBaeJPiX4V8P6/rmj6hJZ3Vnp19rVpbXAiuYmV7Z5lk%2BzCZGV4/tG5GRwrD2%2Bs3xj4M8H/ETwtf%2BB/iB4U03XdE1S2a31PR9YsY7q1vIWGGjlikBSRCOqsCDQB8p%2BEIv2gfHH7GvxX%2BF/wX8f69quo%2BF/ivqWgeEtZvfFUn9q6jotrqlu13YR6pcOZPtYiN/psV3LJ5iSRRs8u9Gkry/wACXv7T3xP0LxP4ch8IfFaX4e/D74832mXfg6z%2BNC2/iyTSD4WsLhI5Ne/tVPtC22rXd00sY1IlVUQmSX7K0LfbNv8As1/s52ngt/hva/AHwVF4dk0P%2BxZNAj8K2a2Tab5jSfYjAI/LNvvd38rGzc7HGSTVTWv2T/2WfEnwy0r4KeIv2afh/f8Ag3QroXWieEr3wbYy6Zp84EgEsFq0RiifEso3KoP7x%2BfmOQDh/wBiT4x/Fzxp/wAE9fh18afH/hHVfFXiu%2B8DWd5c2GkXdp9r1ligEc8ct1JbQM00eybe7xI28kbQQtSf8E6dWv8AXv2br7W9V8MX2iXN58W/iHNcaPqckD3Ni7eM9aJhla3llhLoTtJjkdMg7WYYJ9xt7e3s7eO0tIEiiiQJFFGoVUUDAAA4AA7V45%2Bwf/yRDXP%2ByzfEf/1NdboA9mooooAKKKKACiiigAooooAKK89/aM/aq%2BAP7J3gtvHfx7%2BJWn6DaMGFnbzPvur5x/yzt4EzJM3ThQcZycDmvm%2BK/wD29f8Ago5Ismktrf7PHwbnIK3ZwnjLxHAehQcjTI2HQ8v0I8xWwPOxWZUaFT2NNOpV/kjv6ye0F5ya8kz7HIuC8wzbBPMsXUjhMCnZ16t1BtbxpRS9pXqf3KMZW%2B3OmtT2r9pb/goF%2Byv%2ByncJoPxN%2BI8dz4kuCq2Hgzw9CdQ1i7dvuIttFlk3fwtJsU/3q8kX4lf8FSv2wCF%2BEnw30z9njwbcfc8S%2BO7ZdS8Szxno8WnD91bN6pOcjqGr2b9mj9hT9lz9kq3ef4M/C20ttXuA32/xPqTG81W8ZuXaS6lzJ8xySqlUyeFFeu1h9UzHGa4mryR/kp6ffUa5n/26orzPVfEHBvDvu5HgfrNVf8v8YlJX708JF%2Byj5OvOvLvDofK/gf8A4JH/ALOTeIYfiF%2B034k8U/G3xTH8w1T4l6w93bQk9VhslIgSP0jcSAdjX0x4Y8J%2BFvBGiQeGvBnhrT9I022XbbafpdmlvBEPRY4wFUfQVoUV24XAYPBJ%2BwpqLe76v1k7yfzbPms94s4l4llH%2B08XOrGPwxbtTgu0KcVClBeUKcfV9Siiius%2BeCiiigAooooAKKKKACiiigAooooAKKKKACiiigAooooAKKKKACiiigArxn9l/wD5Lf8AtHf9lmsf/UK8L17NXjP7L/8AyW/9o7/ss1j/AOoV4XoA9mooooAKKKKACiiigAooooAKKKKACiiigAooooAKKKKACiiigAooooAKKKKACvzm/wCC9oNhL4P8ZKDu8OfD7XdTUgcrs8V%2BB0z/AORK/Rmvgb/gtxoX/CRaDc6fs3eX%2Bzz43usf9cPEPgmbP/kOvLzuLnk2IS/kl%2BCb/Q%2B68L60MP4k5NOe31qgn6SqRi/wmz74VgyhlOQRkEUtc98Jdd/4Sj4VeGfE2/d/aPh6yut2evmQI%2Bf1roa9KElOCkuqv9%2Bp8XiKM8NiJ0Zbxk4v1i2n%2BKYUUUVRiFFFFABRRRQAUUUUAFFFFABRRRQAUUUUAFFFFABRRRQAUUUUAFFFFABRRRQAUUUUAFFFFABRRRQAUUUUAFFFFABXjPjj/lIX8L/%2ByM%2BPP/Tt4Qr2avGfHH/KQv4X/wDZGfHn/p28IUAezUUUUAFFFeIft/eJPEWhfBPRtI0TxXqWgWniT4l%2BFfD%2Bv65o%2BoSWd1Z6dfa1aW1wIrmJle2eZZPswmRleP7RuRkcKwAPb6K%2BQfCEX7QPjj9jX4r/AAv%2BC/j/AF7VdR8L/FfUtA8Jaze%2BKpP7V1HRbXVLdruwj1S4cyfaxEb/AE2K7lk8xJIo2eXejSV4dbfEX9pL4iTn9nfwhB4vsI7b9o7U9H8L%2BDPGPxv1LTb7UdHtvBltqFxaXvinS5r27V7fUrm4kCQyXRYxC1dtkErxgH6X14z%2Bwf8A8kQ1z/ss3xH/APU11uqP7FvxW8YeIP8Agn38O/ineQ%2BJPiHr7eBLJ71Uayi1LWbtIxHKVe4uY7ZmZ1YiR5wrgB97bsk/4J06tf69%2Bzdfa3qvhi%2B0S5vPi38Q5rjR9Tkge5sXbxnrRMMrW8ssJdCdpMcjpkHazDBIB7pRRRQAUUUUAFFFfPf7Wf7fvhf4D%2BKLX4D/AAf8HXXxI%2BMGtR/8ST4f6DIC0AIyLm%2Bl%2B7ZwKCGLPgkc4C5defFYrD4Ol7StKy/Fvoklq2%2BiSbZ6%2BR5Dm3EmYLBZdSdSo029lGMVrKc5yahCEVrKc5RjFbvZP2n4i/Er4f8Awi8HXvxB%2BKHjLTdA0TTo997qmq3awwxDsCzEZJPAUckkAAk4r5Quv23f2p/21LmTwz/wTh%2BFH9leFncxXPxv%2BIlg9vp4UHBbTrJh5l43XDuuwMNroAd1aPw5/wCCdnjf44eMrH48/wDBTD4gW3xB8QWsv2jQ/h1pqNH4V8Osf4Ut2/4/JAODJLkHoQ%2BFavrW1tbWxto7Kyto4YYYwkUMSBVRQMBQBwABxgV53LmWY6ybo0%2Byt7SXq9VBeS5pd2j7N1%2BDODfdoRhmeNW85KX1Om/7kPcnipJ/bqezoNr3adRav53/AGdP%2BCa3we%2BEHjMfG/4ueINU%2BK3xRl2vcePvHDi4lt3HIFnbkmOzRSTtC5ZQSA%2BOK%2BjKKK9HC4TDYOnyUYqK382%2B7bu2/Nts%2BOzziHOuJcZ9azOvKrNKyvZRjFbQhCKjCnBdIQhCK7dWUUUV0HjBRRRQAUUUUAFFFFABRRRQAUUUUAFFFFABRRRQAUUUUAFFFFABRQSFBZjgDqTXnfjr9r39lL4YyyW/xE/aW8BaJNESHt9T8XWcMoPpsaQMT7AZrOpWo0Y81SSivNpfm0ZVq9DDx5qs1Fd20l%2BLR6JRXy/4s/4LK/8ABOPwtdjS7X9omDXb9ziGw8MaHfajJMfRWhhZPzYVlD/gsJ8HHH2iH9lz4/yWbcw6gnwpuDDMv95TvyR9QK8%2BWd5RF29vF%2Bj5v/SVI8uXEWQxly/WYN%2BT5vv5VK3zZ9a0V8lf8PiPgXL8un/s5/Ha7fvFb/Cu5LA%2BnLCj/h8N8ErP5/Ev7NXx50WPqJtU%2BFVyikevyO3FL%2B3Mo/5/L/yb/wCQJ/1kyL/oIj/5N%2BfJb8T61rxn9l//AJLf%2B0d/2Wax/wDUK8L15ef%2BCxfwJ1n918Mf2ePjl41uOhtvDHwuuZHVv7p81owDXR/8E6vihqnxm1v48/EvWfhd4j8F3Gp/GaAv4a8W2Yt9RsxH4R8NxL50alghdUEgGT8si10YbMsDjJuFCak99L2%2B/lS/G/kdWEzbLcfUdPDVFNpX0UrW9eVR%2BXM35H0nRRRXaeiFFFFABRRRQAUUUUAFFFFABRRRQAUUUUAFFFFABRRRQAUUUUAcd%2B0H8ZtC/Z3%2BB3iz45%2BJNMur6z8KaBc6lJp9jt8%2B8aKMslvFuIXzJGCxruIG5xkgZNc1%2Bz3%2B0N4v%2BJGr%2BNPh/wDGr4caX4M8XeBLq0/tqw0rxO2rafJZ3Vqtxb3UN3Ja2rMp/fROrwoUktpMbk2O3S/tCfBnQ/2ifgb4s%2BBniTVLqws/FegXOmyahY7fPs2ljKpcR7gV8yNisi7gRuQZBGRXmngv9jTxTqNl8QoP2k/ifovjdvi1p76X8Qo9G8L3ehxXGmLp62VvZ2fl6lLLZqFa6kkkMssjyXbFGgCIoAND9jj9seL9r29%2BIM%2Bm/DafQdK8JeKbfT/D%2BoXWo%2Ba%2Bv6dcabaX9tqXleWn2ZJorpXSIs7eWUZijM0SeSf8FQNC/wCEk17UtJCbmb9k34ryRr6vHc%2BFZFH/AH0or1r9lX9h/wAEfsmfEb4k%2BOvBnjvxZqsPxB1bT7uOw8TeMdY1c6bHa6db2Yj83Ub25Mzs0LP5uEcI8cPKQx483/aO%2BA3wo079r5tX8E/C7w9pOu%2BOP2cPiVF4l1jStEgt7vWH%2B2eFkja5mjQPcFfMfBcsRuOOprmxlP2uDqw7xkvvjJHs8OYr6jxHgsT/AM%2B61GX/AIDVpS/JM9i/YZ13/hJv2K/hFr7Pua6%2BGehSSn/bNhDuH/fWa9Tr55/4JPa7/wAJF/wTl%2BEWob93l%2BEo7XP/AFwkeHH/AJDr6GrPLantctoT7wh/6TE7uNsL9R40zPD/AMmJxC%2B6vV/RoKKKK7T5gKKKKACiiigAooooAKKKKACiiigAooooAKKKKACiiigAooooAKKKKACiiigAooooAKKKKACiiigAooooAKKKKACvGfHH/KQv4X/9kZ8ef%2BnbwhXs1eM%2BOP8AlIX8L/8AsjPjz/07eEKAPZqKKKACs3xj4M8H/ETwtf8Agf4geFNN13RNUtmt9T0fWLGO6tbyFhho5YpAUkQjqrAg1pUUAcVb/s1/s52ngt/hva/AHwVF4dk0P%2BxZNAj8K2a2Tab5jSfYjAI/LNvvd38rGzc7HGSTUGr/ALK/7MOv/Cux%2BBWu/s4%2BA73wRpcwm03wbd%2BELKTSrSQFyHitGiMMbAu5yqg5dvU13lFAFbRtG0jw7pFr4f8AD%2BlW1hYWFslvY2NnAsUNvCihUjRFAVEVQAFAAAAAryL9g/8A5Ihrn/ZZviP/AOprrdezV4z%2Bwf8A8kQ1z/ss3xH/APU11ugD2aiiigAooryX9tn9qjQ/2PvgBqnxYu9NOp6xLJHp3hHw/GCZdY1eclba1RV%2BZstlm28hEcjJAFZV69LDUJVqrtGKu35L%2Bvm7LqehlOV4/PMzo5fgoc9atJQhFdZSdlq9Elq23ZRipSbSi2vPP27/ANqP4kaZ4l0b9in9kaaK4%2BMHjyAsL8jdD4R0jO2bVrng7SBkRKfvPyASFR%2B//ZH/AGKvg5%2Bx54UuNP8AAtpcan4i1hvP8WeNtblM%2Bqa7dE7nlnmbLYLEkRg7VyTyxZjzX7Av7I2u/ALwvqvxe%2BOGrjXvjB8RZk1L4g%2BIZcMYpCMx6dBjhLeAYQBeCVyMKEVfoOvNwWGqV6v13FR99/DF/wDLuPbtzveb/wC3U7J3%2B04nzzB5VgP9WMiq3w0X%2B/qx0%2Bt1lvJvR/V6bTjh6b0aTrzi6lSPsyiivDvj7/wUg/Yu/Ztvm8P/ABH%2BOely675nlR%2BGdA3alqTSk4EZt7YO0bE8DzNo969DEYnD4Wnz1pqK7tpfn/wT8zxWMwmCpe0xFSMI95NJfi/wV35HuNFfI8v/AAVcvfFETR/Bb/gnv%2B0J4okZT9nu5/Af9n2MjdgbiaQ7QT1Ozgc4NZ8P7Nv/AAUE/bUlTV/2vvjPJ8IPBcrB4/hd8KtS/wCJlOnUJf6rzz2ZIQUYHohFcDzejV93CQlVl5JqK9ZyUYpenM%2ByPKefYev7uBhKtLyTjFecpzjGKXpzN9EfVHjv4sfCz4W2f9o/E74l%2BH/DluVyJ9e1mCzTHruldRXh/jv/AIK7/wDBN/4eSm31n9q/w7eyBtqx%2BHo7jVd59AbOKUH88VX8B/8ABH3/AIJ1%2BBL3%2B12/ZxsNf1B23XGoeL9QutWedv7zrdSPGT9FAr3LwJ8Ffg38LY1h%2BGXwl8M%2BHEVcKug6Db2YA9MRItP/AIXKv/PuH/gc3/7Yir8SVv8AnzTX/cSo/wD3HE%2Bbz/wWX/Zk1gY%2BGfwp%2BMPjVm/1SeFvhjeSmU9gvm%2BX198Ug/4KAftmeO/%2BSIf8EoviLdI/%2Brm8f%2BI7Hw4VH95km3n8M5r63oo%2Bp5nP48Vb/DTgvxk5v8A%2BoZzU/iY23%2BClCP4yc3%2BB8lD4g/8ABarxcfP8P/s9fAjwgnX7P4r8WahqEmP7u6yAXPv0pf8AhJv%2BC3kH7qX4Y/s3zseBLBrWtKi%2B5DDJFfWlFH9lz64mrf8AxL8uSwf2NUerxde/%2BOK/BU7HyV/ZX/BcPXvlvfFX7M2gRt0bTrHXbqVB7iX5Sf0o/wCGa/8Agrd4jPm61/wUu8LeGyesXh74N2d4o9s3UgNfWtFH9kUn8darL1qSX/pKiH9hUZfxK9aXrWmv/SVA%2BSj%2Bxj/wUxx9o/4e/wB%2BbleUb/hSOjCLPunmYIoPwC/4K/6d/wAS%2By/4KAeANShbhtR1H4VRQ3CD1EcT%2BWT7HivrWij%2Bx8KvhnUX/cWp%2BsmH9gYNfDUqr0rVf1kz5KH7Hv8AwU91U/bNc/4K2yWsv8FvpPwU0lYo/wAWky/40j/st/8ABWHw0P7Q8O/8FSdF8RSx/c0zxJ8FdOtYJPZpbaQyD8BX1tRR/Y2F6TqX7%2B1qf/JW/AP7AwXSdVPv7ar/APJtfh8j5IXxN/wW30L/AIp65%2BGX7PWuzH/U%2BIbXWdVtrdR6ywOPMLHvs4604eBf%2BC12v/6bq3x2%2BAXh%2BQ/8uOieGNSu4h/wO4IavrWij%2Byk/ixFVr/Hb8opv5sP7ET0liqzX/Xy34qCb%2BbPkr/hT3/BZK9/cXP7Y3wmskPWez%2BHssjj6LI%2BKD%2ByZ/wVP1rnXP8Agq/aach%2B/BovwR0s/lJJJuFfWtFH9j4d/FUqP/uLP9Gg/sHCv4qtZ%2Btap%2BjifJQ/YJ/bek/0i5/4K0%2BPDcnq0XgrTUi/79jj9aRv%2BCfn7ZOvn%2Bz/AB3/AMFZPiRcad3i8P8AhnT9Kuff/SI9zfpxX1tRR/YuA/vf%2BDKn/wAmH%2Br2Wdef/wAG1fx/eHyQf%2BCTFlpuNZ8Jft/ftI2Gv9ZNbn%2BJhuWuD2E0bw7JFH93j60D9g79vG%2B/4kevf8Fb/GcmhJxDBp/w/wBMtdQA77r1WLsfcrX1vRR/YmWr4YuPpOor%2Btp6h/q7lK%2BCEo/4alWKfqlU1Pkgf8Ec/gL4uO79ob47fGX4qBuZbXxt8SLl7Y%2BoWO28ravtur0XwJ/wTO/4J/8Aw4iji8M/sheA2MX%2Brm1XQYtQlX38y6EjZ985r3KitKeUZVSlzRoxv3a5n98uZ/ia0chyWhLmjh4X7uKk/vnzv8TI8J%2BAPAfgK1Nj4G8E6RosBGDDpOmxWyEfSNQK16KK9CMYxVoqyPUjGMI8sVZeWn5BRRRTKCvGf2X/APkt/wC0d/2Wax/9QrwvXs1eM/sv/wDJb/2jv%2ByzWP8A6hXhegD2aiiigAooooAKKKKACiiigAooooAKKKKACiiigAooooAKKKKACiiigAooooAK8V%2BIlrDff8FAPhpZXKbo5vgr4%2BSRfVTqvhAEV7VXjPjj/lIX8L/%2ByM%2BPP/Tt4QoGm07o81/4Ij3U5/4JteBdCvHzcaLfa1p8/s0erXeB/wB8stfWFfJf/BHb/iXfALx/4K6f8I18cPFOmbP7m26WTH/kSvrSvKyL/kTYddoJfdeP/tp994qpf8RKzea2nXnP/wAGclX/ANyhRRRXqnwAUUUUAFFFFABRRRQAUUUUAFFFFABRRRQAUUUUAFFFFABRRRQAUUUUAFFFFABRRRQAUUUUAFFFFABRRRQAUUUUAFeM%2BOP%2BUhfwv/7Iz48/9O3hCvZq8Z8cf8pC/hf/ANkZ8ef%2BnbwhQB7NRRRQAV4h%2B394k8RaF8E9G0jRPFepaBaeJPiX4V8P6/rmj6hJZ3Vnp19rVpbXAiuYmV7Z5lk%2BzCZGV4/tG5GRwrD2%2Bs3xj4M8H/ETwtf%2BB/iB4U03XdE1S2a31PR9YsY7q1vIWGGjlikBSRCOqsCDQB8p%2BEIv2gfHH7GvxX%2BF/wAF/H%2BvarqPhf4r6loHhLWb3xVJ/auo6La6pbtd2EeqXDmT7WIjf6bFdyyeYkkUbPLvRpK860v4iaw37IP7QviH4n6J8UrGz%2BFHxJudP%2BFXh6f40asut3VzLomktbaVdarpepmS%2Bd9Yv57cI93cLE0iw7y0Hy/Z1v8As1/s52ngt/hva/AHwVF4dk0P%2BxZNAj8K2a2Tab5jSfYjAI/LNvvd38rGzc7HGSTV3R/gf8FvDvgTTPhb4f8AhB4XsfDGiXtveaN4cs/D9tFYWFxb3C3UE0NuqCOKSO4RZkdVBSRQ4IYA0AYPwl8JeN/2cv2WfDHgbVbnxR8TvEfhLwhY2WoXb6vHcat4ivYYUSac3Go3ESNLLIHkJmmQc4yOBXI/8E6dWv8AXv2br7W9V8MX2iXN58W/iHNcaPqckD3Ni7eM9aJhla3llhLoTtJjkdMg7WYYJ90rxn9g/wD5Ihrn/ZZviP8A%2BprrdAHs1FFFAASFBZiAAOSa%2BLfgip/4KL/ttXf7VGpA3Pwl%2BDF9Po/wshbmDXNd4F3rAB4dIsCOJuRkK6lWVxXaf8FRPjJ400T4WaJ%2Byt8ErzZ8RfjZqp8NeH2QndYWTKDqGoNjkJDbkgsOVMgYfdNdlrXjn9lr/gmL%2ByzoWgeMPFVr4f8AC3hfS49O0i3ZQ13qcyrkrFCnzT3ErlpG2j7zszEDJHhYyrSxOM9nUklRo2nNvROW8It9or3358iP0XA4ijwNwTUzurJQxONVSlRbdvZYaPuYmum9nVb%2BrU5dI/WJR1Z7ZXz7%2B0V/wUt/Zl/Z%2B8Sf8KxsdY1Dx34/mcxWXw%2B%2BH1kdU1SSUfwSLF8kBHBIkZWxyFavKxoP7df/AAUoAn8Xzaz%2Bz/8ABa65XRrWQJ4v8S25/wCe8nI06Jx1QAvjIIkVgw%2Bj/wBnT9kj9nL9k/w1/wAIv8AfhPpXh6KRAt3eQQ%2BZeXmO89xIWlmOefmYgdgK1WKx%2BP8A91jyQ/nmnd%2BcYaadnNpdotH42sZmeZ/7lH2dP/n5NO784U9HbtKo4p7qDW/zuv7Pf7dn7fbDU/2vfG0/wd%2BGtwd0Xwn8C6lu1fUoTyF1PUVHyqRw0UQwQcMqMua%2BgfgB%2Bxl%2Byx%2By5ZLafAX4GeH/AA7KsextRt7MSXsq46PdSlpnHsznqa9OorfD5ZhaFT2slz1P55ay%2BWloryior13OrCZNgsNV9vNOpV/nn70vlpaK8oKK9dwooor0T1QooooAKKKKACiiigAooooAKKKKACiiigAooooAKKKKACiiigAooooAKKKKACiiigAooooAK8Z/Zf8A%2BS3/ALR3/ZZrH/1CvC9ezV4z%2By//AMlv/aO/7LNY/wDqFeF6APZqKKKACiiigAooooAKKKKACiiigAooooAKKKKACiiigAooooAKKKKAI729s9Os5dQ1C7igt4ImknnmkCpGijLMzHgAAEknpXNfD/45/BP4seBJvil8LPjD4W8S%2BGLczC48R%2BH/ABBbXthEYhmUNcQu0a7By2W%2BUdcVxf7ffw%2B8afFb9ij4p/Dj4eaNLqes6z4G1G1stIgcK%2BploG3WaliFBnXdCNxC/vOSBk15/wDsy%2BN7ST4yfGP45W/ws8d6L4T8XPpsug6dqvw31axu9Ql0zSI0vbo2c1sksTOrW9pEsqI9wbEiISIqMQD3T4T/ABy%2BCnx60OfxP8DPjD4W8aaZa3JtrnUfCfiC21GCGYKGMbSW7uqvtZTtJzhge9cF44/5SF/C/wD7Iz48/wDTt4Qrhf2GtL8Raj%2B0d8ZfipI/xB1rQvEdn4dXSvGPxO8Fy%2BHdSuJoBqIm0uKxksrEm0tEkt3juWtleR76ZHlm8gFdm/034r2n/BTbwXeeNvGnh7UNCuPg944PhrTtK8MT2d3YINW8JeYtzcyXsyXZOUwUhtwu05DbhtAOS/4Je40Xx/8AtOeCun2b9o/W9RVP7q3cVvIPw%2BSvrSvkv9hj/iS/t9ftb%2BCc48jxZ4a1PZ/1%2BaW0mfx2V9aV5OSaZco/yyqL7qlT/M/QPE/3%2BMalb/n7RwlT/wADweFf/toUUUV6x%2BfhRRRQAUUUUAFFFFABRRRQAUUUUAFFFFABRRRQAUUUUAFFFFABRRRQAUUUUAFFFFABRRRQAUUUUAFFFFABRRRQAV4z44/5SF/C/wD7Iz48/wDTt4Qr2avGfHH/ACkL%2BF//AGRnx5/6dvCFAHs1FFFABRRXkP7a/wASPH3w8%2BE%2BkWXwy8StoWseLPH/AId8MQ%2BIktIZ30mLUNTt7ee5jjnR4mmELyCLzEeMStGXR1BRgD16ivlKw%2BMv7VE/7IfxQsPBviDUfFXjv4ffEa78M2/ii10G1l1K%2B0uK%2BtWmv47OGJLee/g065lxEkQjmubUAQgSeVXkMH7d/wC0ZrkH/CgfBOofFXV9Rl%2BPtz4O07xd/wAINpGneLr7SYvCFt4jLfYtUt7TTrO5MtwYQ91bxL9lhL%2BV5zrQB%2BhdeM/sH/8AJENc/wCyzfEf/wBTXW62fgz8dPB2v/suaH8cIfEnizxLpg0NZLq/uvCrz63cyxMYZhNYaZbZN0sqOskVvBtDq%2BxQoFcx/wAE6fENh4t/ZuvvFOlW99Fbaj8W/iHc28Wp6XPZXKI/jPWmAlt7hEmgcA8xyIrqchlBBFAHulNmmht4XuLiVY40Us7u2AoHJJJ6CnV8x/8ABYL9oofs2/sB%2BN/EVjqH2fVvEVqPDmiMGw3n3gMcjKeoZLcTyAjnMYrmxuKp4HB1MRPaEW38l%2Bui%2BZ6OT5es1zWjg3NU1OSUpy%2BGEd5zk%2BkYQjOcv7sGfM8P7X9hqPxk8W/8FHP%2BEZl8Va34gvZfhx%2Byn4FiBMusJFJtutSVQciGSdvml%2BUqm%2BInLJX0j%2BzN/wAE%2BtQtPHlp%2B1Z%2B274zHxJ%2BL0kSyWkl1GP7I8KA/N9m022%2B4hQ8eeRuJG4BSWLef/8ABIz9h/V/B3gXw1%2B1j8f7QTeLLnwja6d4A0OZcx%2BEtA8oeXGikDF1cBjLPJgNumcYUvID9x18/kmXVcRQjicartvnUXtzS1c5LrJ6KKd%2BSCil7zbWHFWaUeNuJJZnyOOCpKNLB0ZfYw9JctKc47OrUV6srp8kqstOdtxKKKK%2BpOUKKKKACiiigAooooAKKKKACiiigAooooAKKKKACiiigAooooAKKKKACiiigAooooAKKKKACiiigAooooAK8Z/Zf/5Lf%2B0d/wBlmsf/AFCvC9ezV4z%2By/8A8lv/AGjv%2ByzWP/qFeF6APZqKKKACiiigAooooAKKKKACiiigAooooAKKKKACiiigAooooAKKKKACiiigArwD4seO9A8M/wDBTP4I%2BE9YuliufEnwi%2BIdtpQY/wCuniv/AAncNGB6%2BVFK/wBIzXv9fnr/AMFn5PGXgT9o/wCBH7UHgOOWW9%2BDnh3xT4svbOAfPeacureFLS8gHoGgu3LH%2B6rVyY/ESwmEnXSvy6v0TXN90bv5HDmeLlgcBUxKV%2BRXa/uprm%2B6PM/kerfs%2B/8AEg/4K8ftCaT93/hIPA3hPU8f3vIhkts/rivrSvjbxb4r0r4Vf8FVvht8eba/iuvB/wAefhe/hjT9TT/Vx6jbSC/tWLek8LrGgPJYn0r7JrjyiSUK1PrGpP7pNTi/RqV0fp3iB/tM8rzCGtOvgcLaS2bowlh5r1jKkk/WL2aCiiivXPz8KKKKACiiigAooooAKKKKACiiigAooooAKKKKACiiigAooooAKKKKACiiigAooooAKKKKACiiigAooooAKKKKACvGfHH/ACkL%2BF//AGRnx5/6dvCFezV4z44/5SF/C/8A7Iz48/8ATt4QoA9mooooAK534sfCfwD8b/AV78M/ibobaho9%2B8Ek0MV7NbSxywzJPBPDPA6SwTRTRRyxyxOskckaOjKygjoqKAPOPC37KPwX8EfD26%2BF/hCz8SabpF7aTw3Qs/HmsR3Urz3Ul1Pdm6F39o%2B2yTyySPe%2BZ9pct80pAAFGT9in9nN/hlZ/CiPwpq8Gn2Gvya7a6paeM9Wh1pNUkWRJL46tHdDUGuXjmlieYzl3ikaNiUJWvVaKAMT4b/DjwR8IfAek/DL4b%2BHodJ0LRLJLTTNPgLFYYlHGWYlnYnJZ2JZmJZiSST5p%2Bwf/AMkQ1z/ss3xH/wDU11uvZq8Z/YP/AOSIa5/2Wb4j/wDqa63QB7NXwB%2B3R4Wtf2%2B/%2BCmXwx/YfDLdeD/hlpz%2BNPidEr5SR3MYt7ORT1ZlMQwDny752H3Tj7i%2BKHxA0L4TfDXxD8UvFEuzTfDeiXWqX7ZxiG3haV/x2oa%2BO/8Agh54S8X%2BN/hN46/bn%2BKqmTxV8bPGdxqDykkiPT7WSSGCJA3KospuVUdPLWIdAK8HN%2BXG4mhl26m%2Bef8Agg07f9vT5Y%2BiZy1lXxMpYak7RcL1H/07lJQ5F51XeD/6dqp3PuBESNQiKFVRgADAApaKK946gooooAKKKKACiiigAooooAKKKKACiiigAooooAKKKKACiiigAooooAKKKKACiiigAooooAKKKKACiiigAooooAK8Z/Zf/wCS3/tHf9lmsf8A1CvC9ezV4z%2By/wD8lv8A2jv%2ByzWP/qFeF6APZqKKKACiiigAooooAKKKKACiiigAooooAKKKKACiiigAooooAKKKKACivMP20/i94q%2BAf7JnxD%2BMfgaO1Ot%2BH/Cl5daO99EXt4boRkRSyqCC0SOVd1yMqrDIzkcj%2Bznr/wAaD49%2BLv7M3jj446p4pvvCK6XN4e8eapo2nQ38SajYM3lzRWdvBayPBPDLIuIVzHNEjhypdwD32vAfj14G8OfE/wDbO8FfDbxfZC50nxB8A/iJpup25/5aW8%2BpeEo5F/FWNN/Yo8d/E/xf40%2BJei6n8Z9Y%2BJHgXw9rVrpnhXx34g0vTra5vtSiSVNWto2061tbe5treZYYlmWEHz/tcRd/J4gv/id4b8Y/8FNvBfgzSdN8Qw3nh74PeOI7%2BbVfCOo2NpKX1bwlg211cwRwXoG05a3eQLkbiNy5UoxnFxkrpkzjGcXGSuno/R6P8z5T8NeDfiH8X/8Aglj4q%2BArXjt8W/2UfG0o0G6VMymfRpTPZTRL1KyWReGPn5igNff37OXxr8PftHfAfwl8dPCxUWfijQre/WFW3eRI6DzISf70cgeM%2B6Gvmj4130n7Cv8AwUSsP2lNTiSP4Z/Hi3svC/jq6xiPSdft1ZNPvJT0EUsWYSTwuHdj0Bt/8E2Zl/Z2%2BNHxg/4J46pMIbbwd4jbxN8O4HbG/wAPam3miKId1t52KM39%2BY18nls3gcfGjN/9On6wvKjL/t6k3G/eFtz6vhOcs88McVk1R3xGT1fawvu8LWcadS3dRksNV7Juo9NT7Booor60%2BWCiiigAooooAKKKKACiiigAooooAKKKKACiiigAooooAKKKKACiiigAooooAKKKKACiiigAooooAKKKKACiiigArxnxx/ykL%2BF//ZGfHn/p28IV7NXjPjj/AJSF/C//ALIz48/9O3hCgD2aiiigAryH9tf4kePvh58J9Isvhl4lbQtY8WeP/DvhiHxElpDO%2Bkxahqdvbz3Mcc6PE0wheQReYjxiVoy6OoKN69XO/Fj4T%2BAfjf4Cvfhn8TdDbUNHv3gkmhivZraWOWGZJ4J4Z4HSWCaKaKOWOWJ1kjkjR0ZWUEAHzpYfGX9qif8AZD%2BKFh4N8Qaj4q8d/D74jXfhm38UWug2supX2lxX1q01/HZwxJbz38GnXMuIkiEc1zagCECTyq800n9oL9tj4weDdQ8NfBLWvjFrFr8Pv2iG0DxV4isPCPhnSPGGqeFn8F/2rFLJZa9a21lBIuqahYREC2hma3iRggZ3z9Y%2BFv2Ufgv4I%2BHt18L/AAhZ%2BJNN0i9tJ4boWfjzWI7qV57qS6nuzdC7%2B0fbZJ5ZJHvfM%2B0uW%2BaUgACgf2LPgJF8OLf4WaVb%2BMNL0yDVZ9SmutD%2BJ2v2GpX93PnzprzULa%2BS8vmfPzG4mkztT%2B4uADT%2BGHx08BeI/wBmbw/8fdG8Q%2BJPEmgXnhi1v4tTHhie51a%2BjaNcySWFhbeYbgnJeGGBdr7gI1AwOO/4J0%2BIbDxb%2BzdfeKdKt76K21H4t/EO5t4tT0ueyuUR/GetMBLb3CJNA4B5jkRXU5DKCCK9e8BeA/B3wu8EaR8Nvh54ctdH0HQdOhsNH0uxj2Q2ltEgSOJB2CqAPwry/wDYP/5Ihrn/AGWb4j/%2BprrdAHin/Bej42z/AAp/4J/6v4N0aZxqvxB1mz8PWMcOTI0bMZ58AckNFA0R/wCuwHUivpT9lr4QQfAD9m/wL8FYYlVvDPhWx0%2B5KdHnjhUTPx3aTex92r4X/wCCi96f2o/%2BCv37PP7H1o32jTPCEg8TeIYF5QtuN08Un/bCxQDP/Pzgcmv0lr57LpfW88xeI6Q5aS%2BS55/%2BTSS%2BRrh6XJlssQ969WSX/XvDpU18nWqVn58nkFFFFfQmQUUUUAFFFFABRRRQAUUUUAFFFFABRRRQAUUUUAFFFFABRRRQAUUUUAFFFFABRRRQAUUUUAFFFFABRRRQAUUUUAFeM/sv/wDJb/2jv%2ByzWP8A6hXhevZq8Z/Zf/5Lf%2B0d/wBlmsf/AFCvC9AHs1FFFABRRRQAUUUUAFFFFABRRRQAUUUUAFFFFABRRRQAUUUUAFFFFAGZ408G%2BFfiL4O1b4feOtAtdV0TXdNn0/WNLvYg8N5azRtHLDIp4ZHRmUjuCa4HwL%2Bxv8B/hv4Y1Xwn4Q07xPBb66t3/bl3c/ELW7m91Fri1itGee8mvHuJpEt4IYoZHkLW6xqITHivUaKAPO/2cv2Wfg7%2Byh4PX4f/AARtvElnocNpbWtlpWt%2BO9Y1mCwggQpFFapqN1OLVArY2w7AwC7gdq453xx/ykL%2BF/8A2Rnx5/6dvCFezV4z44/5SF/C/wD7Iz48/wDTt4QoA7D9o74B%2BA/2oPgj4j%2BA/wASrLzdI8R6c1tK6qC9tJw0VxHngSRyKkin%2B8gzxX50v4p%2BN%2BneF4Pife2xuf2i/wBj2%2BOneNrJWIfxx4JcZMwzzKrWx80MclWV3xvlQV%2BplfNH7dP7HvjX4ga5pf7WX7Kl9baN8Z/BVqyac84AtfFGncmXR74ZAeNxkIzEbGPVch0%2BfzzL514fWKKfNFWaW7SfMnH%2B/CS5o9/eh9o0yrOcdwjxHQ4gwVL2rpqUK1F7YjDzTjVpPu3Fy5et3o1JQa91%2BEfxU8E/HD4Y6F8Xvhzqy32h%2BItMivtNuRwTHIudrD%2BF1OVZTyrKQeRXRV%2BZH/BLv9tvwN8EfinqH7OniDTLvwz4B8a%2BJ5v%2BEP0vVmKv4G8SOSb3w1dBgDEjS7ntnIAcZ/5aNKsX6b115PmdPNMGqia5lpJLo/zs91fo7PVNL6LijJsHlmLp4nLajq4DEx9rhqv89KT2lbRVaUuajXho4Vack4pSjcooor1T5kKKKKACiiigAooooAKKKKACiiigAooooAKKKKACiiigAooooAKKKKACiiigAooooAKKKKACiiigAooooAK8Z8cf8pC/hf8A9kZ8ef8Ap28IV7NXjPjj/lIX8L/%2ByM%2BPP/Tt4QoA9mooooAKKK8w/a2%2BMnjL4MfDCwvvhrZ6ZL4l8SeMNF8NaBJrcEktla3GoX8NsbqeOKSN5Y4Y5JJvKWSMymIRh49%2B9QD0%2BivmG/8A2x/jP4Z/ZD%2BInxI13w94evfHPw38bzeFtbvrDTbpNGAW%2Btov7Za286SdLWGyu476eATMyCGaMTHAlri9G/4Ka%2BKPEPwB%2BIX/AArfXPA/xA%2BIvhrxvdeFfCOt%2BGrK4h8PeIJE0Sz1p9WEP2qaRbK1tbxvO23TCWS1KRShrmEUAfaVeM/sH/8AJENc/wCyzfEf/wBTXW66X4Y/HPRdQ/Ze8LftE/GPxJofhu01LwVput%2BINSvLxbPT7Fri2ilkJknfEUYaTALucDAJJ5rwn4PfHLw14Q/4JlfFL9oTwV4psdS0208S/FbWNC1bS7xJ7e8H/CVa9JbyQyoSrq7FNrKSDuBBxWdWpGjSlUltFNv5Jv8AQyr1oYehOrPaKbfok2/yPnr/AIJQXv8Aw1r/AMFT/wBoP9tmdvtWm6YTo/h64bkeTLN5Ns6n%2B8LSwAOOAJvev08r4V/4N6Pg8nw8/wCCf9v4/uIALrx14mvtTMhGG8iFhZRofYG2kcf9dCe9fdVeFwvSnTyWnUqfFVcqj9Zty/Kx7WaU/qkMLgf%2BfFCjCX/XxwVas/nXxFTz91X1QUUUV9CeUFFFFABRRRQAUUUUAFFFFABRRRQAUUUUAFFFFABRRRQAUUUUAFFFFABRRRQAUUUUAFFFFABRRRQAUUUUAFFFFABXjP7L/wDyW/8AaO/7LNY/%2BoV4Xr2avGf2X/8Akt/7R3/ZZrH/ANQrwvQB7NRRRQAUUUUAFFFFABRRRQAUUUUAFFFFABRRRQAUUUUAFFFFABRRRQAUVx37Qfxm0L9nf4HeLPjn4k0y6vrPwpoFzqUmn2O3z7xooyyW8W4hfMkYLGu4gbnGSBk1y/wC/aC%2BIfxN1Dxv8O/id8JdN8M%2BO/A09qL7Q9I8VNqlhdwXdotxazw3klpbOVY%2BbC4eBSklvJjemx2APWa8Z8cf8pC/hf8A9kZ8ef8Ap28IVp/sjfH7xp%2B0P8O9X8SfEX4Z6f4S1zQfGer%2BHdU0fSvEjatbrLY3TQGRLl7W2Lh9u7BiXbnGWxk5njj/AJSF/C//ALIz48/9O3hCgD2aiiigD40/4KSf8EjvA/7Y1rqnxP8AhFrUXhH4j3VqiXl0wb%2Bz/EAjA8qO9jXOHXACXCDemBkPtXbzP/BOv/goj4w8HavF%2Bwh/wUYM3g/4raAUtNC1bxFIEh8TWv3YSLkny5J%2BNocNif5SpaQsK%2B8a8w/au/Y/%2BA/7Z/wxuPhd8dPBsN/blHOm6nEqpe6XMQP31tNgmNsgZHKuBtdWXIrwMTlE6GMeOy9qNV/FF/BU662%2BGV9pJb7p3Y6dbMcNg54LDVUqE5%2B0dOacqaqNJOrDl96lOSSVR0/dqxS9pTnKMJx9Por8j9X8cf8ABUv/AIJAeMYfAPiX4m2XjX4TNdrB4Y1/xraTT6YIzkJby3cRa40yXG1FSQtbg5IOxWNfVPhH/gsZ8OfDWlWNx%2B178BfG/wAKxeRo8PiNtOOteHLtXA2vbanYh0nQ5%2B8qbcEfManC8S4KpKVPExlRnH4lNaL/ALeV42fRuyfcrOcLmPDVKlWzei6VGr/DrJqph6lt%2BSvBOHMr%2B9TqKjVhtOnHd/Y9FcH8I/2ov2cPj3ax3XwY%2BOfhXxL5i5EGka3DLOns8QbzEPsyg13le7Tq0q0OenJSXdNNfemzClWo4iCnSkpRfVNNfem0FFFFaGgUUUUAFFFFABRRRQAUUUUAFFFFABRRRQAUUUUAFFFFABRRRQAUUUUAFFFFABRRRQAUUUUAFeM%2BOP8AlIX8L/8AsjPjz/07eEK9mrxnxx/ykL%2BF/wD2Rnx5/wCnbwhQB7NRRRQAVxvx4%2BCXhr9oH4dS/DvxNrGp6Xt1Kx1PS9a0SaOO90vULK6iu7S7gaWOSPfHPDG22RHjcAo6OjMp7KigDyn4c/ssD4U/D3VvA3gv49eOILrXJLy91LxNKuky6hNq11dPcT6qS9gYfPJcRiLyvsqRRRokCha53Uf%2BCb37Kvjb4a6r4A%2BOvw%2B0/wCJ99rmp3uqat4v%2BIugaZqWqTajdW0NrJeoTarBbSrb21rCgghjRI7WFQmEFe8UUAcr8Dvgz4B/Z3%2BD3hr4GfC7RorDw/4U0aDTdLtoreKL93EgXeywoib3ILuVVQzsxwM1%2Bf37ePxK/wCFef8ABGv4l6fFceVceJ/jx410a3YHk7/H%2BsTyKPXMMEo%2BhNfpXX4yf8FVfE%2BpeIf2Zvhx%2BzroZ8y58TftJ/FC%2BMIGdrxeMtWtIWI92vnA9wa8HifEPDZBiJLdx5V6yaj%2BoQyz%2B3MVQyq9vrVWjQv2VatSpyfyhKo/kfpn/wAE6PAX/CtP2EPhJ4QeDypYvAWnXFzHjG2a4gW4lH13ytXtFU/D2iWHhnQLHw3pUey10%2BzitrZP7scaBVH5AVcr18LRWGw1OivsxS%2B5JfoelnOP/tXOMTjbW9rUqTt2U5zkl8k0vkgooorc80KKKKACiiigAooooAKKKKACiiigAooooAKKKKACiiigAooooAKKKKACiiigAooooAKKKKACiiigAooooAKKKKACvGf2X/8Akt/7R3/ZZrH/ANQrwvXs1eM/sv8A/Jb/ANo7/ss1j/6hXhegD2aiiigAooooAKKKKACiiigAooooAKKKKACiiigAooooAKKKKACiiigDjv2hPgzof7RPwN8WfAzxJql1YWfivQLnTZNQsdvn2bSxlUuI9wK%2BZGxWRdwI3IMgjIrjPgP%2Bzz8Yvhj4x8T/ABR%2BInxo8PeJvE/jSeFvEN7YeB5tOtlitbSO3sILWA6hO0KRt9oml8ySVpXuW2mFVVR7JRQB4x%2Bxr%2Bzz8b/2d9M8Y6b8YfjV4V8YjxP4wvvEdo3hrwBc6EbK4vbiWe6jfz9UvvOj3Ogjx5ZQI24yFgV5%2B/8AhH8KPA3/AAU28F%2BPfBPwx8PaPrvif4PeOJfEutaVosFvd6s8ereEvLa5mjQPOV3vguWI3HHU19D14z44/wCUhfwv/wCyM%2BPP/Tt4QoA9mooooAKKKKAKXiLw54e8X6Fd%2BFvFmhWep6ZfwNBfafqFss0FxEwwyOjgq6kdQRivkTXv%2BCfvx6/ZWv77xd/wTZ%2BK9tZaHdzSXGqfBLx8Xu/D14X5kW0lJMlkzc8AlWYgFlQba%2ByKK4sXgMNjbOaaktpJ2kvRrp3TvF9Uz6Xh/izOeHI1KWHlGdCrb2lGrFVKNS23PTlpdXfLOLhUjf3ai2f5sX19/wAEqvjB4vT4a/t/fsR2XwG%2BI88mG/tW2fSbK%2BmBGZ7XVrExQzrnH7yQqCeMt39p03/glx/wjlhDq37MX/BQj43%2BFLKWMSafZL4zTWNKVCMq0cE6EMpGOd5yMV9Q/Eb4YfDj4v8AhW48D/FTwJpHiPR7ofv9N1rT47mFj2O2QEBhnhhyOxFfMN7/AMEtNW%2BC97N4h/4J%2B/tU%2BMPhJK0rTf8ACJ3U39teHJHJyR9juiTGWOQXDsVB%2BVRivCqZTPDz5pUI1l/ND91V%2BfK4xl8nF%2BR01%2BG/CLimo6tODyrEy3TU6uGb8qlJwxVJX6VIYiK/mdrkg/Z%2B/wCCvPgDjwX%2B3z4D8cRx/wCpg8d/DNLAkdlaSwcs3%2B91PWlHxV/4LOeBRjxT%2Byj8HPHez73/AAhfjm50syfT%2B0FOPxquv7VP/BSj9nQfZf2nf2Jbf4i6Rb8S%2BMPghqX2iZkH8R0u5xMzkcnaVUHOO1dl8Jv%2BCr/7CXxY1P8A4Rlvjda%2BE9eR/LufD3j22k0W7t5P%2BebfagsbP7I7elOnPLlNQWJq0Zfyzk193tYyT%2BU2cGL8G%2BLcNh5YnLpVcTQjr7TC11i4Jd5KMalSH/cSlDszlf8Ah4T%2B174X4%2BKf/BJ74n2hX/W/8Ilr1hroHrt8kpupR/wV6%2BHGl8ePf2Of2ivDBX/WHW/hRMqr68xyvke9fV%2Bnajp%2Br2MWp6Tfw3VtOgeC4t5Q6SKehVlJBHuKmr01g8yivcxbf%2BKnB/inE%2BGeXZ1Sk1HGvTpOlTb%2BduR/gfJcf/Bbn/gnjZuIvGPxN8QeG5CcbNd8BatEQfQ7LdwK6LR/%2BCvv/BNfXdpsv2tfDqbun2yC6t/z82JcV9IyRxyoYpUDKwwysMgiud1n4O/CPxEWPiD4WeHL7d977ZodvLn67kNP2Wdx2q03605L8psXsOIo7V6UvWlNf%2Bk1H%2BR5tpv/AAUj/YB1XH2X9sr4bpnp9p8XWsP/AKMdcVt2f7cP7FeoY%2BwftffC6fPTyfiBpzfymqfUv2M/2P8AWc/2v%2Byl8NbvPX7T4F0%2BTP8A31Caxbz/AIJ3fsE32fO/Yx%2BF65/54%2BBrGP8A9AiFH/C6v%2BfT/wDBq/zD/jJV/wA%2BH/4OX%2BZ0kP7WX7K9z/x7/tL/AA/k/wBzxnYn%2BUtTf8NQ/sz/APRxHgX/AMK6y/8AjtcLN/wTH/4J7z/f/Y6%2BH4/3PDsK/wAgKh/4dc/8E8f%2BjPfAv/glSjmz3%2BWl99T/ACDm4k/ko/8AgVX/AORO6uP2sv2V7T/j6/aX%2BH8f/XTxnYj%2BctUbj9tj9jO0/wCPr9rf4YxY6%2BZ4905f5zVzNv8A8Ex/%2BCe9t/q/2Ovh%2Bcf89PDsL/8AoQNXbf8A4Jz/ALA1t/q/2Mvhkcf89PBVk/8A6FGaL56%2BlL76n%2BQc3Er%2BzQXzrf5DtS/4KJ/sEaTn7X%2B2b8MWx1Fv43spj/5DlNc/qf8AwVg/4Jy6Tn7V%2B154QfHX7NdvN/6LRq7XTf2Iv2L9Gx/ZH7IvwwtSOht/AOnIf0hrodN/Z7%2BAejY/sf4H%2BD7THT7N4atY8f8AfMYo5c9f2qS%2BVR/m0HLxLL7VFf8AbtV/nJHgmqf8FtP%2BCYmlyeQf2nobmUnCRWHhbVpyx9AUtSP1qp/w%2Bm/Yyvv%2BRS0/4i6/n7v9j/DjUX3fTfGtfVWl6Doehx%2BVoujWlmmMbbW2WMfkoFW6PYZ1LevBelN/rUD6vxDLfE016Um//Sqv6HyV/wAPefh3d8%2BHf2Mv2j9XB6HTfhLK2f8AvqVaP%2BHsDy8Wf/BNf9q%2BT0J%2BEG1fzNzX1rRR9UzV74r7qUP1kH1HO3vjV8qNP9Zs%2BS/%2BHoPxFuudJ/4JgftHuP8Ap88FRW5/Wc0f8PNfi4Bl/wDgl1%2B0H/wHw1Af/a1fWlFH1LMv%2Bgt/%2BC6Yf2fnH/Qc/wDwVS/zPkv/AIegfEeP/j4/4JgftHD/AK5%2BDIX/AJT0n/D03xYn%2Bv8A%2BCY/7Tg/65/DlH/9uK%2BtaKPqeZ/9Bb/8F0/8w/s/OP8AoOf/AIKpf5nyV/w9X1df9b/wTN/aoH%2B58K1b/wBuaP8Ah7C0fNz/AME1v2r417v/AMKfyB/5M19a0UfU80/6C/8AylT/APkg%2BoZ1/wBBv/lGl/8AJHyV/wAPe/hrbf8AIa/Y5/aM009xffCaZcf98ymj/h8t%2BzDbc618Lvi/poH3mvvhjeqF%2Bu0GvrWij6tm62xK%2BdKP6TD6nnq2xkX60Y/pNHyV/wAPt/8Agn1b/Jq/j3xPp8n/ADyvPh/qqt/47bmj/h9z/wAE9ZPls/iN4kuH7Rw%2BANWJP524r61oo9hnX/P%2BH/gt/wDywPq3EP8A0E0//BL/APlp8lf8Pn/2RLnjQvC3xP1Qn7o0/wCGt%2Bxb6bkWqnwU/bB8GftYf8FC/Bj%2BDvhf4/8ADseg/Bnxl5s3jfwpJpi3nn6t4Vx9n3sfN2%2BSd/TbvT%2B9X2BXjPjj/lIX8L/%2ByM%2BPP/Tt4QrWhQzKNVSq1lKPZQSv8%2BZtG%2BGw%2BbwrKVfERlHqlTUb/Pnk19x7NRRRXoHqBXmH7W3xk8ZfBj4YWF98NbPTJfEviTxhovhrQJNbgklsrW41C/htjdTxxSRvLHDHJJN5SyRmUxCMPHv3r6fXG/Hj4JeGv2gfh1L8O/E2sanpe3UrHU9L1rRJo473S9QsrqK7tLuBpY5I98c8MbbZEeNwCjo6MykA8Tv/ANsf4z%2BGf2Q/iJ8SNd8PeHr3xz8N/G83hbW76w026TRgFvraL%2B2WtvOknS1hsruO%2BngEzMghmjExwJa53wJ%2B3J8Tvix8BPiH41%2BH3xj8E6lefCz4hf2Dq/jXwf8ABzXfFemeJbV9LsL%2BOfTtK0vUWu%2BP7SiieRLi5QG1mcfI4ZPavhz%2BywPhT8PdW8DeC/j144gutckvL3UvE0q6TLqE2rXV09xPqpL2Bh88lxGIvK%2BypFFGiQKFrP0j9j288KeC7rQPAP7UfxI0HXdZ8Rz654t8cWSaHPqniK8kgit990t1pktogSC3tokW3t4RGltGq4UEEA2Pgj%2B0Vpni79kXwd%2B1D8bNQ8PeDoNa8D6drviKabxBAdM0tri2jlkH2wv5RiVn2iTdgjHJr8hG8a%2BGf2n/APgpf8I/D/gvxXY6z4Y0P4u%2BJr77Vpd0t1b3sT%2BPfEWrPNE8ZZZI3toICCudwIIJyK/aP4M/CTwb8BvhR4e%2BDPw9triLRPDOkw6fpq3dy00zRxqFDySNzJIxyzMeWZie9fjl/wAE9PBkHjv/AILbfETxZtdrjwz8Z/iDfSAk4EK%2BIX0%2BNsem%2B7lGfXNfM8URdajhsOtp1qafom5fofQ8IUJ1OKsNXS93DRxOIfZewwmIlC/l7WrSV%2Bj5Xukfs9/wmGk/8%2Bmqf%2BCO7/8AjVL/AMJhpP8Az6ar/wCCO7/%2BNV87ePv%2BCyP/AATe%2BF/jvWvhp45/aN%2Bw634d1a50zWLL/hENYl%2Bz3VvK0Use%2BO0ZH2ujDcpKnGQSOayf%2BH5f/BLT/o6H/wAsnW//AJCr0pZ5ksJOMsTTTX9%2BP%2BZ7dHwt8TMRRjVpZJi5Rkk01h6rTTSaaahZpppp9U0%2Bp9P/APCYaT/z6ar/AOCO7/8AjVH/AAmGk/8APpqv/gju/wD41Xzt4B/4LI/8E3vih470X4aeBv2jft2t%2BItWttM0ey/4RDWIvtF1cSrFFHvktFRNzuo3MQozkkDmu%2B/b%2B%2BMHxM/Z9/Ym%2BKfxx%2BDdpps3ifwl4H1DVdHXV5mS3WWCFpN77Y5N21QzBNuHZQhZAxdevC43B42Llh6kZpb8rTt62Pn884Z4k4YrQpZxgquGlNNxVWnOm5JOzaU0m0no2uuh6X/wmGk/8%2Bmq/wDgju//AI1R/wAJhpP/AD6ar/4I7v8A%2BNV896n%2B258bfCvxD8c%2BC/iF8CvAmhaf8Mvh5aeJvHPie7%2BKl0bG3e7i1Rre2tsaOJZ1D6fGJZXSIolwWjjmdBFJzPw2/wCClWr/ABV1TwzoerfCfV/C%2BtxfGiXwd4h0hZby2hkQ%2BD9Q1%2BGfbrGj2l68LpDEm37PaSCVAyyyQqVuOk8M%2Bqv%2BEw0n/n01X/wR3f8A8ao/4TDSf%2BfTVf8AwR3f/wAar55/ZK/b5%2BJP7Q%2Bn6JceOf2YP%2BEfu/Fnwm0X4g%2BE9L8PeNYdVnutOvmCPBObiCyit7iEvExUPIjo%2BQ4ZTHXU/tV%2BLPirqXxa%2BF/7PHwt%2BK%2BoeBG8bXWsXWreK9G02xur2K3sLISLbQLf29xbq0k00LMzxOfKglVdrMJEAPXf%2BEw0n/n01X/wR3f/AMao/wCEw0n/AJ9NV/8ABHd//Gq%2BcoP2hP2kfif/AMEyPCHx/wDh9aXP/Cc67pHh2bxDd%2BFdDW9uLe0lv7SLWNQ06ykWQTypZm8ubeArLuZY12TnEb%2BS%2BGv2q/2p/iL4cfw/YeNvi7Y%2BGPC3xR13w3rvxF0P4SW934svI49Msb7STc6SdMkS2jla%2BlilkFjEVNrCJBbGWQqAfc//AAmGk/8APpqv/gju/wD41R/wmGk/8%2Bmq/wDgju//AI1X57az/wAFBv2wJPgx4C/ax1%2By8Y6NpurfC7wJ4h0rw14V8CQ3%2Bh%2BI76/uca5b6hqDW87af5cLwm2AubbPmoyG8YmFegT9t79p7wV%2B0frHi3xZrWvaj8P08XePdJ0uJ9O0ceGtY/sSwv7iHTdLlgi/tZNVjbTboXL3n%2BiFrK/WEuVhFAH3R/wmGk/8%2Bmqf%2BCO7/wDjVX7C/tNTtEvrGcSRSDKsAR3wRg8gg5BB5BFfMn/BOb9oDx78WLK40742eOviDdeL9V8GaJ4qGjeM/DmiafYRWN6LjFzpI0xDMLR5UePyb%2BWS8iEMXmBTJl/ozwf/AMgmb/sKX3/pXLQBq0UUUAFFFFABRRRQAUUUUAFFFFABRRRQAUUUUAFFFFABRRRQAUUUUAFFFFABXjP7L/8AyW/9o7/ss1j/AOoV4Xr2avGf2X/%2BS3/tHf8AZZrH/wBQrwvQB7NRRRQAUUUUAFFFFABRRRQAUUUUAFFFFABRRRQAUUUUAFFFFABRRRQAUVHe3tnp1nLqGoXcUFvBE0k880gVI0UZZmY8AAAkk9KwPhd8YvhH8cPCg8efBb4p%2BHPF%2BhtO8C614X1y31C0MqY3p50Dsm5cjIzkZ5oA6OvGfHH/ACkL%2BF//AGRnx5/6dvCFd/8ACz42fBn45aPdeIfgn8W/DHjGwsb5rK%2BvvC2v2%2BoQ29yoBaF3gd1SQBlJQkEBhxzXAeOP%2BUhfwv8A%2ByM%2BPP8A07eEKAPZqKKKACiiigAooooAKKKKACuQ%2BLH7P/wN%2BO%2Bl/wBj/Gj4Q%2BG/FNuEKxrrujQ3JiHqjOpZD7qQRXX0VFSnTqwcJpNPo0mvuaZ0YTGYvAYiNfC1JU6kdpQlKMl6Si4tfJo%2BTNQ/4I7/ALOnhi9l1r9mb4nfEz4O30jmT/igPHFzHbO5/wCekFwZVZfVAVHbgVF/wof/AIK5/CIZ%2BF37angL4lWkX%2Bp074oeCGsJAn9w3GnMXkb/AGmxz14r64orzP7FwEdaKdN/3JSh%2BCbj/wCSn3C8TuLa6UcynTxsf%2BoqjSrv/wAGThGt/wCV7%2BZ8kf8ADYH/AAUm%2BGP7v40/8E0JNftY/wDW618MfHdreb/XZZTATe/LU5P%2BCyv7MnhhhF8e/hh8Wfha4OJT48%2BG95CiH/etxNke%2BK%2BtaR1V1KOoKkYII4Io%2BpZlS/hYpvynCMvxjyMf%2Bs3BWN/3/Iowf82GxFej/wCSVViaf5LyPEPAP/BSv9gT4meWvhT9rnwL5kuPKg1PXY7CVz6CO6MbE%2B2M17B4c8W%2BFPGFkNS8JeJtP1S2PS4069jnQ/8AAkJFcT4%2B/Y//AGUfinvf4jfs1eBNakkzuuNR8KWkkoPqJDHvB9wQa8g8R/8ABGD/AIJy63enV9J%2BAj%2BH78Z8u/8ADPiXULF4/wDdWOcIP%2B%2BaObPae8aU/Rzg/wAVNfiL2PhXjPhrY3DP%2B9Tw2IivnCph52/7dv5H1LRXyV/w6etPDP7z4Q/t6ftD%2BFdv%2BqsofiIbqzX0zDNEc/i1H/DGH/BR7wr83w9/4KwanPEn3bPxZ8LNNvt/s028OPqBR9ezGHx4SX/bs6cvzcGH%2Bq3BuI/3XiCkvKthsXS/GMa8fnsfWtFfJf8AwhP/AAWu8Kf8gP43fAHxYF/6GTw3qdgzj/t0JAP6Uf8AC2v%2BCy3hj/kOfskfCDxPt6/8I349uLLf9PtanH40f2so/HQqx/7cv/6TKX5B/wAQ/nV/3XNsBU/7mlTf3VqNK3zkfWlFfJf/AA2t/wAFGNB48bf8EktaCL1m8PfFjSr/AHD1CKgI%2BhoP/BTf4r6L/wAjr/wS9/aEgx9/%2Bw/C8GpY%2BnlzLmj%2B28vXxOUfWnUX/tjD/iGPF8/4EaFX/r3i8HP8sVE%2BtKK%2BS/8Ah798JNP/AORx/ZS/aC8O4%2B9/bXwonTb9dkj0f8Psv2BrH/ka/F/izQcfe/tf4faom367IGo/t3JlvXivVtf%2BlRQf8Qp8SH/DyqtP/BGNT/01VqfgfWlFfLWl/wDBan/gmJq%2BPsv7VNimf%2Bfrw7qkH/oy1Wui0z/gqz/wTo1bH2X9rzwemen2m9aH/wBGKtaRznKJ/DiKb/7fj/mcdfw28RMN/FybFx9cPW/%2BVs%2Bg6K8a0/8A4KJfsE6nj7N%2B2Z8MVz/z8eN7KL/0OUVt2H7Zn7H2q4/sz9q34a3OenkeOtPfP5TVvHH4Gfw1oP8A7ej/APJHlVeFOK8P/Fy/ER9aFdfnRPSqK46y/aJ/Z%2B1LB0746eDrjPTyfE9o/wDKStS0%2BKHwzv8AH2D4iaFPnp5Orwt/Jq2VehLaafzX%2BZ51TK8zo/xMPUj6wmvzgjdoqra65ol9/wAeOsWs2enlXCt/I1arRNPY45QnB2kreugUUUUyQooooAK8Z8cf8pC/hf8A9kZ8ef8Ap28IV7NXjPjj/lIX8L/%2ByM%2BPP/Tt4QoA9mooooAKKK8//aX%2BONz8AfhrF4s0XwiviDWtV8Q6XoPhvQ5NR%2Bxx3uo6hexWkCyz%2BXIYIVaXzJZBHIyxRuVSRgqMAegUV8%2B3P7dF1oX7L3in43eLfhTHaeJ/B3jE%2BEdb8JW/iISWkesPqUFhBjUHgTFlIbq1uDctArRwSlniDI0dHhD9rH47/Erwx4s0/wCHXwO8CXfjX4deN5vDfxB0nUfitPb6Pp8qada6iskGoppMklxut761yr2sOxzKjEeVlgD6Cr8u/wDgk94Lsb/9v39qTx3bRbn8O/FDVtIlnKY3PfeO9VvmUeuFijB%2Bgr9Ev2dvjLpX7RfwC8E/H7QtDvNMsvG3hTT9dtNO1Db59tHd26TrG5UlSyhwMqSpxkEgivkD/gkj4KfTx%2B098R7qHbLrn7Yviq0jYj78Fp4hdVP03yyj8DXmY%2Bj7bFYX%2B7Ny%2B6Ev1aPsuF8RQwWT5zWkvfeGVKD7OtiKEZ/fTpyT8j7xor5i8f8A/BTX/hAvHet%2BBf8Ah3z%2B09rX9i6vc2H9saB8J/tNhf8AkytH59tL9pHmwvt3o%2BBuVlOBmsj/AIew/wDWNT9rT/wzf/3VSlnWWRk4upqv7s//AJWfmkuIcmhJxlV1Wnw1Omn/AD6PrSsX4j/DzwZ8XPh9rnwq%2BI2gxar4f8S6Rc6XrmmTsypdWlxE0U0RKEMAyMwypBGcgg818%2BeAf%2BCmv/Ce%2BO9F8C/8O%2Bf2ntF/trV7aw/tjX/hP9msLDzpVj8%2B5l%2B0nyoU3b3fB2qrHBxXs37SfjD4nfDz4BeL/iD8GfDlprPifQdAudS0fRb2F3TUpIEMptQEdCHlVGjRt2Fd1YhgCp68NjMNjIuVGV0t9JL/ANKjH9TtwePweYRcsPLmS0ekl5/ajH8LmNB%2Bxr%2BzwvhXxT4O1PwhqWr2fjXw3b6D4ql8ReK9T1O61Kwg%2B0%2BTHJc3dzJPvT7XPiUOJRuX5/kTbneB/wBgr9lr4e6kuueH/AWpTakPFw8US6trXjHVtSvLjVxpE2jC7muLy6llnYafPLb4kZl2lTjciMvhviP/AIKP/E34keFrnxj%2By42h6rYeI/Hc2kfCiWLwkuqN4g06w0hbrVb2RrnW9KtoY4rvz4A7XC7RZuAkrSDy%2BJ8G/t1fEb4ueI9E%2BPFl9ptdO8efDL9nfVY/Cja/e/YdKn8ReLtdtr%2BSD7NPFucxeSjMcpOtrCsySxL5R6TsPsPwx%2Byd8CPBNjolh4O8J3ulL4c8DWng7RJtO8R6hDNaaLavG8FqsqThztMUeZCxkYAhnYMwOj8b/wBnr4U/tE6Jp%2Bh/FLR9RmGkaib7SL/RPEV9pF9Y3BhlgZ4bywmhuIt0M00ThJAHSRlYFSRXyb8E/wBqn9qD43ftSfCDxhqfirwj/Ynjv4W%2BP9b8OfD3Srq909rWSzv9GgtoNWlM1wl1LH5pRrhLaI20j3CLFJnJ9u/bf1bxJPpnwo%2BG8virVfDukeO/ivYaH4z1Lw3rtxp91DZnT7%2B6SCG9t2int/PvbWztfMjaORluCqlS4oA9Ck/Z3%2BFieAx8MNGsdY0XQIvDlhoVlpnhnxXqOlR6fY2ZJt0tPsdxEbN1B2mWApK6IiM7LGirgX/7FX7Pt98KrP4LRaT4msfD9pf3N7LFo/xD1uxutQnuWdrl767t7xLnUDM0jtJ9qklEjNl9xAI8s%2BEWo/tC/FP/AIJt%2BN9D%2BE/xJu5/GlnqXjvw54B8Waxqpa4uLfT9e1TT9MuJLyUOWlNrbQD7W4cu2J237jnzX4d%2BP7XS/hd%2B0fF8f9G%2BLnh74e/B%2B7s9c0vTdR%2BNWpz%2BI7SddDW6u9Ok1XTNUlml3MY5ktTeTj/TouFzHFEAfVfiX9kr4D%2BLfEnhrxFrfhbUDF4QgsYvD3h618T6jb6HbCyl82zZtJiuFsJpIJNrxSSQM8bRxFSDFHtq%2BHv2Lv2bfC/xYm%2BNOj%2BAbhdbl1K/1GOG48RahPptrfXyut7eW%2BmyztZW1xOskwlnihSSTz5tzHzZN3xh%2B0J8O/20f2Y/2LfD/jDxR42%2BJPiO78EfAHU9Qv8AVNJ%2BL09pNonjc/6ab7U3u71JtX0%2BNyYIrdze4SHyzbS%2BaCvs/wAdW%2BKXgn9pn4J/GaDVNV0HTvFvi3TtJ8bNF8VNYukN7Ppt0g0lPDUpOnLAzpA73sbi4iZWfyivmTUAe6fAr9k/4Efs23V9f/CHwleWU%2BoWFrYST6l4iv8AU3gsbUyG2sbdr2eU2tpCZpTHaw7IY/MbagzXZeD/APkEzf8AYVvv/SuWtSsvwf8A8gmb/sK33/pXLQBqUUUUAFFFFABRRRQAUUUUAFFFFABRRRQAUUUUAFFFFABRRRQAUUUUAFFFFABXjP7L/wDyW/8AaO/7LNY/%2BoV4Xr2avGf2X/8Akt/7R3/ZZrH/ANQrwvQB7NRRRQAUUUUAFFFFABRRRQAUUUUAFFFFABRRRQAUUUUAFFFFABRRRQB5F%2B338PvGnxW/Yo%2BKfw4%2BHmjS6nrOs%2BBtRtbLSIHCvqZaBt1mpYhQZ13QjcQv7zkgZNeGWej%2BN/jj4d/afvPg54F8Y%2BFB8XPB7aV8Ox4i8Falokk%2BrW3h37LJfyx3UEbWQ3zWlsj3AiMv9nsY96IrH7QooA%2BXv2Hre58WfHvxn8YfC/wc8T%2BB/CE3wp8EeGLTSfFXhO60WY6rpsmtSXSJbXUcbPHDBfWFuLhFMUpiKo7rCDW1f6b8V7T/AIKbeC7zxt408PahoVx8HvHB8NadpXhiezu7BBq3hLzFubmS9mS7JymCkNuF2nIbcNv0PXzh%2B0fq/wAa9H/bw%2BE8/wADvh/4W8Rak3wj8drd2nivxhc6LBHB/anhIl0lt9PvWd920bDGowSd%2BQFIB9H0V4z/AMJx/wAFC/8Ao1/4M/8Ah%2BNW/wDmXo/4Tj/goX/0a/8ABn/w/Grf/MvQB7NRXjP/AAnH/BQv/o1/4M/%2BH41b/wCZej/hOP8AgoX/ANGv/Bn/AMPxq3/zL0AezUV846T%2B0d%2B3brHxn1/4HW/7KHwkXVPDvhfSNdvLl/jrqnkSQajc6lbwohHhjcXVtLnLAqAA8eCxLBeo/wCE4/4KF/8ARr/wZ/8AD8at/wDMvQB7NRXjP/Ccf8FC/wDo1/4M/wDh%2BNW/%2BZej/hOP%2BChf/Rr/AMGf/D8at/8AMvQB7NRXjP8AwnH/AAUL/wCjX/gz/wCH41b/AOZeuX8A/tHft2/ETxX438IaP%2Byh8JIbjwH4oi0LVZLn466oEnnk0rT9TDxbfDBJTydRhUlgp3o4xgBmAPo6ivGf%2BE4/4KF/9Gv/AAZ/8Pxq3/zL0f8ACcf8FC/%2BjX/gz/4fjVv/AJl6APZqK8Z/4Tj/AIKF/wDRr/wZ/wDD8at/8y9H/Ccf8FC/%2BjX/AIM/%2BH41b/5l6APZqK%2BcfhF%2B0d%2B3b8ZfCl34v8OfsofCS2t7PxRrehSR3vx11RXM%2Bl6rdaZO42%2BGGGxprSRkOclGUkKcqOo/4Tj/AIKF/wDRr/wZ/wDD8at/8y9AHs1FeM/8Jx/wUL/6Nf8Agz/4fjVv/mXo/wCE4/4KF/8ARr/wZ/8AD8at/wDMvQB7NRXjP/Ccf8FC/wDo1/4M/wDh%2BNW/%2BZeuX%2BCP7R37dvx4%2BDHhD44%2BFf2UPhJa6X4z8L6frum22ofHXVFnhgu7aO4jSQJ4YZQ4WQBgrMMg4JHNAH0dRXjP/Ccf8FC/%2BjX/AIM/%2BH41b/5l6P8AhOP%2BChf/AEa/8Gf/AA/Grf8AzL0AezUV4z/wnH/BQv8A6Nf%2BDP8A4fjVv/mXrl/jd%2B0d%2B3b8B/gx4v8Ajj4q/ZQ%2BEl1pfgzwvqGu6lbaf8ddUaeaC0tpLiRIw/hhVLlYyFDMoyRkgc0Ae/6p4V8Ma3n%2B2vDlheZ6/arNJM/99A1zup/s8fADWsnWfgb4Ou89ftPhm0kz/wB9RmuK/wCE4/4KF/8ARr/wZ/8AD8at/wDMvR/wnH/BQv8A6Nf%2BDP8A4fjVv/mXrOVKlP4op%2BqT/NM66GYZhhf4NacP8M5x/wDSZI19R/Yk/Yx1fP8Aav7I3wxuc9TceAtOf%2BcNYl//AME4f2BNSz9o/Y1%2BGy5/54eD7SL/ANAQVJ/wnH/BQv8A6Nf%2BDP8A4fjVv/mXo/4Tj/goX/0a/wDBn/w/Grf/ADL1hLL8BP4qMH/25H/5E9alxdxbQ/hZjiI%2BmIrr/wBzGHe/8EqP%2BCdV/nz/ANkPwcuf%2BeFg0X/oDCsq7/4I7/8ABNO9z537J2hrn/njf3sf/oM4qz8Xf2jv27fg14UtPF/iP9lD4SXNveeKNE0KOOy%2BOuqM4n1TVbXTIHO7wwo2LNdxs5zkIrEBjhT1H/Ccf8FC/wDo1/4M/wDh%2BNW/%2BZesXlGUy3w8P/AI/wDyJ6NPxF8QaPwZxil/3MVv/lrPPLr/AIIl/wDBL%2B8/137LFqM/88vFGrR/%2Bg3Yqr/w47/4Jmxf8g74A31p6fZvHOsjH53Zr03/AITj/goX/wBGv/Bn/wAPxq3/AMy9H/Ccf8FC/wDo1/4M/wDh%2BNW/%2BZes3kWSP/mGp/8AgEf8jsj4q%2BJ8FZZ3i7f9hFV/nJnmP/Dk79geH/kHeEfFtn6fZviDqgx%2Bc5pf%2BHMf7I0P/IN8VfE%2By9PsvxKvxj83Nem/8Jx/wUL/AOjX/gz/AOH41b/5l65fx9%2B0d%2B3b8O/FfgjwhrH7KHwkmuPHniiXQtKktvjrqhSCePStQ1MvLu8MAhPJ06ZQVDHe6DGCWVf2Fkv/AEDw%2B635NFf8RW8S3vm%2BIfrU5v8A0qEjmv8Ahzv8A4f%2BQd8fvjhZ%2Bn2b4pXQx%2BYNH/Dor4fRf8g79tD9pCz9Ps3xalGPzhNem/8ACcf8FC/%2BjX/gz/4fjVv/AJl6P%2BE4/wCChf8A0a/8Gf8Aw/Grf/MvR/YWUdKK%2B%2BS/KaD/AIip4iPfMpv1jRl/6Vh5HmP/AA6ctIv%2BPD/goz%2B1XbeixfGA4/I21U/gr%2Byrefsyf8FC/Ba3X7THxT%2BIq618GfGWz/hZnikamdP8nVvCufs5EaeX5nmjf13eVH028%2Btf8Jx/wUL/AOjX/gz/AOH41b/5l6oeB/A/7VnjH9qzw58bvjd8OPh74Z0bwz8PfEOhww%2BFfiHfa1dXd1qV9olwjMlxpFikUaJpcoLB3YtKgC4yRtQyrL8NVVSlC0l/em/wc2vwPPzTj7i/O8DPB47Fc9Odrr2eHjezTXvQw1Oa1S2muzurp%2B60UUV6B8eFefftL/A66%2BP3w1i8J6L4vXw/rWleIdL17w3rkmnfbI7PUdPvYruBpbfzIzPCzReVLGJI2aKRwrxsVdfQaKAPDfh/%2Byt8RvBHwj8Y%2BAdU%2BJng/wAQ6p46utS1XxFfa98O5J9Pu9VvZmMhksTqOHsFthDbLaGXzNkO57l2YmvMNT/4JfeM9O/Z8vPgb8K/jV4J8LQ%2BLvHw8R/FGwsPhO8Wg%2BIbZbKCzj0aDTrTVLd7DT/Js7NJY1uJGnWGRZGZbiYN9g0UAcwnw307xb8KIvhh8btD8MeKbe50uO01%2BxHhoRaTf4ADKtjcS3ASEkDETyS7QANzYzXhf/BPz4ZeCfhH%2Byxr/h/wD4etdK0mH49%2BOrhNP0%2B0SG3s4IvHOpRrHFFGoWOKOGFFVVACqgA4FfTdfJX7JXiz9s7T/h74os/hj8A/hhq%2BhJ8afiL/AGfqOvfF3UdNu5l/4TPWSxktotAuUiIbcABM%2BQAcgnaE4ptN9C41KkISgnpK113s7r7nqfUH/Cc%2BCf8AocNL/wDBhH/8VS/8Jz4J/wChw0r/AMGEf/xVeW/8Jx/wUL/6Nf8Agz/4fjVv/mXo/wCE4/4KF/8ARr/wZ/8AD8at/wDMvTIPUv8AhOfBP/Q4aV/4MI//AIqj/hOfBP8A0OGlf%2BDCP/4qvLf%2BE4/4KF/9Gv8AwZ/8Pxq3/wAy9H/Ccf8ABQv/AKNf%2BDP/AIfjVv8A5l6ANS%2B%2BBn7FGqfDjSfg7qfwd%2BFtx4R0C9%2B2aF4Vn8Paa%2Bm6bc7pG86C2KeVDJullO9FBzI5z8xzoaf8OP2UdJtbWy0rwH8PbaGytNJtLKG30uxRbeDS55LjTIkAUBEtJ5ZZbdRgQSSO8YVmJPmfwR/aO/bt%2BPHwY8IfHHwr%2Byh8JLXS/GfhfT9d0221D466os8MF3bR3EaSBPDDKHCyAMFZhkHBI5rqP%2BE4/wCChf8A0a/8Gf8Aw/Grf/MvQBq2PwP/AGKtL8U63450z4QfC631vxLBdQ%2BI9Yg8P6al1qsd1j7SlzKE3zrLtXzA5IfA3ZxXQeN9K%2BAHxM8EXPwy%2BJGm%2BDvEHhu8hSK78Pa5DaXdjPGjKyI8EoaNlVlUgFcAqCOgriv%2BE4/4KF/9Gv8AwZ/8Pxq3/wAy9H/Ccf8ABQv/AKNf%2BDP/AIfjVv8A5l6AOqHgn9mEeHrfwiPCPgMaTaeG5/D1rpf2Cy%2Bzw6ROI1m05I9u1bWQQxB4APLYRICp2jFfw98Nf2TvCPw3Hwb8KeAPh3pnhBZxOvhTT9KsIdNEomEwf7MiiLcJVWTO3O9Q3UZrzX43ftHft2/Af4MeL/jj4q/ZQ%2BEl1pfgzwvqGu6lbaf8ddUaeaC0tpLiRIw/hhVLlYyFDMoyRkgc11H/AAnH/BQv/o1/4M/%2BH41b/wCZegDp/HvgH9lr4qeJtC8afE/wX4A8Sax4XuDP4Z1bXtOsby50iUsjGS1llVnt2LRxtuQqcxqf4RUFv8Lf2R7T4ty/H60%2BHXw5i8dzpsn8ax6RYLq8i%2BUIcNeBfOI8pRHgv90BegxXP/8ACcf8FC/%2BjX/gz/4fjVv/AJl6P%2BE4/wCChf8A0a/8Gf8Aw/Grf/MvQB6j/wAJz4J/6HDS/wDwYR//ABVHgw79DM6g7Jr67liJGNyPcyMrfQqQR7GvLv8AhOP%2BChf/AEa/8Gf/AA/Grf8AzL1y/wAXf2jv27fg14UtPF/iP9lD4SXNveeKNE0KOOy%2BOuqM4n1TVbXTIHO7wwo2LNdxs5zkIrEBjhSAfR1FeM/8Jx/wUL/6Nf8Agz/4fjVv/mXo/wCE4/4KF/8ARr/wZ/8AD8at/wDMvQB7NRXjP/Ccf8FC/wDo1/4M/wDh%2BNW/%2BZej/hOP%2BChf/Rr/AMGf/D8at/8AMvQB7NRXzj4%2B/aO/bt%2BHfivwR4Q1j9lD4STXHjzxRLoWlSW3x11QpBPHpWoamXl3eGAQnk6dMoKhjvdBjBLL1H/Ccf8ABQv/AKNf%2BDP/AIfjVv8A5l6APZqK8Z/4Tj/goX/0a/8ABn/w/Grf/MvR/wAJx/wUL/6Nf%2BDP/h%2BNW/8AmXoA9morxn/hOP8AgoX/ANGv/Bn/AMPxq3/zL1y%2BrftHft26P8Z9A%2BB1x%2Byh8JG1TxF4X1fXbO5T466p5EcGnXOm28yOT4Y3B2bVICoCkEJJkqQoYA%2BjqK8Z/wCE4/4KF/8ARr/wZ/8AD8at/wDMvR/wnH/BQv8A6Nf%2BDP8A4fjVv/mXoA9morxn/hOP%2BChf/Rr/AMGf/D8at/8AMvR/wnH/AAUL/wCjX/gz/wCH41b/AOZegD2aivnHSf2jv27dY%2BM%2Bv/A63/ZQ%2BEi6p4d8L6Rrt5cv8ddU8iSDUbnUreFEI8Mbi6tpc5YFQAHjwWJYL1H/AAnH/BQv/o1/4M/%2BH41b/wCZegD2aivGf%2BE4/wCChf8A0a/8Gf8Aw/Grf/MvR/wnH/BQv/o1/wCDP/h%2BNW/%2BZegD2aivGf8AhOP%2BChf/AEa/8Gf/AA/Grf8AzL1y/gH9o79u34ieK/G/hDR/2UPhJDceA/FEWharJc/HXVAk88mlafqYeLb4YJKeTqMKksFO9HGMAMwB9HUV4z/wnH/BQv8A6Nf%2BDP8A4fjVv/mXo/4Tj/goX/0a/wDBn/w/Grf/ADL0AezV4z%2By/wD8lv8A2jv%2ByzWP/qFeF6P%2BE4/4KF/9Gv8AwZ/8Pxq3/wAy9W/2Vvhz8afB%2BsfFDx38dNA8L6Tqnj74hRa5Z6V4T8S3OrW9raxaDo%2BmKr3FxZWbNI0mnSuVEW0LIg3Mc4APW6KKKACiiigAooooAKKKKACiiigAooooAKKKKACiiigAooooAKKKKACiiigAr5X/AGnv2tPi58MPjH4s1rwD4d8HyeGPg/4f8P3vjU61pFxNquqW%2Br38qXMFhcR3EaWXkW1nHcZkinFzIUjIh8vzT9UV4z8Z/wBiH4cfG74pH4ma5458VaXFqNrpFr4v8NaNdWqad4pg0u9kvbGK%2BWW3kmCxzTS5%2BzywGWOQxTGWMKgAPZqKKKACiiigD5j8OftK/EyH9v8A8UfB/wCI2seHvCfhtfEFpongyLUfhFrKXXjGAaBBqOIPEbXa6c0sd3c6gBaCF5PLtJgFBZpF%2BnK8r8WfstQeP/jJpHxT8e/G/wAa6vpXh7XY9a0DwBcHTItGsdQjt3gjnDQ2SXsuzzJJFSa6kjEj7tnyIF9UoAKKKKAPF/8AgoL8Xfjh%2Bz9%2ByP40%2BPXwCvfCkeseCdCu9cuoPGGi3N9bXdpa20sz26JbXVsySuyIokLlUBYlH4Fef%2BPP2tPi54L%2BPHi3U/Cnh3whF8PPCHxj8I/D7xlZzaRcHW9V1XXYNFSPUIbtLhYY44P7c0mMxSW8ryJDPiWPagr2H9rH9nGy/a0%2BBGvfs%2B618VfFPhHSfE9lLY65f%2BEF077Xc2UsTxTW26/tLqNEdX5ZEWQFRtdec8XB%2BwD4On%2BItn8RfFXxx8fa6x1nSdc8TaNqEulRWPifXNMSNLHVr2O2sImW4iEFphbZoIGNjbF4mMeSAe90UUUAFeL/ALZPxd%2BOHwStfAPjH4WXvhT%2BxtQ%2BJnhzw94vsfEGi3NzdXNrqus2Omg2csN1CltJGtzLJvkSdSURdnJNe0V5V%2B1d%2By2/7VXhvQvC8/x98b%2BBrfQvElhrqN4Lh0dnu72xvILyzaU6lp94NsVxbxuFjCBuVk3qdoAPOP2ef2lfiZrf7VXi34I/FDV/D3hPTofFOt2/gnwlJ8ItZ0y5162hdJTf2%2BtXF39g1B2Mk0ssVtAX5LsVwxP05Xkuk/soh/jJovxl%2BI/7QHjvxrN4Xu7y78J6F4hGkw2Gj3VzbyWslxEthp9tLK/2eaeFfPklVFnfaASCPWqACiiigDw/9u74ufHj9n74Nav8dfhR4x8C2On%2BFtFuby90XxZ4Zvb%2B58Q3uUWz0yzktr2D7PNcSkW6N5V0zSzxBYWPyt5/8Ef2vvjPrnxL8Ff2t4M8JaR8NPG/xP8AFHw28K%2BGtO0uaPV9Ev8AQIdW3zz3IuGt5oJG8P6miwx28RjVrY%2BZJlgPT/2lf2QYP2kvHngj4gTftA%2BO/CFz4Bu7m90Wx8MRaNPZyXsqCNbyaDU9OvEeeGPzFhkAUxieUj5myKvgP9hr4e%2BA/jLb/F2H4i%2BLtSg07XdT17RPCGpXNl/ZOla3qMbx6hqkCRWqT%2BfOJ7ssrzPCjX1yY4o/M4APa6KKKACvl/8Aa5%2BPH7S/wW%2BImn%2BFNKh8AeNdH8cw61baL8OYvB99JrCWtpod1dyX9xOL14rq2F1Fb20kItYgft8KCYyMiSfUFeHTfsTXEf7R/iv9prRP2q/iXp2r%2BLdNh0650uGDw/PaafZwwNHDbWbXOky3NvEsrvdbFm2vO5dw4O2gBn7CH7Qfjf49/D28uviv4%2B0a%2B8XacLNtf8N2Xwu1fwjeaA89ssogubLV7qe4cFt/l3ACRyKh2htpNe6V5v8AA79m7Tvgz4n8SfEPWPil4p8ceKvFcVjb6x4n8XNYLcvaWYm%2By2qRafa2ttHFG1zcuNsIZmuJCzNkY9IoAKKKKAPjn/goJ%2B3H8VP2MPHP9p65ougeMfCL6NqOt2/hWX4c6nZS26abo19qSSf8JFNdPpk939r00bLFYEuhHMsoG2FpG9e/Zo%2BLvxz1b4qeN/2ev2jrnwpqHifwjpOh61HrXgrSLmwsbmx1QXkaRGC5ubl1liuNOu1L%2BbiRDE2yMkqK3x1/YS8EftOa1dWvx/8Ai3418UeC7mS4kX4ZXkmmw6LFJNYzWTNvt7KO%2BkAjuJmCS3ToHfdt%2BRAvT/s%2BfszaR8A7zXvEV38UPFnjjxH4kNnHq3irxrcWb30ttaRGK1tR9jtreFYog8rDEe9nnld2dnJoA9KooooAK%2BI/2p/2yv2s/g38avEHwo8HeG/DnjXU7DRbjXfDAT4H%2BII5NFA1HTLVDC325x4mkFjqlx539l%2BU8LQlZRGJhHX25Xh%2BvfsW6n4l8en4na1%2B1z8UZtb0%2BC8i8G3hTQAPCq3U0Mk/2SMaTsnZo4Ft916t0yxM4Uq7s5AOq/ZY%2BLD/ABk%2BEcHiy9%2BJmjeKr%2BHUbqy1S%2B0bwZfeHRbXEUrK1rNpuoXE91ZzxjCvHM4fPzbVDAV6NXDfAP4C%2BHvgB4Z1PRtK8U634g1HX9euNb8SeJPEc0DXuq38wRGnlFvFDAmI4oYlSGKONUiQBRgk9zQAUUUUAFFFFABRRRQAUUUUAUfFHiGw8JeGtR8V6qHNrpljNd3IiXLeXGhdsDucKa%2Bc/wBib9pP41%2BP/FOj%2BDPjZ4e8GWY8dfC2y%2BI3hmHwZpVxaDTI7y4Ju9PuzNcSi7mje5tn%2B2IIBO0sxMEe0F/pa7tLW/tZbG9t0mhmjaOaKVQyupGCpB4II4xXkP7M37FfgL9mDVX1fQPiD4t8Sy23hix8M%2BHR4svbWYaBoVm8j2%2Bm2pt7eEtGpk%2BaWczXEgji8yZ/LXAB7FRRRQAVwv7UHjz4i/Cz9mj4ifE74P8AhRde8W%2BHPAur6p4W0NrGa6Go6jb2csttbGGBllmEkqInlxsHbdhSCQa7qs7xbol/4l8Mah4f0vxXqOhXN7aSQ2%2BtaQsDXVi7KQJohcRSxF1PIEkbpkfMrDIIB5d%2BxT8Wp/ih8M76y1b4heH9Z1Pw7qq6deaZonww1Pwc%2BhoLaCSKzuNK1S5nuYXCOJFdvLR4pYtiYG9/Yq88%2BA/7O2k/A688S%2BI7n4ieJPGPiTxfqMN54i8U%2BK3sxd3Rht0t4IhHY21tbRRRxoAqxwpks7MWZmY%2Bh0AFFFFAHy5%2B1R%2B1j8UP2cPi944sviVo3hLxF8L7D9nfxf49ttCt9EuE1V20QaWs9tcXMly9vNFOt9OAgtkKhEy75YV2/wCzP8X/AI%2Bap8XPGX7Ov7Sz%2BErzxR4Y8MeHvEseq%2BCtJubGykstWfUrdbYw3NzcuZYbjSLsGUSBZEeJvLjO5ag%2BMf7Cvh346fHVvjL48%2BO3jmXTZvBWp%2BEb74ewwaL/AGJd6NqS232%2B0kL6a16RO1pA7OLoOpQhGRGZD0n7O/7Luh/s%2B32teI5/ih4t8b%2BIdftbCyv/ABP42ubSS9NhYpItnZj7JbW8flRGe4cEoZHe5ld3dmzQB6fRRRQAV8ifGv8AaX/a28Ga7%2B0B4Et/CvgzxZe%2BAvD/AIU8SfDax0n4f6nfzrHqOq6lCEvLWK8eXUZ4F02OdTbC3JckKvyq1fXdeFy/sUeIYvjp42%2BP%2BhftofFbStW8b6RY6Zc2NlZ%2BGGtNNtrK4uZ7NLYS6K8n7o3l0oMzyl1nIk8wqhUA6v8AZU%2BLc3xl%2BFI8Taj8TtG8U6ja6rc2OrXWj%2BCL/wANmzuIm%2Ba1n0zUbie6tJ0UruSZgxDK21VYV6TXCfAP4B6B8AdC1mx0/wAW654j1XxN4gl1zxP4m8SS27Xuq38kMMHmyC2hhgjCwW9vCqRRRoqQoAuck93QAUUUUAfG37S37Xf7S37PHxmg%2BG2sp8M/Gt9rcEE3hGHTvC17aS%2BC7zUvEOmeHtIm1OV76YXUU7avOC0S2cjixuljDL5hi9x/ZV%2BL/wASPiMPH/w%2B%2BMR0SfxV8NPHjeGtZ1Xw1p01nYan5ml6dq1vcQ28088lvm11S3R42mlxJHJhiCMcLbf8E1fCTXXxDfxD%2B0v8TtZt/iTrx1zWLfUjoXmWepRXEM%2Bn3NtdRaWl0psHt7cWkbzSRRLCgZH5z6x8A/gLofwD8Patptl4v1zxJq3iLXpta8T%2BKPEr2xv9XvpI4ofOmFrBBAuyCC3gRIoo0WOCNQvBJAO6ooooAZc/afs0n2PZ52w%2BV5udu7HGcc4zXxB8Vv2uf20/hp8RNc%2BG1vbeA/GeveGL3w1b6t468EfBXX9Wj8OW%2BrNePe2EulWepT3dzNHDZWN0TFOn7u6haWBAYmk%2B3ruGS4tZbeG6kgeSNlWeIKXjJGAy7gVyOoyCPUGvnv4MfsBeIPgJ8Nrj4afDv9ur4xRR3WrPqc2s3ll4Tn1CW7leWS5nmmfQj9pkneXdJJOJHzGmwoBggHrPwE%2BIdl8Vvg74f%2BIVh8QNG8VJqeniR9f8P6TNYWl3ICVkKWs800tsVdWRoZJHeNlZWO5SB19cl8C/gv4S/Z9%2BF%2BnfCnwVc39xZWEt1cTX2q3Imur67urmW6urqZwqhpZrieaV9qqu6Q7VVcKOtoAKo%2BJ4fElz4b1C38G6nY2WryWUq6XeanYPdW0FwUIjklhjliaaNWwWRZIywBAdSdwvVm%2BMdBv/ABR4Wv8Aw7pfi3UtBuby1eKDWtHEBurFyOJohcRSxF1PIEkbocfMrDIoA%2BHvhv8At2fta/GD4p638EvhZpvw%2BTxnptrrt9J4z8V/C7WtDXVNM0i10WVLGXRLy%2BTUNPle78Q7EmnmePyoZLhIXWdAfsb4BfFrTfj58CfBXx10bTZbOz8a%2BEtN160s5n3PBFeWsdwsbEAZKiQAn1FeLav/AMEyPA%2Bta5ffEW7/AGlPimnxA1ZLy11r4k217pEOrX%2BmXVta202mFE00WcNsUsrRh5FtFKskCyrKHLMfoPwX4P8ADXw88HaT4A8GaTFp%2Bj6HpkGn6TYQ52W1tDGscUa55wqKqj6UAadFFFAHL/GnUfHGjfC3Wtb%2BHPiGx0vVrCzN1Dfah4PvfECJHGQ8oGnWM8FzeSNErqkUMgcuy4Vz8jfFvwl/4KI/H7xJ400PU/G9x4R8CeDNSnnXxB44vPgZ4imttYv4dfutIRLmVb6NPDM8lraWv7jVGklgeVY3zsCV9t/EzwZrvj3wlN4c8N/FLX/Bt5JLG8Wv%2BGYrF7uDawJVVv7a5gYMAVIeJuCcYOCPFbr/AIJzeFNQ8H3Hw21b9pD4m3fhjXNQmv8Ax5oE1xo4i8YXc9411cTX0q6aLiLzSywtHZy2sQhiSNUUbtwB9E0UUUAFFFFABRRRQAUUUUAFFFFABRRRQAUUUUAFFFFABRRRQAUUUUAFFFFABRRRQAUUUUAFFFFABRRRQAUUUUAFFFFABRRRQAUUUUAFFFFABRRRQAUUUUAFFFFABRRRQAUUUUAFFFFABRRRQAUUUUAFFFFABRRRQAUUUUAFFFFABRRRQAUUUUAFFFFABRRRQAUUUUAFFFFABRRRQAUUUUAFFFFABRRRQAUUUUAFFFFABRRRQAUUUUAFFFFABRRRQAUUUUAFFFFABRRRQAUUUUAFFFFABRRRQAUUUUAFFFFABRRRQAUUUUAFFFFABRRRQAUUUUAf/9k%3D\">"
      ]
     },
     "metadata": {
      "tags": []
     },
     "output_type": "display_data"
    }
   ],
   "source": [
    "s.run(tf.global_variables_initializer())\n",
    "\n",
    "BATCH_SIZE = 512\n",
    "EPOCHS = 40\n",
    "\n",
    "# for logging the progress right here in Jupyter (for those who don't have TensorBoard)\n",
    "simpleTrainingCurves = matplotlib_utils.SimpleTrainingCurves(\"cross-entropy\", \"accuracy\")\n",
    "\n",
    "for epoch in range(EPOCHS):  # we finish an epoch when we've looked at all training samples\n",
    "    \n",
    "    batch_losses = []\n",
    "    for batch_start in range(0, X_train_flat.shape[0], BATCH_SIZE):  # data is already shuffled\n",
    "        _, batch_loss = s.run([step, loss], {input_X: X_train_flat[batch_start:batch_start+BATCH_SIZE], \n",
    "                                             input_y: y_train_oh[batch_start:batch_start+BATCH_SIZE]})\n",
    "        # collect batch losses, this is almost free as we need a forward pass for backprop anyway\n",
    "        batch_losses.append(batch_loss)\n",
    "\n",
    "    train_loss = np.mean(batch_losses)\n",
    "    val_loss = s.run(loss, {input_X: X_val_flat, input_y: y_val_oh})  # this part is usually small\n",
    "    train_accuracy = accuracy_score(y_train, s.run(classes, {input_X: X_train_flat}))  # this is slow and usually skipped\n",
    "    valid_accuracy = accuracy_score(y_val, s.run(classes, {input_X: X_val_flat}))  \n",
    "    simpleTrainingCurves.add(train_loss, val_loss, train_accuracy, valid_accuracy)"
   ]
  },
  {
   "cell_type": "markdown",
   "metadata": {
    "Collapsed": "false",
    "colab_type": "text",
    "id": "VMoQdcamdflG"
   },
   "source": [
    "# Submit a linear model"
   ]
  },
  {
   "cell_type": "code",
   "execution_count": null,
   "metadata": {
    "Collapsed": "false",
    "colab": {},
    "colab_type": "code",
    "id": "7rLbD3S2dflG"
   },
   "outputs": [],
   "source": [
    "## GRADED PART, DO NOT CHANGE!\n",
    "# Testing shapes \n",
    "grader.set_answer(\"9XaAS\", grading_utils.get_tensors_shapes_string([W, b, input_X, input_y, logits, probas, classes]))\n",
    "# Validation loss\n",
    "grader.set_answer(\"vmogZ\", s.run(loss, {input_X: X_val_flat, input_y: y_val_oh}))\n",
    "# Validation accuracy\n",
    "grader.set_answer(\"RMv95\", accuracy_score(y_val, s.run(classes, {input_X: X_val_flat})))"
   ]
  },
  {
   "cell_type": "code",
   "execution_count": null,
   "metadata": {
    "Collapsed": "false",
    "colab": {},
    "colab_type": "code",
    "id": "lD8YCgfHdflI"
   },
   "outputs": [],
   "source": [
    "# you can make submission with answers so far to check yourself at this stage\n",
    "grader.submit(COURSERA_EMAIL, COURSERA_TOKEN)"
   ]
  },
  {
   "cell_type": "markdown",
   "metadata": {
    "Collapsed": "false",
    "colab_type": "text",
    "id": "caQYKjmwdflL"
   },
   "source": [
    "# MLP with hidden layers"
   ]
  },
  {
   "cell_type": "markdown",
   "metadata": {
    "Collapsed": "false",
    "colab_type": "text",
    "id": "jlrUEY7zdflL"
   },
   "source": [
    "Previously we've coded a dense layer with matrix multiplication by hand. \n",
    "But this is not convenient, you have to create a lot of variables and your code becomes a mess. \n",
    "In TensorFlow there's an easier way to make a dense layer:\n",
    "```python\n",
    "hidden1 = tf.layers.dense(inputs, 256, activation=tf.nn.sigmoid)\n",
    "```\n",
    "\n",
    "That will create all the necessary variables automatically.\n",
    "Here you can also choose an activation function (remember that we need it for a hidden layer!).\n",
    "\n",
    "Now define the MLP with 2 hidden layers and restart training with the cell above.\n",
    "\n",
    "You're aiming for ~0.97 validation accuracy here."
   ]
  },
  {
   "cell_type": "code",
   "execution_count": null,
   "metadata": {
    "Collapsed": "false",
    "colab": {},
    "colab_type": "code",
    "id": "MtFS9yTKdflM"
   },
   "outputs": [],
   "source": [
    "# write the code here to get a new `step` operation and then run the cell with training loop above.\n",
    "# name your variables in the same way (e.g. logits, probas, classes, etc) for safety.\n",
    "hidden = tf.layers.dense(input_X, 256, activation=tf.nn.relu)\n",
    "logits = tf.layers.dense(hidden, 10)\n",
    "probas = tf.nn.softmax(logits) # apply tf.nn.softmax to logits\n",
    "classes = tf.argmax(probas, axis=-1) # apply tf.argmax to find a class index with highest probability\n",
    "\n",
    "# Loss should be a scalar number: average loss over all the objects with tf.reduce_mean().\n",
    "# Use tf.nn.softmax_cross_entropy_with_logits on top of one-hot encoded input_y and logits.\n",
    "# It is identical to calculating cross-entropy on top of probas, but is more numerically friendly (read the docs).\n",
    "loss = tf.reduce_mean(\n",
    "    tf.nn.softmax_cross_entropy_with_logits(labels=input_y, logits=logits)\n",
    ") # cross-entropy loss\n",
    "\n",
    "# Use a default tf.train.AdamOptimizer to get an SGD step\n",
    "step = tf.train.AdamOptimizer().minimize(loss) # optimizer step that minimizes the loss"
   ]
  },
  {
   "cell_type": "markdown",
   "metadata": {
    "Collapsed": "false",
    "colab_type": "text",
    "id": "3IM9SSAsdflO"
   },
   "source": [
    "# Submit the MLP with 2 hidden layers\n",
    "Run these cells after training the MLP with 2 hidden layers"
   ]
  },
  {
   "cell_type": "code",
   "execution_count": null,
   "metadata": {
    "Collapsed": "false",
    "colab": {},
    "colab_type": "code",
    "id": "58mht9mkdflO"
   },
   "outputs": [],
   "source": [
    "## GRADED PART, DO NOT CHANGE!\n",
    "# Validation loss for MLP\n",
    "grader.set_answer(\"i8bgs\", s.run(loss, {input_X: X_val_flat, input_y: y_val_oh}))\n",
    "# Validation accuracy for MLP\n",
    "grader.set_answer(\"rE763\", accuracy_score(y_val, s.run(classes, {input_X: X_val_flat})))"
   ]
  },
  {
   "cell_type": "code",
   "execution_count": null,
   "metadata": {
    "Collapsed": "false",
    "colab": {},
    "colab_type": "code",
    "id": "ubdEGGYzdflQ"
   },
   "outputs": [],
   "source": [
    "# you can make submission with answers so far to check yourself at this stage\n",
    "grader.submit(COURSERA_EMAIL, COURSERA_TOKEN)"
   ]
  },
  {
   "cell_type": "code",
   "execution_count": null,
   "metadata": {
    "Collapsed": "false",
    "colab": {},
    "colab_type": "code",
    "id": "jICPOSSgdflT"
   },
   "outputs": [],
   "source": []
  }
 ],
 "metadata": {
  "accelerator": "GPU",
  "colab": {
   "include_colab_link": true,
   "name": "digits_classification.ipynb",
   "provenance": [],
   "toc_visible": true
  },
  "kernelspec": {
   "display_name": "Python 3",
   "language": "python",
   "name": "python3"
  },
  "language_info": {
   "codemirror_mode": {
    "name": "ipython",
    "version": 3
   },
   "file_extension": ".py",
   "mimetype": "text/x-python",
   "name": "python",
   "nbconvert_exporter": "python",
   "pygments_lexer": "ipython3",
   "version": "3.7.4"
  }
 },
 "nbformat": 4,
 "nbformat_minor": 4
}
